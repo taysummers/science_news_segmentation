{
 "cells": [
  {
   "cell_type": "markdown",
   "metadata": {},
   "source": [
    "# Predicting the Segments\n",
    "\n",
    "## The following code was used to create and select the best classification model to use in predicting new consumers into a segment\n",
    "\n",
    "### The Process\n",
    "- Created 6 sets of models using different variations of features to include that were selected based on the EDA done in ProfilingSegments.ipynb\n",
    "- Used 3 Classification Models to assess and pick the best one:\n",
    "    - Logistic Regression\n",
    "    - Random Forest\n",
    "    - Gradient Boosting\n",
    "- Split the data into a Training and Test Set to score the models\n",
    "- Assessed the models using accuracy as the scoring method\n",
    "- Built a pipeline for predicting new segments\n",
    "\n",
    "### The Results\n",
    "- A trained model to be written into model.py and pickled for use in the web app\n",
    "- Gradient Boost Classifier Model 5 had the highest score, but when predicting new segments it was nearly impossible to be predicting into Segment 2. Added more features to pull apart Segment 0 and Segment 2 based on EDA done in ProfilingSegments.ipynb\n",
    "- Selected Gradient Boost Classifier Model 5a with a train accuracy 67% and test accuracy 68%\n",
    "    - Features: \n",
    "        - Gender (PPGENDER)\n",
    "        - Age (ppagecat)\n",
    "        - Education (PPEDUCAT)\n",
    "        - Interest in Science News (TOPICINT_e)\n",
    "        - Interest in Business/Finance News (TOPICINT_d)\n",
    "        - Interest in Government News (TOPICINT_a)\n",
    "        - Want to follow science news because they are curious about it (SCIWHY_e)\n",
    "        - Have made observations or collected data samples as part of a science research project (LIST1_b)\n",
    "        - Source type the get science news from (SOURCE1)\n",
    "    - Parameters, optimized using Grid Search:\n",
    "        - learning_rate: 0.1\n",
    "        - max_depth: 1\n",
    "        - n_estimators: 200\n",
    "        - subsample: 0.75\n",
    "        \n",
    "\n",
    "## Work Shown Below"
   ]
  },
  {
   "cell_type": "code",
   "execution_count": 1,
   "metadata": {},
   "outputs": [],
   "source": [
    "import pandas as pd\n",
    "import numpy as np\n",
    "import matplotlib.pyplot as plt\n",
    "% matplotlib inline\n",
    "from pipeline import *\n",
    "%autoreload\n",
    "\n",
    "from sklearn.mixture import GaussianMixture\n",
    "\n",
    "from sklearn.model_selection import train_test_split, cross_val_score, GridSearchCV\n",
    "from sklearn.linear_model import LogisticRegression\n",
    "from sklearn.ensemble import RandomForestClassifier, GradientBoostingClassifier"
   ]
  },
  {
   "cell_type": "code",
   "execution_count": 2,
   "metadata": {},
   "outputs": [],
   "source": [
    "path = '../data/2017 Pew Research Center Science and News Survey/Segmentation_data.csv'"
   ]
  },
  {
   "cell_type": "code",
   "execution_count": 3,
   "metadata": {},
   "outputs": [],
   "source": [
    "data, segment_data = get_cluster_data(path)\n",
    "gm3 = GaussianMixture(n_components = 3, covariance_type=  'spherical', random_state=20)\n",
    "gm3.fit(segment_data)\n",
    "labelsg3 = gm3.predict(segment_data)\n",
    "data['SEGMENT'] = labelsg3"
   ]
  },
  {
   "cell_type": "markdown",
   "metadata": {},
   "source": [
    "#### Train Test Split"
   ]
  },
  {
   "cell_type": "code",
   "execution_count": 4,
   "metadata": {},
   "outputs": [],
   "source": [
    "X = data.iloc[:, :-1]\n",
    "y = data.iloc[:, -1]"
   ]
  },
  {
   "cell_type": "code",
   "execution_count": 5,
   "metadata": {},
   "outputs": [],
   "source": [
    "X_train, X_test, y_train, y_test = train_test_split(X, y, test_size = .33, random_state = 20)"
   ]
  },
  {
   "cell_type": "markdown",
   "metadata": {},
   "source": [
    "## Feature Selection"
   ]
  },
  {
   "cell_type": "markdown",
   "metadata": {},
   "source": [
    "### Model 1\n",
    "- Taking age out doesnt improve model"
   ]
  },
  {
   "cell_type": "code",
   "execution_count": 6,
   "metadata": {},
   "outputs": [],
   "source": [
    "features1 = ['PPGENDER', 'TOPICINT_e', 'PPINCIMP', 'PPEDUCAT', 'ppagecat']"
   ]
  },
  {
   "cell_type": "code",
   "execution_count": 7,
   "metadata": {},
   "outputs": [],
   "source": [
    "X_train1 = X_train[features1]"
   ]
  },
  {
   "cell_type": "code",
   "execution_count": 8,
   "metadata": {},
   "outputs": [
    {
     "data": {
      "text/html": [
       "<div>\n",
       "<style scoped>\n",
       "    .dataframe tbody tr th:only-of-type {\n",
       "        vertical-align: middle;\n",
       "    }\n",
       "\n",
       "    .dataframe tbody tr th {\n",
       "        vertical-align: top;\n",
       "    }\n",
       "\n",
       "    .dataframe thead th {\n",
       "        text-align: right;\n",
       "    }\n",
       "</style>\n",
       "<table border=\"1\" class=\"dataframe\">\n",
       "  <thead>\n",
       "    <tr style=\"text-align: right;\">\n",
       "      <th></th>\n",
       "      <th>PPGENDER</th>\n",
       "      <th>TOPICINT_e</th>\n",
       "      <th>PPINCIMP</th>\n",
       "      <th>PPEDUCAT</th>\n",
       "      <th>ppagecat</th>\n",
       "    </tr>\n",
       "    <tr>\n",
       "      <th>CaseID</th>\n",
       "      <th></th>\n",
       "      <th></th>\n",
       "      <th></th>\n",
       "      <th></th>\n",
       "      <th></th>\n",
       "    </tr>\n",
       "  </thead>\n",
       "  <tbody>\n",
       "    <tr>\n",
       "      <th>3846</th>\n",
       "      <td>1</td>\n",
       "      <td>1.0</td>\n",
       "      <td>3.0</td>\n",
       "      <td>4</td>\n",
       "      <td>5</td>\n",
       "    </tr>\n",
       "    <tr>\n",
       "      <th>3293</th>\n",
       "      <td>1</td>\n",
       "      <td>2.0</td>\n",
       "      <td>5.0</td>\n",
       "      <td>4</td>\n",
       "      <td>3</td>\n",
       "    </tr>\n",
       "    <tr>\n",
       "      <th>317</th>\n",
       "      <td>2</td>\n",
       "      <td>2.0</td>\n",
       "      <td>4.0</td>\n",
       "      <td>4</td>\n",
       "      <td>3</td>\n",
       "    </tr>\n",
       "    <tr>\n",
       "      <th>1119</th>\n",
       "      <td>2</td>\n",
       "      <td>2.0</td>\n",
       "      <td>4.0</td>\n",
       "      <td>3</td>\n",
       "      <td>7</td>\n",
       "    </tr>\n",
       "    <tr>\n",
       "      <th>2347</th>\n",
       "      <td>2</td>\n",
       "      <td>2.0</td>\n",
       "      <td>3.0</td>\n",
       "      <td>2</td>\n",
       "      <td>2</td>\n",
       "    </tr>\n",
       "  </tbody>\n",
       "</table>\n",
       "</div>"
      ],
      "text/plain": [
       "        PPGENDER  TOPICINT_e  PPINCIMP  PPEDUCAT  ppagecat\n",
       "CaseID                                                    \n",
       "3846           1         1.0       3.0         4         5\n",
       "3293           1         2.0       5.0         4         3\n",
       "317            2         2.0       4.0         4         3\n",
       "1119           2         2.0       4.0         3         7\n",
       "2347           2         2.0       3.0         2         2"
      ]
     },
     "execution_count": 8,
     "metadata": {},
     "output_type": "execute_result"
    }
   ],
   "source": [
    "X_train1.head()"
   ]
  },
  {
   "cell_type": "code",
   "execution_count": 9,
   "metadata": {
    "scrolled": true
   },
   "outputs": [
    {
     "name": "stderr",
     "output_type": "stream",
     "text": [
      "/anaconda3/lib/python3.6/site-packages/ipykernel_launcher.py:2: SettingWithCopyWarning: \n",
      "A value is trying to be set on a copy of a slice from a DataFrame.\n",
      "Try using .loc[row_indexer,col_indexer] = value instead\n",
      "\n",
      "See the caveats in the documentation: http://pandas.pydata.org/pandas-docs/stable/indexing.html#indexing-view-versus-copy\n",
      "  \n"
     ]
    }
   ],
   "source": [
    "# Gender 1: Male 0: Female\n",
    "X_train1['PPGENDER'] = X_train1['PPGENDER'].apply(lambda x: 1 if x==1 else 0)"
   ]
  },
  {
   "cell_type": "code",
   "execution_count": 10,
   "metadata": {},
   "outputs": [],
   "source": [
    "topic_dummies = pd.get_dummies(X_train1['TOPICINT_e'], drop_first = True)\n",
    "\n",
    "topic_dummies.rename(columns = {2.0: 'SciNews: Somewhat Interested',\n",
    "                               3.0: 'SciNews: Not Too Interested',\n",
    "                               4.0: 'SciNews: Not At All Interested'}, inplace = True)\n",
    "\n",
    "age_dummies = pd.get_dummies(X_train1['ppagecat'], drop_first = True) \n",
    "age_dummies.rename(columns = {2: '25-34', 3: '35-44', 4: '45-54',\n",
    "                              5: '55-64', 6: '65-74', 7: '75+'}, inplace = True)\n",
    "\n",
    "inc_dummies = pd.get_dummies(X_train1['PPINCIMP'], drop_first = True)\n",
    "inc_dummies.rename(columns = {2.0: '20-40k', 3.0: '40-60k', 4.0: '60-85k', 5.0: '85-125k', \n",
    "                              6.0: '125-175k', 7.0:'175-200k', 8.0: '200k+'}, inplace = True)\n",
    "\n",
    "edu_dummies = pd.get_dummies(X_train1['PPEDUCAT'], drop_first = True)\n",
    "edu_dummies.rename(columns = {2: 'Completed HS', 3: 'Some College', 4: 'Bachelors+'}, inplace = True)"
   ]
  },
  {
   "cell_type": "code",
   "execution_count": 11,
   "metadata": {},
   "outputs": [],
   "source": [
    "X_train1 = pd.concat((X_train1, topic_dummies, inc_dummies, age_dummies, edu_dummies), axis = 1)\n",
    "X_train1.drop(labels = ['TOPICINT_e', 'PPINCIMP', 'PPEDUCAT', 'ppagecat'], axis = 1, inplace = True)"
   ]
  },
  {
   "cell_type": "code",
   "execution_count": 12,
   "metadata": {},
   "outputs": [
    {
     "data": {
      "text/html": [
       "<div>\n",
       "<style scoped>\n",
       "    .dataframe tbody tr th:only-of-type {\n",
       "        vertical-align: middle;\n",
       "    }\n",
       "\n",
       "    .dataframe tbody tr th {\n",
       "        vertical-align: top;\n",
       "    }\n",
       "\n",
       "    .dataframe thead th {\n",
       "        text-align: right;\n",
       "    }\n",
       "</style>\n",
       "<table border=\"1\" class=\"dataframe\">\n",
       "  <thead>\n",
       "    <tr style=\"text-align: right;\">\n",
       "      <th></th>\n",
       "      <th>PPGENDER</th>\n",
       "      <th>SciNews: Somewhat Interested</th>\n",
       "      <th>SciNews: Not Too Interested</th>\n",
       "      <th>SciNews: Not At All Interested</th>\n",
       "      <th>20-40k</th>\n",
       "      <th>40-60k</th>\n",
       "      <th>60-85k</th>\n",
       "      <th>85-125k</th>\n",
       "      <th>125-175k</th>\n",
       "      <th>175-200k</th>\n",
       "      <th>200k+</th>\n",
       "      <th>25-34</th>\n",
       "      <th>35-44</th>\n",
       "      <th>45-54</th>\n",
       "      <th>55-64</th>\n",
       "      <th>65-74</th>\n",
       "      <th>75+</th>\n",
       "      <th>Completed HS</th>\n",
       "      <th>Some College</th>\n",
       "      <th>Bachelors+</th>\n",
       "    </tr>\n",
       "    <tr>\n",
       "      <th>CaseID</th>\n",
       "      <th></th>\n",
       "      <th></th>\n",
       "      <th></th>\n",
       "      <th></th>\n",
       "      <th></th>\n",
       "      <th></th>\n",
       "      <th></th>\n",
       "      <th></th>\n",
       "      <th></th>\n",
       "      <th></th>\n",
       "      <th></th>\n",
       "      <th></th>\n",
       "      <th></th>\n",
       "      <th></th>\n",
       "      <th></th>\n",
       "      <th></th>\n",
       "      <th></th>\n",
       "      <th></th>\n",
       "      <th></th>\n",
       "      <th></th>\n",
       "    </tr>\n",
       "  </thead>\n",
       "  <tbody>\n",
       "    <tr>\n",
       "      <th>3846</th>\n",
       "      <td>1</td>\n",
       "      <td>0</td>\n",
       "      <td>0</td>\n",
       "      <td>0</td>\n",
       "      <td>0</td>\n",
       "      <td>1</td>\n",
       "      <td>0</td>\n",
       "      <td>0</td>\n",
       "      <td>0</td>\n",
       "      <td>0</td>\n",
       "      <td>0</td>\n",
       "      <td>0</td>\n",
       "      <td>0</td>\n",
       "      <td>0</td>\n",
       "      <td>1</td>\n",
       "      <td>0</td>\n",
       "      <td>0</td>\n",
       "      <td>0</td>\n",
       "      <td>0</td>\n",
       "      <td>1</td>\n",
       "    </tr>\n",
       "    <tr>\n",
       "      <th>3293</th>\n",
       "      <td>1</td>\n",
       "      <td>1</td>\n",
       "      <td>0</td>\n",
       "      <td>0</td>\n",
       "      <td>0</td>\n",
       "      <td>0</td>\n",
       "      <td>0</td>\n",
       "      <td>1</td>\n",
       "      <td>0</td>\n",
       "      <td>0</td>\n",
       "      <td>0</td>\n",
       "      <td>0</td>\n",
       "      <td>1</td>\n",
       "      <td>0</td>\n",
       "      <td>0</td>\n",
       "      <td>0</td>\n",
       "      <td>0</td>\n",
       "      <td>0</td>\n",
       "      <td>0</td>\n",
       "      <td>1</td>\n",
       "    </tr>\n",
       "    <tr>\n",
       "      <th>317</th>\n",
       "      <td>0</td>\n",
       "      <td>1</td>\n",
       "      <td>0</td>\n",
       "      <td>0</td>\n",
       "      <td>0</td>\n",
       "      <td>0</td>\n",
       "      <td>1</td>\n",
       "      <td>0</td>\n",
       "      <td>0</td>\n",
       "      <td>0</td>\n",
       "      <td>0</td>\n",
       "      <td>0</td>\n",
       "      <td>1</td>\n",
       "      <td>0</td>\n",
       "      <td>0</td>\n",
       "      <td>0</td>\n",
       "      <td>0</td>\n",
       "      <td>0</td>\n",
       "      <td>0</td>\n",
       "      <td>1</td>\n",
       "    </tr>\n",
       "    <tr>\n",
       "      <th>1119</th>\n",
       "      <td>0</td>\n",
       "      <td>1</td>\n",
       "      <td>0</td>\n",
       "      <td>0</td>\n",
       "      <td>0</td>\n",
       "      <td>0</td>\n",
       "      <td>1</td>\n",
       "      <td>0</td>\n",
       "      <td>0</td>\n",
       "      <td>0</td>\n",
       "      <td>0</td>\n",
       "      <td>0</td>\n",
       "      <td>0</td>\n",
       "      <td>0</td>\n",
       "      <td>0</td>\n",
       "      <td>0</td>\n",
       "      <td>1</td>\n",
       "      <td>0</td>\n",
       "      <td>1</td>\n",
       "      <td>0</td>\n",
       "    </tr>\n",
       "    <tr>\n",
       "      <th>2347</th>\n",
       "      <td>0</td>\n",
       "      <td>1</td>\n",
       "      <td>0</td>\n",
       "      <td>0</td>\n",
       "      <td>0</td>\n",
       "      <td>1</td>\n",
       "      <td>0</td>\n",
       "      <td>0</td>\n",
       "      <td>0</td>\n",
       "      <td>0</td>\n",
       "      <td>0</td>\n",
       "      <td>1</td>\n",
       "      <td>0</td>\n",
       "      <td>0</td>\n",
       "      <td>0</td>\n",
       "      <td>0</td>\n",
       "      <td>0</td>\n",
       "      <td>1</td>\n",
       "      <td>0</td>\n",
       "      <td>0</td>\n",
       "    </tr>\n",
       "  </tbody>\n",
       "</table>\n",
       "</div>"
      ],
      "text/plain": [
       "        PPGENDER  SciNews: Somewhat Interested  SciNews: Not Too Interested  \\\n",
       "CaseID                                                                        \n",
       "3846           1                             0                            0   \n",
       "3293           1                             1                            0   \n",
       "317            0                             1                            0   \n",
       "1119           0                             1                            0   \n",
       "2347           0                             1                            0   \n",
       "\n",
       "        SciNews: Not At All Interested  20-40k  40-60k  60-85k  85-125k  \\\n",
       "CaseID                                                                    \n",
       "3846                                 0       0       1       0        0   \n",
       "3293                                 0       0       0       0        1   \n",
       "317                                  0       0       0       1        0   \n",
       "1119                                 0       0       0       1        0   \n",
       "2347                                 0       0       1       0        0   \n",
       "\n",
       "        125-175k  175-200k  200k+  25-34  35-44  45-54  55-64  65-74  75+  \\\n",
       "CaseID                                                                      \n",
       "3846           0         0      0      0      0      0      1      0    0   \n",
       "3293           0         0      0      0      1      0      0      0    0   \n",
       "317            0         0      0      0      1      0      0      0    0   \n",
       "1119           0         0      0      0      0      0      0      0    1   \n",
       "2347           0         0      0      1      0      0      0      0    0   \n",
       "\n",
       "        Completed HS  Some College  Bachelors+  \n",
       "CaseID                                          \n",
       "3846               0             0           1  \n",
       "3293               0             0           1  \n",
       "317                0             0           1  \n",
       "1119               0             1           0  \n",
       "2347               1             0           0  "
      ]
     },
     "execution_count": 12,
     "metadata": {},
     "output_type": "execute_result"
    }
   ],
   "source": [
    "X_train1.head()"
   ]
  },
  {
   "cell_type": "markdown",
   "metadata": {},
   "source": [
    "#### Logistic Regression"
   ]
  },
  {
   "cell_type": "code",
   "execution_count": 13,
   "metadata": {},
   "outputs": [],
   "source": [
    "log_reg = LogisticRegression().fit(X_train1, y_train)"
   ]
  },
  {
   "cell_type": "code",
   "execution_count": 14,
   "metadata": {},
   "outputs": [
    {
     "data": {
      "text/plain": [
       "0.6610537751222162"
      ]
     },
     "execution_count": 14,
     "metadata": {},
     "output_type": "execute_result"
    }
   ],
   "source": [
    "log_reg.score(X_train1, y_train)"
   ]
  },
  {
   "cell_type": "code",
   "execution_count": 15,
   "metadata": {},
   "outputs": [
    {
     "data": {
      "text/plain": [
       "0.6567288043878495"
      ]
     },
     "execution_count": 15,
     "metadata": {},
     "output_type": "execute_result"
    }
   ],
   "source": [
    "cv_lr = cross_val_score(log_reg, X_train1, y_train, scoring = 'accuracy', cv = 5).mean()\n",
    "cv_lr"
   ]
  },
  {
   "cell_type": "markdown",
   "metadata": {},
   "source": [
    "#### Random Forest\n",
    "- Grid Search Best Parameters: \n",
    "    - Max depth: 10\n",
    "    - n_estimators: 100"
   ]
  },
  {
   "cell_type": "code",
   "execution_count": 16,
   "metadata": {},
   "outputs": [],
   "source": [
    "rf = RandomForestClassifier(n_estimators = 100, max_depth=10).fit(X_train1, y_train)"
   ]
  },
  {
   "cell_type": "code",
   "execution_count": 17,
   "metadata": {},
   "outputs": [
    {
     "data": {
      "text/plain": [
       "0.621963725957921"
      ]
     },
     "execution_count": 17,
     "metadata": {},
     "output_type": "execute_result"
    }
   ],
   "source": [
    "cv_rf = cross_val_score(rf, X_train1, y_train, scoring = 'accuracy', cv = 5).mean()\n",
    "cv_rf"
   ]
  },
  {
   "cell_type": "markdown",
   "metadata": {},
   "source": [
    "##### Grid Search"
   ]
  },
  {
   "cell_type": "code",
   "execution_count": 18,
   "metadata": {},
   "outputs": [],
   "source": [
    "# rf_params ={'n_estimators': [50, 100, 200, 500], 'max_depth' : [1, 2, 10, 50]}\n",
    "# gs_rf = GridSearchCV(rf, rf_params, scoring = 'accuracy', cv = 5)\n",
    "# gs_rf.fit(X_train, y_train)"
   ]
  },
  {
   "cell_type": "code",
   "execution_count": 19,
   "metadata": {},
   "outputs": [],
   "source": [
    "# gs_rf.best_params_\n",
    "# # Best Params: {'max_depth': 10, 'n_estimators': 100}\n",
    "# gs_rf.best_score_"
   ]
  },
  {
   "cell_type": "markdown",
   "metadata": {},
   "source": [
    "#### Gradient Boost\n",
    "- Gird Search Best Params\n",
    "    - Learning Rate: .1\n",
    "    - max_depth: 1\n",
    "    - n_etimators: 100\n",
    "    - subsample = .25"
   ]
  },
  {
   "cell_type": "code",
   "execution_count": 20,
   "metadata": {},
   "outputs": [],
   "source": [
    "gb = GradientBoostingClassifier(learning_rate=.1, max_depth = 1, n_estimators = 100, subsample=.25).fit(X_train1, y_train)"
   ]
  },
  {
   "cell_type": "code",
   "execution_count": 21,
   "metadata": {},
   "outputs": [
    {
     "data": {
      "text/plain": [
       "0.6588810429114612"
      ]
     },
     "execution_count": 21,
     "metadata": {},
     "output_type": "execute_result"
    }
   ],
   "source": [
    "gb.score(X_train1, y_train)"
   ]
  },
  {
   "cell_type": "code",
   "execution_count": 22,
   "metadata": {},
   "outputs": [
    {
     "data": {
      "text/plain": [
       "0.6551013073255698"
      ]
     },
     "execution_count": 22,
     "metadata": {},
     "output_type": "execute_result"
    }
   ],
   "source": [
    "cv_gb = cross_val_score(gb, X_train1, y_train, scoring = 'accuracy', cv = 5).mean()\n",
    "cv_gb"
   ]
  },
  {
   "cell_type": "markdown",
   "metadata": {},
   "source": [
    "##### Grid Search"
   ]
  },
  {
   "cell_type": "code",
   "execution_count": 23,
   "metadata": {},
   "outputs": [],
   "source": [
    "# gb_params ={'learning_rate': [.001, .01, .1], 'n_estimators' : [50, 100, 200],\n",
    "#            'subsample': [.25, .5, .75, 1], 'max_depth': [1, 2, 10, 50]}\n",
    "# gs_gb = GridSearchCV(gb, gb_params, scoring = 'accuracy', cv = 5)\n",
    "# gs_gb.fit(X_train, y_train)"
   ]
  },
  {
   "cell_type": "code",
   "execution_count": 24,
   "metadata": {},
   "outputs": [],
   "source": [
    "# gs_gb.best_params_\n",
    "# # Best Params: {'learning_rate': 0.1, 'max_depth': 1, 'n_estimators': 100, 'subsample': 0.25}\n",
    "# gs_gb.best_score_"
   ]
  },
  {
   "cell_type": "markdown",
   "metadata": {},
   "source": [
    "### Model 2\n",
    "- Added SCIWHY_e\n",
    "- Added TOPICINT_d"
   ]
  },
  {
   "cell_type": "code",
   "execution_count": 25,
   "metadata": {},
   "outputs": [],
   "source": [
    "features2 = ['PPGENDER', 'TOPICINT_e', 'ppagecat', 'PPINCIMP', 'PPEDUCAT', 'SCIWHY_e', 'TOPICINT_d']"
   ]
  },
  {
   "cell_type": "code",
   "execution_count": 26,
   "metadata": {},
   "outputs": [],
   "source": [
    "X_train2 = X_train[features2]\n",
    "X_test2 = X_test[features2]"
   ]
  },
  {
   "cell_type": "code",
   "execution_count": 27,
   "metadata": {},
   "outputs": [
    {
     "name": "stderr",
     "output_type": "stream",
     "text": [
      "/anaconda3/lib/python3.6/site-packages/ipykernel_launcher.py:3: SettingWithCopyWarning: \n",
      "A value is trying to be set on a copy of a slice from a DataFrame.\n",
      "Try using .loc[row_indexer,col_indexer] = value instead\n",
      "\n",
      "See the caveats in the documentation: http://pandas.pydata.org/pandas-docs/stable/indexing.html#indexing-view-versus-copy\n",
      "  This is separate from the ipykernel package so we can avoid doing imports until\n"
     ]
    }
   ],
   "source": [
    "## TRAIN\n",
    "# Gender 1: Male 0: Female\n",
    "X_train2['PPGENDER'] = X_train2['PPGENDER'].apply(lambda x: 1 if x==1 else 0)\n",
    "\n",
    "topic_dummies = pd.get_dummies(X_train2['TOPICINT_e'], drop_first = True)\n",
    "topic_dummies.rename(columns = {2.0: 'SciNews: Somewhat Interested',\n",
    "                               3.0: 'SciNews: Not Too Interested',\n",
    "                               4.0: 'SciNews: Not At All Interested'}, inplace = True)\n",
    "\n",
    "age_dummies = pd.get_dummies(X_train2['ppagecat'], drop_first = True) \n",
    "age_dummies.rename(columns = {2: '25-34', 3: '35-44', 4: '45-54',\n",
    "                              5: '55-64', 6: '65-74', 7: '75+'}, inplace = True)\n",
    "\n",
    "inc_dummies = pd.get_dummies(X_train2['PPINCIMP'], drop_first = True)\n",
    "inc_dummies.rename(columns = {2.0: '20-40k', 3.0: '40-60k', 4.0: '60-85k', 5.0: '85-125k', \n",
    "                              6.0: '125-175k', 7.0:'175-200k', 8.0: '200k+'}, inplace = True)\n",
    "\n",
    "edu_dummies = pd.get_dummies(X_train2['PPEDUCAT'], drop_first = True)\n",
    "edu_dummies.rename(columns = {2: 'Completed HS', 3: 'Some College', 4: 'Bachelors+'}, inplace = True)\n",
    "\n",
    "sci_why_dummies = pd.get_dummies(X_train2['SCIWHY_e'], drop_first = True)\n",
    "sci_why_dummies.rename(columns = {2.0: 'Curious about what\\'s happening in science minor reason',\n",
    "                                 3.0: 'Curious about what\\'s happening in science not a reason'}, inplace = True)\n",
    "\n",
    "topicbus_dummies = pd.get_dummies(X_train2['TOPICINT_d'], drop_first = True)\n",
    "\n",
    "topicbus_dummies.rename(columns = {2.0: 'BusNews: Somewhat Interested',\n",
    "                               3.0: 'BusNews: Not Too Interested',\n",
    "                               4.0: 'BusNews: Not At All Interested'}, inplace = True)"
   ]
  },
  {
   "cell_type": "code",
   "execution_count": 28,
   "metadata": {},
   "outputs": [],
   "source": [
    "X_train2 = pd.concat((X_train2, topic_dummies, age_dummies, inc_dummies, edu_dummies, \n",
    "                     sci_why_dummies, topicbus_dummies), axis = 1)\n",
    "\n",
    "X_train2.drop(labels = ['TOPICINT_e', 'ppagecat', 'PPINCIMP', 'PPEDUCAT', 'TOPICINT_d',\n",
    "                       'SCIWHY_e'], axis = 1, inplace = True)"
   ]
  },
  {
   "cell_type": "markdown",
   "metadata": {},
   "source": [
    "#### Logistic Regression 2"
   ]
  },
  {
   "cell_type": "code",
   "execution_count": 29,
   "metadata": {},
   "outputs": [
    {
     "data": {
      "text/plain": [
       "0.6768185129211666"
      ]
     },
     "execution_count": 29,
     "metadata": {},
     "output_type": "execute_result"
    }
   ],
   "source": [
    "log_reg2 = LogisticRegression().fit(X_train2, y_train)\n",
    "cv_lr2 = cross_val_score(log_reg2, X_train2, y_train, scoring = 'accuracy', cv = 5).mean()\n",
    "cv_lr2"
   ]
  },
  {
   "cell_type": "markdown",
   "metadata": {},
   "source": [
    "#### Random Forest 2"
   ]
  },
  {
   "cell_type": "code",
   "execution_count": 30,
   "metadata": {},
   "outputs": [
    {
     "data": {
      "text/plain": [
       "0.6594639420844846"
      ]
     },
     "execution_count": 30,
     "metadata": {},
     "output_type": "execute_result"
    }
   ],
   "source": [
    "rf2 = RandomForestClassifier(n_estimators = 100, max_depth=10).fit(X_train2, y_train)\n",
    "cv_rf2 = cross_val_score(rf2, X_train2, y_train, scoring = 'accuracy', cv = 5).mean()\n",
    "cv_rf2"
   ]
  },
  {
   "cell_type": "markdown",
   "metadata": {},
   "source": [
    "#### Gradient Boost 2"
   ]
  },
  {
   "cell_type": "code",
   "execution_count": 31,
   "metadata": {},
   "outputs": [],
   "source": [
    "## Boosted using Grid Search"
   ]
  },
  {
   "cell_type": "code",
   "execution_count": 32,
   "metadata": {},
   "outputs": [
    {
     "data": {
      "text/plain": [
       "0.6730200165216752"
      ]
     },
     "execution_count": 32,
     "metadata": {},
     "output_type": "execute_result"
    }
   ],
   "source": [
    "gb2 = GradientBoostingClassifier(learning_rate=.1, max_depth = 1, n_estimators = 100, subsample=.25).fit(X_train2, y_train)\n",
    "cv_gb2 = cross_val_score(gb2, X_train2, y_train, scoring = 'accuracy', cv = 5).mean()\n",
    "cv_gb2"
   ]
  },
  {
   "cell_type": "markdown",
   "metadata": {},
   "source": [
    "##### GB2 Grid Search"
   ]
  },
  {
   "cell_type": "code",
   "execution_count": 33,
   "metadata": {
    "scrolled": false
   },
   "outputs": [],
   "source": [
    "# gb2_params ={'learning_rate': [.01, .1], 'n_estimators' : [50, 100, 200],\n",
    "#            'subsample': [.25, .5, .75], 'max_depth': [1, 2, 10]}\n",
    "# gs_gb2 = GridSearchCV(gb2, gb2_params, scoring = 'accuracy', cv = 5)\n",
    "# gs_gb2.fit(X_train2, y_train)"
   ]
  },
  {
   "cell_type": "code",
   "execution_count": 34,
   "metadata": {},
   "outputs": [],
   "source": [
    "#gs_gb2.best_params_"
   ]
  },
  {
   "cell_type": "code",
   "execution_count": 35,
   "metadata": {},
   "outputs": [],
   "source": [
    "# Best Params {'learning_rate': 0.1, 'max_depth': 1, 'n_estimators': 100, 'subsample': 0.25}\n",
    "#gs_gb2.best_score_"
   ]
  },
  {
   "cell_type": "markdown",
   "metadata": {},
   "source": [
    "### Model 3"
   ]
  },
  {
   "cell_type": "code",
   "execution_count": 36,
   "metadata": {},
   "outputs": [],
   "source": [
    "features3 = ['PPGENDER', 'TOPICINT_e_t2b', 'ppagecat_short', 'PPINCIMP', 'PPEDUCAT']"
   ]
  },
  {
   "cell_type": "code",
   "execution_count": 37,
   "metadata": {},
   "outputs": [],
   "source": [
    "X_train3 = X_train[features3]"
   ]
  },
  {
   "cell_type": "code",
   "execution_count": 38,
   "metadata": {},
   "outputs": [
    {
     "data": {
      "text/html": [
       "<div>\n",
       "<style scoped>\n",
       "    .dataframe tbody tr th:only-of-type {\n",
       "        vertical-align: middle;\n",
       "    }\n",
       "\n",
       "    .dataframe tbody tr th {\n",
       "        vertical-align: top;\n",
       "    }\n",
       "\n",
       "    .dataframe thead th {\n",
       "        text-align: right;\n",
       "    }\n",
       "</style>\n",
       "<table border=\"1\" class=\"dataframe\">\n",
       "  <thead>\n",
       "    <tr style=\"text-align: right;\">\n",
       "      <th></th>\n",
       "      <th>PPGENDER</th>\n",
       "      <th>TOPICINT_e_t2b</th>\n",
       "      <th>ppagecat_short</th>\n",
       "      <th>PPINCIMP</th>\n",
       "      <th>PPEDUCAT</th>\n",
       "    </tr>\n",
       "    <tr>\n",
       "      <th>CaseID</th>\n",
       "      <th></th>\n",
       "      <th></th>\n",
       "      <th></th>\n",
       "      <th></th>\n",
       "      <th></th>\n",
       "    </tr>\n",
       "  </thead>\n",
       "  <tbody>\n",
       "    <tr>\n",
       "      <th>3846</th>\n",
       "      <td>1</td>\n",
       "      <td>1.0</td>\n",
       "      <td>3</td>\n",
       "      <td>3.0</td>\n",
       "      <td>4</td>\n",
       "    </tr>\n",
       "    <tr>\n",
       "      <th>3293</th>\n",
       "      <td>1</td>\n",
       "      <td>1.0</td>\n",
       "      <td>2</td>\n",
       "      <td>5.0</td>\n",
       "      <td>4</td>\n",
       "    </tr>\n",
       "    <tr>\n",
       "      <th>317</th>\n",
       "      <td>2</td>\n",
       "      <td>1.0</td>\n",
       "      <td>2</td>\n",
       "      <td>4.0</td>\n",
       "      <td>4</td>\n",
       "    </tr>\n",
       "    <tr>\n",
       "      <th>1119</th>\n",
       "      <td>2</td>\n",
       "      <td>1.0</td>\n",
       "      <td>4</td>\n",
       "      <td>4.0</td>\n",
       "      <td>3</td>\n",
       "    </tr>\n",
       "    <tr>\n",
       "      <th>2347</th>\n",
       "      <td>2</td>\n",
       "      <td>1.0</td>\n",
       "      <td>1</td>\n",
       "      <td>3.0</td>\n",
       "      <td>2</td>\n",
       "    </tr>\n",
       "  </tbody>\n",
       "</table>\n",
       "</div>"
      ],
      "text/plain": [
       "        PPGENDER  TOPICINT_e_t2b  ppagecat_short  PPINCIMP  PPEDUCAT\n",
       "CaseID                                                              \n",
       "3846           1             1.0               3       3.0         4\n",
       "3293           1             1.0               2       5.0         4\n",
       "317            2             1.0               2       4.0         4\n",
       "1119           2             1.0               4       4.0         3\n",
       "2347           2             1.0               1       3.0         2"
      ]
     },
     "execution_count": 38,
     "metadata": {},
     "output_type": "execute_result"
    }
   ],
   "source": [
    "X_train3.head()"
   ]
  },
  {
   "cell_type": "code",
   "execution_count": 39,
   "metadata": {},
   "outputs": [
    {
     "name": "stderr",
     "output_type": "stream",
     "text": [
      "/anaconda3/lib/python3.6/site-packages/ipykernel_launcher.py:2: SettingWithCopyWarning: \n",
      "A value is trying to be set on a copy of a slice from a DataFrame.\n",
      "Try using .loc[row_indexer,col_indexer] = value instead\n",
      "\n",
      "See the caveats in the documentation: http://pandas.pydata.org/pandas-docs/stable/indexing.html#indexing-view-versus-copy\n",
      "  \n",
      "/anaconda3/lib/python3.6/site-packages/ipykernel_launcher.py:3: SettingWithCopyWarning: \n",
      "A value is trying to be set on a copy of a slice from a DataFrame.\n",
      "Try using .loc[row_indexer,col_indexer] = value instead\n",
      "\n",
      "See the caveats in the documentation: http://pandas.pydata.org/pandas-docs/stable/indexing.html#indexing-view-versus-copy\n",
      "  This is separate from the ipykernel package so we can avoid doing imports until\n"
     ]
    }
   ],
   "source": [
    "# Gender 1: Male 0: Female\n",
    "X_train3['PPGENDER'] = X_train3['PPGENDER'].apply(lambda x: 1 if x==1 else 0)\n",
    "X_train3['TOPICINT_e_t2b'] = X_train3['TOPICINT_e_t2b'].apply(lambda x: 1 if x==1.0 else 0)\n",
    "\n",
    "\n",
    "age_dummies = pd.get_dummies(X_train3['ppagecat_short'], drop_first = True) \n",
    "age_dummies.rename(columns = {2: '35-54', 3: '55-64', 4: '75+'}, inplace = True)\n",
    "\n",
    "inc_dummies = pd.get_dummies(X_train3['PPINCIMP'], drop_first = True)\n",
    "inc_dummies.rename(columns = {2.0: '20-40k', 3.0: '40-60k', 4.0: '60-85k', 5.0: '85-125k', \n",
    "                              6.0: '125-175k', 7.0:'175-200k', 8.0: '200k+'}, inplace = True)\n",
    "\n",
    "edu_dummies = pd.get_dummies(X_train3['PPEDUCAT'], drop_first = True)\n",
    "edu_dummies.rename(columns = {2: 'Completed HS', 3: 'Some College', 4: 'Bachelors+'}, inplace = True)\n"
   ]
  },
  {
   "cell_type": "code",
   "execution_count": 40,
   "metadata": {},
   "outputs": [],
   "source": [
    "X_train3 = pd.concat((X_train3, age_dummies, inc_dummies, edu_dummies), axis = 1)\n",
    "\n",
    "X_train3.drop(labels = ['ppagecat_short', 'PPINCIMP', 'PPEDUCAT'], axis = 1, inplace = True)"
   ]
  },
  {
   "cell_type": "code",
   "execution_count": 41,
   "metadata": {},
   "outputs": [
    {
     "data": {
      "text/html": [
       "<div>\n",
       "<style scoped>\n",
       "    .dataframe tbody tr th:only-of-type {\n",
       "        vertical-align: middle;\n",
       "    }\n",
       "\n",
       "    .dataframe tbody tr th {\n",
       "        vertical-align: top;\n",
       "    }\n",
       "\n",
       "    .dataframe thead th {\n",
       "        text-align: right;\n",
       "    }\n",
       "</style>\n",
       "<table border=\"1\" class=\"dataframe\">\n",
       "  <thead>\n",
       "    <tr style=\"text-align: right;\">\n",
       "      <th></th>\n",
       "      <th>PPGENDER</th>\n",
       "      <th>TOPICINT_e_t2b</th>\n",
       "      <th>35-54</th>\n",
       "      <th>55-64</th>\n",
       "      <th>75+</th>\n",
       "      <th>20-40k</th>\n",
       "      <th>40-60k</th>\n",
       "      <th>60-85k</th>\n",
       "      <th>85-125k</th>\n",
       "      <th>125-175k</th>\n",
       "      <th>175-200k</th>\n",
       "      <th>200k+</th>\n",
       "      <th>Completed HS</th>\n",
       "      <th>Some College</th>\n",
       "      <th>Bachelors+</th>\n",
       "    </tr>\n",
       "    <tr>\n",
       "      <th>CaseID</th>\n",
       "      <th></th>\n",
       "      <th></th>\n",
       "      <th></th>\n",
       "      <th></th>\n",
       "      <th></th>\n",
       "      <th></th>\n",
       "      <th></th>\n",
       "      <th></th>\n",
       "      <th></th>\n",
       "      <th></th>\n",
       "      <th></th>\n",
       "      <th></th>\n",
       "      <th></th>\n",
       "      <th></th>\n",
       "      <th></th>\n",
       "    </tr>\n",
       "  </thead>\n",
       "  <tbody>\n",
       "    <tr>\n",
       "      <th>3846</th>\n",
       "      <td>1</td>\n",
       "      <td>1</td>\n",
       "      <td>0</td>\n",
       "      <td>1</td>\n",
       "      <td>0</td>\n",
       "      <td>0</td>\n",
       "      <td>1</td>\n",
       "      <td>0</td>\n",
       "      <td>0</td>\n",
       "      <td>0</td>\n",
       "      <td>0</td>\n",
       "      <td>0</td>\n",
       "      <td>0</td>\n",
       "      <td>0</td>\n",
       "      <td>1</td>\n",
       "    </tr>\n",
       "    <tr>\n",
       "      <th>3293</th>\n",
       "      <td>1</td>\n",
       "      <td>1</td>\n",
       "      <td>1</td>\n",
       "      <td>0</td>\n",
       "      <td>0</td>\n",
       "      <td>0</td>\n",
       "      <td>0</td>\n",
       "      <td>0</td>\n",
       "      <td>1</td>\n",
       "      <td>0</td>\n",
       "      <td>0</td>\n",
       "      <td>0</td>\n",
       "      <td>0</td>\n",
       "      <td>0</td>\n",
       "      <td>1</td>\n",
       "    </tr>\n",
       "    <tr>\n",
       "      <th>317</th>\n",
       "      <td>0</td>\n",
       "      <td>1</td>\n",
       "      <td>1</td>\n",
       "      <td>0</td>\n",
       "      <td>0</td>\n",
       "      <td>0</td>\n",
       "      <td>0</td>\n",
       "      <td>1</td>\n",
       "      <td>0</td>\n",
       "      <td>0</td>\n",
       "      <td>0</td>\n",
       "      <td>0</td>\n",
       "      <td>0</td>\n",
       "      <td>0</td>\n",
       "      <td>1</td>\n",
       "    </tr>\n",
       "    <tr>\n",
       "      <th>1119</th>\n",
       "      <td>0</td>\n",
       "      <td>1</td>\n",
       "      <td>0</td>\n",
       "      <td>0</td>\n",
       "      <td>1</td>\n",
       "      <td>0</td>\n",
       "      <td>0</td>\n",
       "      <td>1</td>\n",
       "      <td>0</td>\n",
       "      <td>0</td>\n",
       "      <td>0</td>\n",
       "      <td>0</td>\n",
       "      <td>0</td>\n",
       "      <td>1</td>\n",
       "      <td>0</td>\n",
       "    </tr>\n",
       "    <tr>\n",
       "      <th>2347</th>\n",
       "      <td>0</td>\n",
       "      <td>1</td>\n",
       "      <td>0</td>\n",
       "      <td>0</td>\n",
       "      <td>0</td>\n",
       "      <td>0</td>\n",
       "      <td>1</td>\n",
       "      <td>0</td>\n",
       "      <td>0</td>\n",
       "      <td>0</td>\n",
       "      <td>0</td>\n",
       "      <td>0</td>\n",
       "      <td>1</td>\n",
       "      <td>0</td>\n",
       "      <td>0</td>\n",
       "    </tr>\n",
       "  </tbody>\n",
       "</table>\n",
       "</div>"
      ],
      "text/plain": [
       "        PPGENDER  TOPICINT_e_t2b  35-54  55-64  75+  20-40k  40-60k  60-85k  \\\n",
       "CaseID                                                                        \n",
       "3846           1               1      0      1    0       0       1       0   \n",
       "3293           1               1      1      0    0       0       0       0   \n",
       "317            0               1      1      0    0       0       0       1   \n",
       "1119           0               1      0      0    1       0       0       1   \n",
       "2347           0               1      0      0    0       0       1       0   \n",
       "\n",
       "        85-125k  125-175k  175-200k  200k+  Completed HS  Some College  \\\n",
       "CaseID                                                                   \n",
       "3846          0         0         0      0             0             0   \n",
       "3293          1         0         0      0             0             0   \n",
       "317           0         0         0      0             0             0   \n",
       "1119          0         0         0      0             0             1   \n",
       "2347          0         0         0      0             1             0   \n",
       "\n",
       "        Bachelors+  \n",
       "CaseID              \n",
       "3846             1  \n",
       "3293             1  \n",
       "317              1  \n",
       "1119             0  \n",
       "2347             0  "
      ]
     },
     "execution_count": 41,
     "metadata": {},
     "output_type": "execute_result"
    }
   ],
   "source": [
    "X_train3.head()"
   ]
  },
  {
   "cell_type": "markdown",
   "metadata": {},
   "source": [
    "#### Logistic Regression 3"
   ]
  },
  {
   "cell_type": "code",
   "execution_count": 42,
   "metadata": {},
   "outputs": [
    {
     "data": {
      "text/plain": [
       "0.6556476992927058"
      ]
     },
     "execution_count": 42,
     "metadata": {},
     "output_type": "execute_result"
    }
   ],
   "source": [
    "log_reg3 = LogisticRegression().fit(X_train3, y_train)\n",
    "cv_lr3 = cross_val_score(log_reg3, X_train3, y_train, scoring = 'accuracy', cv = 5).mean()\n",
    "cv_lr3"
   ]
  },
  {
   "cell_type": "markdown",
   "metadata": {},
   "source": [
    "#### Random Forest 3"
   ]
  },
  {
   "cell_type": "code",
   "execution_count": 43,
   "metadata": {},
   "outputs": [
    {
     "data": {
      "text/plain": [
       "0.6263041957370236"
      ]
     },
     "execution_count": 43,
     "metadata": {},
     "output_type": "execute_result"
    }
   ],
   "source": [
    "rf3 = RandomForestClassifier(n_estimators = 100, max_depth=10).fit(X_train3, y_train)\n",
    "cv_rf3 = cross_val_score(rf3, X_train3, y_train, scoring = 'accuracy', cv = 5).mean()\n",
    "cv_rf3"
   ]
  },
  {
   "cell_type": "markdown",
   "metadata": {},
   "source": [
    "#### Gradient Boost 3"
   ]
  },
  {
   "cell_type": "code",
   "execution_count": 44,
   "metadata": {},
   "outputs": [
    {
     "data": {
      "text/plain": [
       "0.6551042210318363"
      ]
     },
     "execution_count": 44,
     "metadata": {},
     "output_type": "execute_result"
    }
   ],
   "source": [
    "gb3 = GradientBoostingClassifier(learning_rate=.1, max_depth = 1, n_estimators = 100, subsample=.25).fit(X_train3, y_train)\n",
    "cv_gb3 = cross_val_score(gb3, X_train3, y_train, scoring = 'accuracy', cv = 5).mean()\n",
    "cv_gb3"
   ]
  },
  {
   "cell_type": "markdown",
   "metadata": {},
   "source": [
    "### Model 4"
   ]
  },
  {
   "cell_type": "code",
   "execution_count": 45,
   "metadata": {},
   "outputs": [],
   "source": [
    "features4 = ['PPGENDER', 'TOPICINT_e', 'PPINCIMP', 'PPEDUCAT', 'ppagecat', 'SOURCE1']\n",
    "X_train4 = X_train[features4]"
   ]
  },
  {
   "cell_type": "code",
   "execution_count": 46,
   "metadata": {},
   "outputs": [
    {
     "name": "stderr",
     "output_type": "stream",
     "text": [
      "/anaconda3/lib/python3.6/site-packages/ipykernel_launcher.py:2: SettingWithCopyWarning: \n",
      "A value is trying to be set on a copy of a slice from a DataFrame.\n",
      "Try using .loc[row_indexer,col_indexer] = value instead\n",
      "\n",
      "See the caveats in the documentation: http://pandas.pydata.org/pandas-docs/stable/indexing.html#indexing-view-versus-copy\n",
      "  \n",
      "/anaconda3/lib/python3.6/site-packages/ipykernel_launcher.py:21: SettingWithCopyWarning: \n",
      "A value is trying to be set on a copy of a slice from a DataFrame.\n",
      "Try using .loc[row_indexer,col_indexer] = value instead\n",
      "\n",
      "See the caveats in the documentation: http://pandas.pydata.org/pandas-docs/stable/indexing.html#indexing-view-versus-copy\n"
     ]
    }
   ],
   "source": [
    "# Gender 1: Male 0: Female\n",
    "X_train4['PPGENDER'] = X_train4['PPGENDER'].apply(lambda x: 1 if x==1 else 0)\n",
    "\n",
    "topic_dummies = pd.get_dummies(X_train4['TOPICINT_e'], drop_first = True)\n",
    "\n",
    "topic_dummies.rename(columns = {2.0: 'SciNews: Somewhat Interested',\n",
    "                               3.0: 'SciNews: Not Too Interested',\n",
    "                               4.0: 'SciNews: Not At All Interested'}, inplace = True)\n",
    "\n",
    "age_dummies = pd.get_dummies(X_train4['ppagecat'], drop_first = True) \n",
    "age_dummies.rename(columns = {2: '25-34', 3: '35-44', 4: '45-54',\n",
    "                              5: '55-64', 6: '65-74', 7: '75+'}, inplace = True)\n",
    "\n",
    "inc_dummies = pd.get_dummies(X_train4['PPINCIMP'], drop_first = True)\n",
    "inc_dummies.rename(columns = {2.0: '20-40k', 3.0: '40-60k', 4.0: '60-85k', 5.0: '85-125k', \n",
    "                              6.0: '125-175k', 7.0:'175-200k', 8.0: '200k+'}, inplace = True)\n",
    "\n",
    "edu_dummies = pd.get_dummies(X_train4['PPEDUCAT'], drop_first = True)\n",
    "edu_dummies.rename(columns = {2: 'Completed HS', 3: 'Some College', 4: 'Bachelors+'}, inplace = True)\n",
    "\n",
    "X_train4['SOURCE1'] = X_train4['SOURCE1'].apply(lambda x: 1 if x==1.0 else 0)"
   ]
  },
  {
   "cell_type": "code",
   "execution_count": 47,
   "metadata": {},
   "outputs": [],
   "source": [
    "X_train4 = pd.concat((X_train4, topic_dummies, inc_dummies, age_dummies, edu_dummies), axis = 1)\n",
    "X_train4.drop(labels = ['TOPICINT_e', 'PPINCIMP', 'PPEDUCAT', 'ppagecat'], axis = 1, inplace = True)"
   ]
  },
  {
   "cell_type": "markdown",
   "metadata": {},
   "source": [
    "#### Logistic Regression 4"
   ]
  },
  {
   "cell_type": "code",
   "execution_count": 48,
   "metadata": {},
   "outputs": [
    {
     "data": {
      "text/plain": [
       "0.6539937867615275"
      ]
     },
     "execution_count": 48,
     "metadata": {},
     "output_type": "execute_result"
    }
   ],
   "source": [
    "log_reg4 = LogisticRegression().fit(X_train4, y_train)\n",
    "cv_lr4 = cross_val_score(log_reg4, X_train4, y_train, scoring = 'accuracy', cv = 5).mean()\n",
    "cv_lr4"
   ]
  },
  {
   "cell_type": "markdown",
   "metadata": {},
   "source": [
    "#### Random Forest 4"
   ]
  },
  {
   "cell_type": "code",
   "execution_count": 49,
   "metadata": {},
   "outputs": [
    {
     "data": {
      "text/plain": [
       "0.6371531969121118"
      ]
     },
     "execution_count": 49,
     "metadata": {},
     "output_type": "execute_result"
    }
   ],
   "source": [
    "rf4 = RandomForestClassifier(n_estimators = 100, max_depth=10).fit(X_train4, y_train)\n",
    "cv_rf4 = cross_val_score(rf4, X_train4, y_train, scoring = 'accuracy', cv = 5).mean()\n",
    "cv_rf4"
   ]
  },
  {
   "cell_type": "markdown",
   "metadata": {},
   "source": [
    "#### Gradient Boost 4"
   ]
  },
  {
   "cell_type": "code",
   "execution_count": 50,
   "metadata": {},
   "outputs": [
    {
     "data": {
      "text/plain": [
       "0.6539952676287234"
      ]
     },
     "execution_count": 50,
     "metadata": {},
     "output_type": "execute_result"
    }
   ],
   "source": [
    "gb4 = GradientBoostingClassifier(learning_rate=.1, max_depth = 1, n_estimators = 100, subsample=.25).fit(X_train4, y_train)\n",
    "cv_gb4 = cross_val_score(gb4, X_train4, y_train, scoring = 'accuracy', cv = 5).mean()\n",
    "cv_gb4"
   ]
  },
  {
   "cell_type": "markdown",
   "metadata": {},
   "source": [
    "- Can use ordinal variables without making dummies as long as the scale is the same (look into this)\n",
    "- Build a model just using demos, etc.\n",
    "- Compare to the .predict method from Gaussian Mixture Model, have both to see how (ad targeting) would compare"
   ]
  },
  {
   "cell_type": "markdown",
   "metadata": {},
   "source": [
    "### Model 5\n",
    "- Remove Income"
   ]
  },
  {
   "cell_type": "code",
   "execution_count": 51,
   "metadata": {},
   "outputs": [],
   "source": [
    "features5 = ['PPGENDER', 'TOPICINT_e', 'ppagecat', 'PPEDUCAT', 'SCIWHY_e', 'TOPICINT_d']\n",
    "X_train5 = X_train[features5]\n",
    "X_test5 = X_test[features5]"
   ]
  },
  {
   "cell_type": "code",
   "execution_count": 52,
   "metadata": {},
   "outputs": [
    {
     "name": "stdout",
     "output_type": "stream",
     "text": [
      "<class 'pandas.core.frame.DataFrame'>\n",
      "Int64Index: 1841 entries, 3846 to 3897\n",
      "Data columns (total 6 columns):\n",
      "PPGENDER      1841 non-null int64\n",
      "TOPICINT_e    1841 non-null float64\n",
      "ppagecat      1841 non-null int64\n",
      "PPEDUCAT      1841 non-null int64\n",
      "SCIWHY_e      1841 non-null float64\n",
      "TOPICINT_d    1841 non-null float64\n",
      "dtypes: float64(3), int64(3)\n",
      "memory usage: 100.7 KB\n"
     ]
    }
   ],
   "source": [
    "X_train5.info()"
   ]
  },
  {
   "cell_type": "code",
   "execution_count": 53,
   "metadata": {
    "scrolled": true
   },
   "outputs": [
    {
     "data": {
      "text/html": [
       "<div>\n",
       "<style scoped>\n",
       "    .dataframe tbody tr th:only-of-type {\n",
       "        vertical-align: middle;\n",
       "    }\n",
       "\n",
       "    .dataframe tbody tr th {\n",
       "        vertical-align: top;\n",
       "    }\n",
       "\n",
       "    .dataframe thead th {\n",
       "        text-align: right;\n",
       "    }\n",
       "</style>\n",
       "<table border=\"1\" class=\"dataframe\">\n",
       "  <thead>\n",
       "    <tr style=\"text-align: right;\">\n",
       "      <th></th>\n",
       "      <th>PPGENDER</th>\n",
       "      <th>TOPICINT_e</th>\n",
       "      <th>ppagecat</th>\n",
       "      <th>PPEDUCAT</th>\n",
       "      <th>SCIWHY_e</th>\n",
       "      <th>TOPICINT_d</th>\n",
       "    </tr>\n",
       "    <tr>\n",
       "      <th>CaseID</th>\n",
       "      <th></th>\n",
       "      <th></th>\n",
       "      <th></th>\n",
       "      <th></th>\n",
       "      <th></th>\n",
       "      <th></th>\n",
       "    </tr>\n",
       "  </thead>\n",
       "  <tbody>\n",
       "    <tr>\n",
       "      <th>3846</th>\n",
       "      <td>1</td>\n",
       "      <td>1.0</td>\n",
       "      <td>5</td>\n",
       "      <td>4</td>\n",
       "      <td>1.0</td>\n",
       "      <td>2.0</td>\n",
       "    </tr>\n",
       "    <tr>\n",
       "      <th>3293</th>\n",
       "      <td>1</td>\n",
       "      <td>2.0</td>\n",
       "      <td>3</td>\n",
       "      <td>4</td>\n",
       "      <td>1.0</td>\n",
       "      <td>1.0</td>\n",
       "    </tr>\n",
       "    <tr>\n",
       "      <th>317</th>\n",
       "      <td>2</td>\n",
       "      <td>2.0</td>\n",
       "      <td>3</td>\n",
       "      <td>4</td>\n",
       "      <td>1.0</td>\n",
       "      <td>4.0</td>\n",
       "    </tr>\n",
       "    <tr>\n",
       "      <th>1119</th>\n",
       "      <td>2</td>\n",
       "      <td>2.0</td>\n",
       "      <td>7</td>\n",
       "      <td>3</td>\n",
       "      <td>2.0</td>\n",
       "      <td>1.0</td>\n",
       "    </tr>\n",
       "    <tr>\n",
       "      <th>2347</th>\n",
       "      <td>2</td>\n",
       "      <td>2.0</td>\n",
       "      <td>2</td>\n",
       "      <td>2</td>\n",
       "      <td>2.0</td>\n",
       "      <td>3.0</td>\n",
       "    </tr>\n",
       "    <tr>\n",
       "      <th>3218</th>\n",
       "      <td>2</td>\n",
       "      <td>2.0</td>\n",
       "      <td>5</td>\n",
       "      <td>4</td>\n",
       "      <td>1.0</td>\n",
       "      <td>3.0</td>\n",
       "    </tr>\n",
       "    <tr>\n",
       "      <th>1443</th>\n",
       "      <td>1</td>\n",
       "      <td>2.0</td>\n",
       "      <td>4</td>\n",
       "      <td>1</td>\n",
       "      <td>2.0</td>\n",
       "      <td>3.0</td>\n",
       "    </tr>\n",
       "    <tr>\n",
       "      <th>977</th>\n",
       "      <td>1</td>\n",
       "      <td>2.0</td>\n",
       "      <td>6</td>\n",
       "      <td>4</td>\n",
       "      <td>2.0</td>\n",
       "      <td>2.0</td>\n",
       "    </tr>\n",
       "    <tr>\n",
       "      <th>360</th>\n",
       "      <td>1</td>\n",
       "      <td>2.0</td>\n",
       "      <td>4</td>\n",
       "      <td>2</td>\n",
       "      <td>2.0</td>\n",
       "      <td>3.0</td>\n",
       "    </tr>\n",
       "    <tr>\n",
       "      <th>2730</th>\n",
       "      <td>1</td>\n",
       "      <td>4.0</td>\n",
       "      <td>5</td>\n",
       "      <td>1</td>\n",
       "      <td>3.0</td>\n",
       "      <td>4.0</td>\n",
       "    </tr>\n",
       "  </tbody>\n",
       "</table>\n",
       "</div>"
      ],
      "text/plain": [
       "        PPGENDER  TOPICINT_e  ppagecat  PPEDUCAT  SCIWHY_e  TOPICINT_d\n",
       "CaseID                                                                \n",
       "3846           1         1.0         5         4       1.0         2.0\n",
       "3293           1         2.0         3         4       1.0         1.0\n",
       "317            2         2.0         3         4       1.0         4.0\n",
       "1119           2         2.0         7         3       2.0         1.0\n",
       "2347           2         2.0         2         2       2.0         3.0\n",
       "3218           2         2.0         5         4       1.0         3.0\n",
       "1443           1         2.0         4         1       2.0         3.0\n",
       "977            1         2.0         6         4       2.0         2.0\n",
       "360            1         2.0         4         2       2.0         3.0\n",
       "2730           1         4.0         5         1       3.0         4.0"
      ]
     },
     "execution_count": 53,
     "metadata": {},
     "output_type": "execute_result"
    }
   ],
   "source": [
    "X_train5.head(10)"
   ]
  },
  {
   "cell_type": "code",
   "execution_count": 54,
   "metadata": {},
   "outputs": [
    {
     "name": "stderr",
     "output_type": "stream",
     "text": [
      "/anaconda3/lib/python3.6/site-packages/ipykernel_launcher.py:2: SettingWithCopyWarning: \n",
      "A value is trying to be set on a copy of a slice from a DataFrame.\n",
      "Try using .loc[row_indexer,col_indexer] = value instead\n",
      "\n",
      "See the caveats in the documentation: http://pandas.pydata.org/pandas-docs/stable/indexing.html#indexing-view-versus-copy\n",
      "  \n"
     ]
    }
   ],
   "source": [
    "# Gender 1: Male 0: Female\n",
    "X_train5['PPGENDER'] = X_train5['PPGENDER'].apply(lambda x: 1 if x==1 else 0)\n",
    "\n",
    "topic_dummies = pd.get_dummies(X_train5['TOPICINT_e'], drop_first = True)\n",
    "topic_dummies.rename(columns = {2.0: 'SciNews: Somewhat Interested',\n",
    "                               3.0: 'SciNews: Not Too Interested',\n",
    "                               4.0: 'SciNews: Not At All Interested'}, inplace = True)\n",
    "\n",
    "age_dummies = pd.get_dummies(X_train5['ppagecat'], drop_first = True) \n",
    "age_dummies.rename(columns = {2: '25-34', 3: '35-44', 4: '45-54',\n",
    "                              5: '55-64', 6: '65-74', 7: '75+'}, inplace = True)\n",
    "\n",
    "\n",
    "edu_dummies = pd.get_dummies(X_train5['PPEDUCAT'], drop_first = True)\n",
    "edu_dummies.rename(columns = {2: 'Completed HS', 3: 'Some College', 4: 'Bachelors+'}, inplace = True)\n",
    "\n",
    "sci_why_dummies = pd.get_dummies(X_train5['SCIWHY_e'], drop_first = True)\n",
    "sci_why_dummies.rename(columns = {2.0: 'Curious about what\\'s happening in science minor reason',\n",
    "                                 3.0: 'Curious about what\\'s happening in science not a reason'}, inplace = True)\n",
    "\n",
    "topicbus_dummies = pd.get_dummies(X_train5['TOPICINT_d'], drop_first = True)\n",
    "\n",
    "topicbus_dummies.rename(columns = {2.0: 'BusNews: Somewhat Interested',\n",
    "                               3.0: 'BusNews: Not Too Interested',\n",
    "                               4.0: 'BusNews: Not At All Interested'}, inplace = True)"
   ]
  },
  {
   "cell_type": "code",
   "execution_count": 55,
   "metadata": {},
   "outputs": [],
   "source": [
    "X_train5 = pd.concat((X_train5, topic_dummies, age_dummies, edu_dummies, \n",
    "                     sci_why_dummies, topicbus_dummies), axis = 1)\n",
    "\n",
    "X_train5.drop(labels = ['TOPICINT_e', 'ppagecat', 'PPEDUCAT', 'TOPICINT_d',\n",
    "                       'SCIWHY_e'], axis = 1, inplace = True)"
   ]
  },
  {
   "cell_type": "code",
   "execution_count": 56,
   "metadata": {},
   "outputs": [
    {
     "data": {
      "text/html": [
       "<div>\n",
       "<style scoped>\n",
       "    .dataframe tbody tr th:only-of-type {\n",
       "        vertical-align: middle;\n",
       "    }\n",
       "\n",
       "    .dataframe tbody tr th {\n",
       "        vertical-align: top;\n",
       "    }\n",
       "\n",
       "    .dataframe thead th {\n",
       "        text-align: right;\n",
       "    }\n",
       "</style>\n",
       "<table border=\"1\" class=\"dataframe\">\n",
       "  <thead>\n",
       "    <tr style=\"text-align: right;\">\n",
       "      <th></th>\n",
       "      <th>PPGENDER</th>\n",
       "      <th>SciNews: Somewhat Interested</th>\n",
       "      <th>SciNews: Not Too Interested</th>\n",
       "      <th>SciNews: Not At All Interested</th>\n",
       "      <th>25-34</th>\n",
       "      <th>35-44</th>\n",
       "      <th>45-54</th>\n",
       "      <th>55-64</th>\n",
       "      <th>65-74</th>\n",
       "      <th>75+</th>\n",
       "      <th>Completed HS</th>\n",
       "      <th>Some College</th>\n",
       "      <th>Bachelors+</th>\n",
       "      <th>Curious about what's happening in science minor reason</th>\n",
       "      <th>Curious about what's happening in science not a reason</th>\n",
       "      <th>BusNews: Somewhat Interested</th>\n",
       "      <th>BusNews: Not Too Interested</th>\n",
       "      <th>BusNews: Not At All Interested</th>\n",
       "    </tr>\n",
       "    <tr>\n",
       "      <th>CaseID</th>\n",
       "      <th></th>\n",
       "      <th></th>\n",
       "      <th></th>\n",
       "      <th></th>\n",
       "      <th></th>\n",
       "      <th></th>\n",
       "      <th></th>\n",
       "      <th></th>\n",
       "      <th></th>\n",
       "      <th></th>\n",
       "      <th></th>\n",
       "      <th></th>\n",
       "      <th></th>\n",
       "      <th></th>\n",
       "      <th></th>\n",
       "      <th></th>\n",
       "      <th></th>\n",
       "      <th></th>\n",
       "    </tr>\n",
       "  </thead>\n",
       "  <tbody>\n",
       "    <tr>\n",
       "      <th>3846</th>\n",
       "      <td>1</td>\n",
       "      <td>0</td>\n",
       "      <td>0</td>\n",
       "      <td>0</td>\n",
       "      <td>0</td>\n",
       "      <td>0</td>\n",
       "      <td>0</td>\n",
       "      <td>1</td>\n",
       "      <td>0</td>\n",
       "      <td>0</td>\n",
       "      <td>0</td>\n",
       "      <td>0</td>\n",
       "      <td>1</td>\n",
       "      <td>0</td>\n",
       "      <td>0</td>\n",
       "      <td>1</td>\n",
       "      <td>0</td>\n",
       "      <td>0</td>\n",
       "    </tr>\n",
       "    <tr>\n",
       "      <th>3293</th>\n",
       "      <td>1</td>\n",
       "      <td>1</td>\n",
       "      <td>0</td>\n",
       "      <td>0</td>\n",
       "      <td>0</td>\n",
       "      <td>1</td>\n",
       "      <td>0</td>\n",
       "      <td>0</td>\n",
       "      <td>0</td>\n",
       "      <td>0</td>\n",
       "      <td>0</td>\n",
       "      <td>0</td>\n",
       "      <td>1</td>\n",
       "      <td>0</td>\n",
       "      <td>0</td>\n",
       "      <td>0</td>\n",
       "      <td>0</td>\n",
       "      <td>0</td>\n",
       "    </tr>\n",
       "    <tr>\n",
       "      <th>317</th>\n",
       "      <td>0</td>\n",
       "      <td>1</td>\n",
       "      <td>0</td>\n",
       "      <td>0</td>\n",
       "      <td>0</td>\n",
       "      <td>1</td>\n",
       "      <td>0</td>\n",
       "      <td>0</td>\n",
       "      <td>0</td>\n",
       "      <td>0</td>\n",
       "      <td>0</td>\n",
       "      <td>0</td>\n",
       "      <td>1</td>\n",
       "      <td>0</td>\n",
       "      <td>0</td>\n",
       "      <td>0</td>\n",
       "      <td>0</td>\n",
       "      <td>1</td>\n",
       "    </tr>\n",
       "    <tr>\n",
       "      <th>1119</th>\n",
       "      <td>0</td>\n",
       "      <td>1</td>\n",
       "      <td>0</td>\n",
       "      <td>0</td>\n",
       "      <td>0</td>\n",
       "      <td>0</td>\n",
       "      <td>0</td>\n",
       "      <td>0</td>\n",
       "      <td>0</td>\n",
       "      <td>1</td>\n",
       "      <td>0</td>\n",
       "      <td>1</td>\n",
       "      <td>0</td>\n",
       "      <td>1</td>\n",
       "      <td>0</td>\n",
       "      <td>0</td>\n",
       "      <td>0</td>\n",
       "      <td>0</td>\n",
       "    </tr>\n",
       "    <tr>\n",
       "      <th>2347</th>\n",
       "      <td>0</td>\n",
       "      <td>1</td>\n",
       "      <td>0</td>\n",
       "      <td>0</td>\n",
       "      <td>1</td>\n",
       "      <td>0</td>\n",
       "      <td>0</td>\n",
       "      <td>0</td>\n",
       "      <td>0</td>\n",
       "      <td>0</td>\n",
       "      <td>1</td>\n",
       "      <td>0</td>\n",
       "      <td>0</td>\n",
       "      <td>1</td>\n",
       "      <td>0</td>\n",
       "      <td>0</td>\n",
       "      <td>1</td>\n",
       "      <td>0</td>\n",
       "    </tr>\n",
       "  </tbody>\n",
       "</table>\n",
       "</div>"
      ],
      "text/plain": [
       "        PPGENDER  SciNews: Somewhat Interested  SciNews: Not Too Interested  \\\n",
       "CaseID                                                                        \n",
       "3846           1                             0                            0   \n",
       "3293           1                             1                            0   \n",
       "317            0                             1                            0   \n",
       "1119           0                             1                            0   \n",
       "2347           0                             1                            0   \n",
       "\n",
       "        SciNews: Not At All Interested  25-34  35-44  45-54  55-64  65-74  \\\n",
       "CaseID                                                                      \n",
       "3846                                 0      0      0      0      1      0   \n",
       "3293                                 0      0      1      0      0      0   \n",
       "317                                  0      0      1      0      0      0   \n",
       "1119                                 0      0      0      0      0      0   \n",
       "2347                                 0      1      0      0      0      0   \n",
       "\n",
       "        75+  Completed HS  Some College  Bachelors+  \\\n",
       "CaseID                                                \n",
       "3846      0             0             0           1   \n",
       "3293      0             0             0           1   \n",
       "317       0             0             0           1   \n",
       "1119      1             0             1           0   \n",
       "2347      0             1             0           0   \n",
       "\n",
       "        Curious about what's happening in science minor reason  \\\n",
       "CaseID                                                           \n",
       "3846                                                    0        \n",
       "3293                                                    0        \n",
       "317                                                     0        \n",
       "1119                                                    1        \n",
       "2347                                                    1        \n",
       "\n",
       "        Curious about what's happening in science not a reason  \\\n",
       "CaseID                                                           \n",
       "3846                                                    0        \n",
       "3293                                                    0        \n",
       "317                                                     0        \n",
       "1119                                                    0        \n",
       "2347                                                    0        \n",
       "\n",
       "        BusNews: Somewhat Interested  BusNews: Not Too Interested  \\\n",
       "CaseID                                                              \n",
       "3846                               1                            0   \n",
       "3293                               0                            0   \n",
       "317                                0                            0   \n",
       "1119                               0                            0   \n",
       "2347                               0                            1   \n",
       "\n",
       "        BusNews: Not At All Interested  \n",
       "CaseID                                  \n",
       "3846                                 0  \n",
       "3293                                 0  \n",
       "317                                  1  \n",
       "1119                                 0  \n",
       "2347                                 0  "
      ]
     },
     "execution_count": 56,
     "metadata": {},
     "output_type": "execute_result"
    }
   ],
   "source": [
    "X_train5.head(5)"
   ]
  },
  {
   "cell_type": "code",
   "execution_count": 57,
   "metadata": {},
   "outputs": [
    {
     "data": {
      "text/plain": [
       "(1841, 18)"
      ]
     },
     "execution_count": 57,
     "metadata": {},
     "output_type": "execute_result"
    }
   ],
   "source": [
    "X_train5.shape"
   ]
  },
  {
   "cell_type": "markdown",
   "metadata": {},
   "source": [
    "#### Logistic Regression 5"
   ]
  },
  {
   "cell_type": "code",
   "execution_count": 58,
   "metadata": {},
   "outputs": [
    {
     "data": {
      "text/plain": [
       "0.6735620619434741"
      ]
     },
     "execution_count": 58,
     "metadata": {},
     "output_type": "execute_result"
    }
   ],
   "source": [
    "log_reg5 = LogisticRegression().fit(X_train5, y_train)\n",
    "cv_lr5 = cross_val_score(log_reg5, X_train5, y_train, scoring = 'accuracy', cv = 5).mean()\n",
    "cv_lr5"
   ]
  },
  {
   "cell_type": "code",
   "execution_count": 59,
   "metadata": {},
   "outputs": [],
   "source": [
    "#log_reg5.score(X_test5, y_test)"
   ]
  },
  {
   "cell_type": "markdown",
   "metadata": {},
   "source": [
    "#### Random Forest 5"
   ]
  },
  {
   "cell_type": "code",
   "execution_count": 60,
   "metadata": {},
   "outputs": [
    {
     "data": {
      "text/plain": [
       "0.6497003925498772"
      ]
     },
     "execution_count": 60,
     "metadata": {},
     "output_type": "execute_result"
    }
   ],
   "source": [
    "rf5 = RandomForestClassifier(n_estimators = 100, max_depth=10).fit(X_train5, y_train)\n",
    "cv_rf5 = cross_val_score(rf5, X_train5, y_train, scoring = 'accuracy', cv = 5).mean()\n",
    "cv_rf5"
   ]
  },
  {
   "cell_type": "markdown",
   "metadata": {},
   "source": [
    "#### Gradient Boost 5"
   ]
  },
  {
   "cell_type": "code",
   "execution_count": 61,
   "metadata": {},
   "outputs": [
    {
     "data": {
      "text/plain": [
       "0.6784578088928876"
      ]
     },
     "execution_count": 61,
     "metadata": {},
     "output_type": "execute_result"
    }
   ],
   "source": [
    "gb5 = GradientBoostingClassifier(learning_rate=.1, max_depth = 2, n_estimators = 50, subsample=.5).fit(X_train5, y_train)\n",
    "cv_gb5 = cross_val_score(gb5, X_train5, y_train, scoring = 'accuracy', cv = 5).mean()\n",
    "cv_gb5"
   ]
  },
  {
   "cell_type": "code",
   "execution_count": 62,
   "metadata": {},
   "outputs": [],
   "source": [
    "# gb5.score(X_test5, y_test)"
   ]
  },
  {
   "cell_type": "markdown",
   "metadata": {},
   "source": [
    "### Model 5 Optimization\n",
    "- Model 5 had the highest score, but when predicting new segments it was nearly impossible to be predicting into Segment 2. Added more features to pull apart Segment 0 and Segment 2 based on EDA done in ProfilingSegments.ipynb"
   ]
  },
  {
   "cell_type": "code",
   "execution_count": 63,
   "metadata": {},
   "outputs": [],
   "source": [
    "features5a = ['PPGENDER', 'TOPICINT_e', 'ppagecat', 'PPEDUCAT', 'SCIWHY_e', 'TOPICINT_d', 'LIST1_b', 'TOPICINT_a',\n",
    "             'SOURCE1']\n",
    "X_train5a = X_train[features5a]\n",
    "X_test5a = X_test[features5a]"
   ]
  },
  {
   "cell_type": "code",
   "execution_count": 64,
   "metadata": {},
   "outputs": [
    {
     "data": {
      "text/html": [
       "<div>\n",
       "<style scoped>\n",
       "    .dataframe tbody tr th:only-of-type {\n",
       "        vertical-align: middle;\n",
       "    }\n",
       "\n",
       "    .dataframe tbody tr th {\n",
       "        vertical-align: top;\n",
       "    }\n",
       "\n",
       "    .dataframe thead th {\n",
       "        text-align: right;\n",
       "    }\n",
       "</style>\n",
       "<table border=\"1\" class=\"dataframe\">\n",
       "  <thead>\n",
       "    <tr style=\"text-align: right;\">\n",
       "      <th></th>\n",
       "      <th>PPGENDER</th>\n",
       "      <th>TOPICINT_e</th>\n",
       "      <th>ppagecat</th>\n",
       "      <th>PPEDUCAT</th>\n",
       "      <th>SCIWHY_e</th>\n",
       "      <th>TOPICINT_d</th>\n",
       "      <th>LIST1_b</th>\n",
       "      <th>TOPICINT_a</th>\n",
       "      <th>SOURCE1</th>\n",
       "    </tr>\n",
       "    <tr>\n",
       "      <th>CaseID</th>\n",
       "      <th></th>\n",
       "      <th></th>\n",
       "      <th></th>\n",
       "      <th></th>\n",
       "      <th></th>\n",
       "      <th></th>\n",
       "      <th></th>\n",
       "      <th></th>\n",
       "      <th></th>\n",
       "    </tr>\n",
       "  </thead>\n",
       "  <tbody>\n",
       "    <tr>\n",
       "      <th>3846</th>\n",
       "      <td>1</td>\n",
       "      <td>1.0</td>\n",
       "      <td>5</td>\n",
       "      <td>4</td>\n",
       "      <td>1.0</td>\n",
       "      <td>2.0</td>\n",
       "      <td>1</td>\n",
       "      <td>1.0</td>\n",
       "      <td>2.0</td>\n",
       "    </tr>\n",
       "    <tr>\n",
       "      <th>3293</th>\n",
       "      <td>1</td>\n",
       "      <td>2.0</td>\n",
       "      <td>3</td>\n",
       "      <td>4</td>\n",
       "      <td>1.0</td>\n",
       "      <td>1.0</td>\n",
       "      <td>0</td>\n",
       "      <td>1.0</td>\n",
       "      <td>1.0</td>\n",
       "    </tr>\n",
       "    <tr>\n",
       "      <th>317</th>\n",
       "      <td>2</td>\n",
       "      <td>2.0</td>\n",
       "      <td>3</td>\n",
       "      <td>4</td>\n",
       "      <td>1.0</td>\n",
       "      <td>4.0</td>\n",
       "      <td>0</td>\n",
       "      <td>3.0</td>\n",
       "      <td>1.0</td>\n",
       "    </tr>\n",
       "    <tr>\n",
       "      <th>1119</th>\n",
       "      <td>2</td>\n",
       "      <td>2.0</td>\n",
       "      <td>7</td>\n",
       "      <td>3</td>\n",
       "      <td>2.0</td>\n",
       "      <td>1.0</td>\n",
       "      <td>0</td>\n",
       "      <td>1.0</td>\n",
       "      <td>2.0</td>\n",
       "    </tr>\n",
       "    <tr>\n",
       "      <th>2347</th>\n",
       "      <td>2</td>\n",
       "      <td>2.0</td>\n",
       "      <td>2</td>\n",
       "      <td>2</td>\n",
       "      <td>2.0</td>\n",
       "      <td>3.0</td>\n",
       "      <td>0</td>\n",
       "      <td>2.0</td>\n",
       "      <td>1.0</td>\n",
       "    </tr>\n",
       "  </tbody>\n",
       "</table>\n",
       "</div>"
      ],
      "text/plain": [
       "        PPGENDER  TOPICINT_e  ppagecat  PPEDUCAT  SCIWHY_e  TOPICINT_d  \\\n",
       "CaseID                                                                   \n",
       "3846           1         1.0         5         4       1.0         2.0   \n",
       "3293           1         2.0         3         4       1.0         1.0   \n",
       "317            2         2.0         3         4       1.0         4.0   \n",
       "1119           2         2.0         7         3       2.0         1.0   \n",
       "2347           2         2.0         2         2       2.0         3.0   \n",
       "\n",
       "        LIST1_b  TOPICINT_a  SOURCE1  \n",
       "CaseID                                \n",
       "3846          1         1.0      2.0  \n",
       "3293          0         1.0      1.0  \n",
       "317           0         3.0      1.0  \n",
       "1119          0         1.0      2.0  \n",
       "2347          0         2.0      1.0  "
      ]
     },
     "execution_count": 64,
     "metadata": {},
     "output_type": "execute_result"
    }
   ],
   "source": [
    "X_train5a.head()"
   ]
  },
  {
   "cell_type": "code",
   "execution_count": 65,
   "metadata": {},
   "outputs": [
    {
     "name": "stderr",
     "output_type": "stream",
     "text": [
      "/anaconda3/lib/python3.6/site-packages/ipykernel_launcher.py:2: SettingWithCopyWarning: \n",
      "A value is trying to be set on a copy of a slice from a DataFrame.\n",
      "Try using .loc[row_indexer,col_indexer] = value instead\n",
      "\n",
      "See the caveats in the documentation: http://pandas.pydata.org/pandas-docs/stable/indexing.html#indexing-view-versus-copy\n",
      "  \n",
      "/anaconda3/lib/python3.6/site-packages/ipykernel_launcher.py:5: SettingWithCopyWarning: \n",
      "A value is trying to be set on a copy of a slice from a DataFrame.\n",
      "Try using .loc[row_indexer,col_indexer] = value instead\n",
      "\n",
      "See the caveats in the documentation: http://pandas.pydata.org/pandas-docs/stable/indexing.html#indexing-view-versus-copy\n",
      "  \"\"\"\n"
     ]
    }
   ],
   "source": [
    "# Gender 1: Male 0: Female\n",
    "X_train5a['PPGENDER'] = X_train5a['PPGENDER'].apply(lambda x: 1 if x==1 else 0)\n",
    "\n",
    "# Source 1: Specific sources 0: Many sources\n",
    "X_train5a['SOURCE1'] = X_train5a['SOURCE1'].apply(lambda x: 1 if x==1.0 else 0)\n",
    "\n",
    "topic_dummies = pd.get_dummies(X_train5a['TOPICINT_e'], drop_first = True)\n",
    "topic_dummies.rename(columns = {2.0: 'SciNews: Somewhat Interested',\n",
    "                               3.0: 'SciNews: Not Too Interested',\n",
    "                               4.0: 'SciNews: Not At All Interested'}, inplace = True)\n",
    "\n",
    "age_dummies = pd.get_dummies(X_train5a['ppagecat'], drop_first = True) \n",
    "age_dummies.rename(columns = {2: '25-34', 3: '35-44', 4: '45-54',\n",
    "                              5: '55-64', 6: '65-74', 7: '75+'}, inplace = True)\n",
    "\n",
    "\n",
    "edu_dummies = pd.get_dummies(X_train5a['PPEDUCAT'], drop_first = True)\n",
    "edu_dummies.rename(columns = {2: 'Completed HS', 3: 'Some College', 4: 'Bachelors+'}, inplace = True)\n",
    "\n",
    "sci_why_dummies = pd.get_dummies(X_train5a['SCIWHY_e'], drop_first = True)\n",
    "sci_why_dummies.rename(columns = {2.0: 'Curious about what\\'s happening in science minor reason',\n",
    "                                 3.0: 'Curious about what\\'s happening in science not a reason'}, inplace = True)\n",
    "\n",
    "topicbus_dummies = pd.get_dummies(X_train5a['TOPICINT_d'], drop_first = True)\n",
    "topicbus_dummies.rename(columns = {2.0: 'BusNews: Somewhat Interested',\n",
    "                               3.0: 'BusNews: Not Too Interested',\n",
    "                               4.0: 'BusNews: Not At All Interested'}, inplace = True)\n",
    "\n",
    "topicgov_dummies = pd.get_dummies(X_train5a['TOPICINT_a'], drop_first = True)\n",
    "topicgov_dummies.rename(columns = {2.0: 'GovNews: Somewhat Interested',\n",
    "                               3.0: 'GovNews: Not Too Interested',\n",
    "                               4.0: 'GovNews: Not At All Interested'}, inplace = True)"
   ]
  },
  {
   "cell_type": "code",
   "execution_count": 66,
   "metadata": {},
   "outputs": [],
   "source": [
    "X_train5a = pd.concat((X_train5a, topic_dummies, age_dummies, edu_dummies, \n",
    "                     sci_why_dummies, topicbus_dummies, topicgov_dummies), axis = 1)\n",
    "\n",
    "X_train5a.drop(labels = ['TOPICINT_e', 'ppagecat', 'PPEDUCAT', 'TOPICINT_d',\n",
    "                       'SCIWHY_e', 'TOPICINT_a'], axis = 1, inplace = True)"
   ]
  },
  {
   "cell_type": "code",
   "execution_count": 67,
   "metadata": {},
   "outputs": [
    {
     "data": {
      "text/plain": [
       "(1841, 23)"
      ]
     },
     "execution_count": 67,
     "metadata": {},
     "output_type": "execute_result"
    }
   ],
   "source": [
    "X_train5a.shape"
   ]
  },
  {
   "cell_type": "code",
   "execution_count": 68,
   "metadata": {},
   "outputs": [
    {
     "data": {
      "text/html": [
       "<div>\n",
       "<style scoped>\n",
       "    .dataframe tbody tr th:only-of-type {\n",
       "        vertical-align: middle;\n",
       "    }\n",
       "\n",
       "    .dataframe tbody tr th {\n",
       "        vertical-align: top;\n",
       "    }\n",
       "\n",
       "    .dataframe thead th {\n",
       "        text-align: right;\n",
       "    }\n",
       "</style>\n",
       "<table border=\"1\" class=\"dataframe\">\n",
       "  <thead>\n",
       "    <tr style=\"text-align: right;\">\n",
       "      <th></th>\n",
       "      <th>PPGENDER</th>\n",
       "      <th>LIST1_b</th>\n",
       "      <th>SOURCE1</th>\n",
       "      <th>SciNews: Somewhat Interested</th>\n",
       "      <th>SciNews: Not Too Interested</th>\n",
       "      <th>SciNews: Not At All Interested</th>\n",
       "      <th>25-34</th>\n",
       "      <th>35-44</th>\n",
       "      <th>45-54</th>\n",
       "      <th>55-64</th>\n",
       "      <th>...</th>\n",
       "      <th>Some College</th>\n",
       "      <th>Bachelors+</th>\n",
       "      <th>Curious about what's happening in science minor reason</th>\n",
       "      <th>Curious about what's happening in science not a reason</th>\n",
       "      <th>BusNews: Somewhat Interested</th>\n",
       "      <th>BusNews: Not Too Interested</th>\n",
       "      <th>BusNews: Not At All Interested</th>\n",
       "      <th>GovNews: Somewhat Interested</th>\n",
       "      <th>GovNews: Not Too Interested</th>\n",
       "      <th>GovNews: Not At All Interested</th>\n",
       "    </tr>\n",
       "    <tr>\n",
       "      <th>CaseID</th>\n",
       "      <th></th>\n",
       "      <th></th>\n",
       "      <th></th>\n",
       "      <th></th>\n",
       "      <th></th>\n",
       "      <th></th>\n",
       "      <th></th>\n",
       "      <th></th>\n",
       "      <th></th>\n",
       "      <th></th>\n",
       "      <th></th>\n",
       "      <th></th>\n",
       "      <th></th>\n",
       "      <th></th>\n",
       "      <th></th>\n",
       "      <th></th>\n",
       "      <th></th>\n",
       "      <th></th>\n",
       "      <th></th>\n",
       "      <th></th>\n",
       "      <th></th>\n",
       "    </tr>\n",
       "  </thead>\n",
       "  <tbody>\n",
       "    <tr>\n",
       "      <th>3846</th>\n",
       "      <td>1</td>\n",
       "      <td>1</td>\n",
       "      <td>0</td>\n",
       "      <td>0</td>\n",
       "      <td>0</td>\n",
       "      <td>0</td>\n",
       "      <td>0</td>\n",
       "      <td>0</td>\n",
       "      <td>0</td>\n",
       "      <td>1</td>\n",
       "      <td>...</td>\n",
       "      <td>0</td>\n",
       "      <td>1</td>\n",
       "      <td>0</td>\n",
       "      <td>0</td>\n",
       "      <td>1</td>\n",
       "      <td>0</td>\n",
       "      <td>0</td>\n",
       "      <td>0</td>\n",
       "      <td>0</td>\n",
       "      <td>0</td>\n",
       "    </tr>\n",
       "    <tr>\n",
       "      <th>3293</th>\n",
       "      <td>1</td>\n",
       "      <td>0</td>\n",
       "      <td>1</td>\n",
       "      <td>1</td>\n",
       "      <td>0</td>\n",
       "      <td>0</td>\n",
       "      <td>0</td>\n",
       "      <td>1</td>\n",
       "      <td>0</td>\n",
       "      <td>0</td>\n",
       "      <td>...</td>\n",
       "      <td>0</td>\n",
       "      <td>1</td>\n",
       "      <td>0</td>\n",
       "      <td>0</td>\n",
       "      <td>0</td>\n",
       "      <td>0</td>\n",
       "      <td>0</td>\n",
       "      <td>0</td>\n",
       "      <td>0</td>\n",
       "      <td>0</td>\n",
       "    </tr>\n",
       "    <tr>\n",
       "      <th>317</th>\n",
       "      <td>0</td>\n",
       "      <td>0</td>\n",
       "      <td>1</td>\n",
       "      <td>1</td>\n",
       "      <td>0</td>\n",
       "      <td>0</td>\n",
       "      <td>0</td>\n",
       "      <td>1</td>\n",
       "      <td>0</td>\n",
       "      <td>0</td>\n",
       "      <td>...</td>\n",
       "      <td>0</td>\n",
       "      <td>1</td>\n",
       "      <td>0</td>\n",
       "      <td>0</td>\n",
       "      <td>0</td>\n",
       "      <td>0</td>\n",
       "      <td>1</td>\n",
       "      <td>0</td>\n",
       "      <td>1</td>\n",
       "      <td>0</td>\n",
       "    </tr>\n",
       "    <tr>\n",
       "      <th>1119</th>\n",
       "      <td>0</td>\n",
       "      <td>0</td>\n",
       "      <td>0</td>\n",
       "      <td>1</td>\n",
       "      <td>0</td>\n",
       "      <td>0</td>\n",
       "      <td>0</td>\n",
       "      <td>0</td>\n",
       "      <td>0</td>\n",
       "      <td>0</td>\n",
       "      <td>...</td>\n",
       "      <td>1</td>\n",
       "      <td>0</td>\n",
       "      <td>1</td>\n",
       "      <td>0</td>\n",
       "      <td>0</td>\n",
       "      <td>0</td>\n",
       "      <td>0</td>\n",
       "      <td>0</td>\n",
       "      <td>0</td>\n",
       "      <td>0</td>\n",
       "    </tr>\n",
       "    <tr>\n",
       "      <th>2347</th>\n",
       "      <td>0</td>\n",
       "      <td>0</td>\n",
       "      <td>1</td>\n",
       "      <td>1</td>\n",
       "      <td>0</td>\n",
       "      <td>0</td>\n",
       "      <td>1</td>\n",
       "      <td>0</td>\n",
       "      <td>0</td>\n",
       "      <td>0</td>\n",
       "      <td>...</td>\n",
       "      <td>0</td>\n",
       "      <td>0</td>\n",
       "      <td>1</td>\n",
       "      <td>0</td>\n",
       "      <td>0</td>\n",
       "      <td>1</td>\n",
       "      <td>0</td>\n",
       "      <td>1</td>\n",
       "      <td>0</td>\n",
       "      <td>0</td>\n",
       "    </tr>\n",
       "  </tbody>\n",
       "</table>\n",
       "<p>5 rows × 23 columns</p>\n",
       "</div>"
      ],
      "text/plain": [
       "        PPGENDER  LIST1_b  SOURCE1  SciNews: Somewhat Interested  \\\n",
       "CaseID                                                             \n",
       "3846           1        1        0                             0   \n",
       "3293           1        0        1                             1   \n",
       "317            0        0        1                             1   \n",
       "1119           0        0        0                             1   \n",
       "2347           0        0        1                             1   \n",
       "\n",
       "        SciNews: Not Too Interested  SciNews: Not At All Interested  25-34  \\\n",
       "CaseID                                                                       \n",
       "3846                              0                               0      0   \n",
       "3293                              0                               0      0   \n",
       "317                               0                               0      0   \n",
       "1119                              0                               0      0   \n",
       "2347                              0                               0      1   \n",
       "\n",
       "        35-44  45-54  55-64               ...                Some College  \\\n",
       "CaseID                                    ...                               \n",
       "3846        0      0      1               ...                           0   \n",
       "3293        1      0      0               ...                           0   \n",
       "317         1      0      0               ...                           0   \n",
       "1119        0      0      0               ...                           1   \n",
       "2347        0      0      0               ...                           0   \n",
       "\n",
       "        Bachelors+  Curious about what's happening in science minor reason  \\\n",
       "CaseID                                                                       \n",
       "3846             1                                                  0        \n",
       "3293             1                                                  0        \n",
       "317              1                                                  0        \n",
       "1119             0                                                  1        \n",
       "2347             0                                                  1        \n",
       "\n",
       "        Curious about what's happening in science not a reason  \\\n",
       "CaseID                                                           \n",
       "3846                                                    0        \n",
       "3293                                                    0        \n",
       "317                                                     0        \n",
       "1119                                                    0        \n",
       "2347                                                    0        \n",
       "\n",
       "        BusNews: Somewhat Interested  BusNews: Not Too Interested  \\\n",
       "CaseID                                                              \n",
       "3846                               1                            0   \n",
       "3293                               0                            0   \n",
       "317                                0                            0   \n",
       "1119                               0                            0   \n",
       "2347                               0                            1   \n",
       "\n",
       "        BusNews: Not At All Interested  GovNews: Somewhat Interested  \\\n",
       "CaseID                                                                 \n",
       "3846                                 0                             0   \n",
       "3293                                 0                             0   \n",
       "317                                  1                             0   \n",
       "1119                                 0                             0   \n",
       "2347                                 0                             1   \n",
       "\n",
       "        GovNews: Not Too Interested  GovNews: Not At All Interested  \n",
       "CaseID                                                               \n",
       "3846                              0                               0  \n",
       "3293                              0                               0  \n",
       "317                               1                               0  \n",
       "1119                              0                               0  \n",
       "2347                              0                               0  \n",
       "\n",
       "[5 rows x 23 columns]"
      ]
     },
     "execution_count": 68,
     "metadata": {},
     "output_type": "execute_result"
    }
   ],
   "source": [
    "X_train5a.head()"
   ]
  },
  {
   "cell_type": "markdown",
   "metadata": {},
   "source": [
    "#### Logistic Regression 5a"
   ]
  },
  {
   "cell_type": "code",
   "execution_count": 69,
   "metadata": {},
   "outputs": [
    {
     "data": {
      "text/plain": [
       "0.6713925194593953"
      ]
     },
     "execution_count": 69,
     "metadata": {},
     "output_type": "execute_result"
    }
   ],
   "source": [
    "log_reg5a = LogisticRegression().fit(X_train5a, y_train)\n",
    "cv_lr5a = cross_val_score(log_reg5a, X_train5a, y_train, scoring = 'accuracy', cv = 5).mean()\n",
    "cv_lr5a"
   ]
  },
  {
   "cell_type": "markdown",
   "metadata": {},
   "source": [
    "#### Random Forest 5a"
   ]
  },
  {
   "cell_type": "code",
   "execution_count": 70,
   "metadata": {},
   "outputs": [
    {
     "data": {
      "text/plain": [
       "0.6545681711210085"
      ]
     },
     "execution_count": 70,
     "metadata": {},
     "output_type": "execute_result"
    }
   ],
   "source": [
    "rf5a = RandomForestClassifier(n_estimators = 100, max_depth=10).fit(X_train5a, y_train)\n",
    "cv_rf5a = cross_val_score(rf5a, X_train5a, y_train, scoring = 'accuracy', cv = 5).mean()\n",
    "cv_rf5a"
   ]
  },
  {
   "cell_type": "markdown",
   "metadata": {},
   "source": [
    "#### Gradient Boost 5a\n",
    "- Optimized using Grid Search"
   ]
  },
  {
   "cell_type": "code",
   "execution_count": 71,
   "metadata": {},
   "outputs": [
    {
     "data": {
      "text/plain": [
       "0.6724677010857558"
      ]
     },
     "execution_count": 71,
     "metadata": {},
     "output_type": "execute_result"
    }
   ],
   "source": [
    "gb5a = GradientBoostingClassifier(learning_rate=.1, max_depth = 1, n_estimators = 200, subsample=.75).fit(X_train5a, y_train)\n",
    "cv_gb5a = cross_val_score(gb5a, X_train5a, y_train, scoring = 'accuracy', cv = 5).mean()\n",
    "cv_gb5a"
   ]
  },
  {
   "cell_type": "markdown",
   "metadata": {},
   "source": [
    "##### Grid Search"
   ]
  },
  {
   "cell_type": "code",
   "execution_count": 72,
   "metadata": {},
   "outputs": [],
   "source": [
    "# gb5a_params ={'learning_rate': [.001, .01, .1], 'n_estimators' : [100, 200, 500],\n",
    "#            'subsample': [.25, .5, .75], 'max_depth': [1, 2, 5, 10]}\n",
    "# gs_gb5a = GridSearchCV(gb5a, gb5a_params, scoring = 'accuracy', cv = 5)\n",
    "# gs_gb5a.fit(X_train5a, y_train)"
   ]
  },
  {
   "cell_type": "code",
   "execution_count": 73,
   "metadata": {},
   "outputs": [],
   "source": [
    "# gs_gb5a.best_params_\n",
    "## BEST PARAMETERS: {'learning_rate': 0.1, 'max_depth': 1, 'n_estimators': 200, 'subsample': 0.75}\n",
    "# gs_gb5a.best_score_\n",
    "## BEST SCORE: 0.6735469853340575"
   ]
  },
  {
   "cell_type": "markdown",
   "metadata": {},
   "source": [
    "##### Test Score"
   ]
  },
  {
   "cell_type": "code",
   "execution_count": 74,
   "metadata": {},
   "outputs": [
    {
     "name": "stderr",
     "output_type": "stream",
     "text": [
      "/anaconda3/lib/python3.6/site-packages/ipykernel_launcher.py:2: SettingWithCopyWarning: \n",
      "A value is trying to be set on a copy of a slice from a DataFrame.\n",
      "Try using .loc[row_indexer,col_indexer] = value instead\n",
      "\n",
      "See the caveats in the documentation: http://pandas.pydata.org/pandas-docs/stable/indexing.html#indexing-view-versus-copy\n",
      "  \n",
      "/anaconda3/lib/python3.6/site-packages/ipykernel_launcher.py:5: SettingWithCopyWarning: \n",
      "A value is trying to be set on a copy of a slice from a DataFrame.\n",
      "Try using .loc[row_indexer,col_indexer] = value instead\n",
      "\n",
      "See the caveats in the documentation: http://pandas.pydata.org/pandas-docs/stable/indexing.html#indexing-view-versus-copy\n",
      "  \"\"\"\n"
     ]
    }
   ],
   "source": [
    "# Gender 1: Male 0: Female\n",
    "X_test5a['PPGENDER'] = X_test5a['PPGENDER'].apply(lambda x: 1 if x==1 else 0)\n",
    "\n",
    "# Source 1: Specific sources 0: Many sources\n",
    "X_test5a['SOURCE1'] = X_test5a['SOURCE1'].apply(lambda x: 1 if x==1.0 else 0)\n",
    "\n",
    "topic_dummies_test = pd.get_dummies(X_test5a['TOPICINT_e'], drop_first = True)\n",
    "topic_dummies_test.rename(columns = {2.0: 'SciNews: Somewhat Interested',\n",
    "                               3.0: 'SciNews: Not Too Interested',\n",
    "                               4.0: 'SciNews: Not At All Interested'}, inplace = True)\n",
    "\n",
    "age_dummies_test = pd.get_dummies(X_test5a['ppagecat'], drop_first = True) \n",
    "age_dummies_test.rename(columns = {2: '25-34', 3: '35-44', 4: '45-54',\n",
    "                              5: '55-64', 6: '65-74', 7: '75+'}, inplace = True)\n",
    "\n",
    "\n",
    "edu_dummies_test = pd.get_dummies(X_test5a['PPEDUCAT'], drop_first = True)\n",
    "edu_dummies_test.rename(columns = {2: 'Completed HS', 3: 'Some College', 4: 'Bachelors+'}, inplace = True)\n",
    "\n",
    "sci_why_dummies_test = pd.get_dummies(X_test5a['SCIWHY_e'], drop_first = True)\n",
    "sci_why_dummies_test.rename(columns = {2.0: 'Curious about what\\'s happening in science minor reason',\n",
    "                                 3.0: 'Curious about what\\'s happening in science not a reason'}, inplace = True)\n",
    "\n",
    "topicbus_dummies_test = pd.get_dummies(X_test5a['TOPICINT_d'], drop_first = True)\n",
    "topicbus_dummies_test.rename(columns = {2.0: 'BusNews: Somewhat Interested',\n",
    "                               3.0: 'BusNews: Not Too Interested',\n",
    "                               4.0: 'BusNews: Not At All Interested'}, inplace = True)\n",
    "\n",
    "topicgov_dummies_test = pd.get_dummies(X_test5a['TOPICINT_a'], drop_first = True)\n",
    "topicgov_dummies_test.rename(columns = {2.0: 'GovNews: Somewhat Interested',\n",
    "                               3.0: 'GovNews: Not Too Interested',\n",
    "                               4.0: 'GovNews: Not At All Interested'}, inplace = True)"
   ]
  },
  {
   "cell_type": "code",
   "execution_count": 75,
   "metadata": {},
   "outputs": [],
   "source": [
    "X_test5a = pd.concat((X_test5a, topic_dummies_test, age_dummies_test, edu_dummies_test, \n",
    "                     sci_why_dummies_test, topicbus_dummies_test, topicgov_dummies_test), axis = 1)\n",
    "\n",
    "X_test5a.drop(labels = ['TOPICINT_e', 'ppagecat', 'PPEDUCAT', 'TOPICINT_d',\n",
    "                       'SCIWHY_e', 'TOPICINT_a'], axis = 1, inplace = True)"
   ]
  },
  {
   "cell_type": "code",
   "execution_count": 76,
   "metadata": {},
   "outputs": [
    {
     "data": {
      "text/plain": [
       "0.6828193832599119"
      ]
     },
     "execution_count": 76,
     "metadata": {},
     "output_type": "execute_result"
    }
   ],
   "source": [
    "gb5a.score(X_test5a, y_test)"
   ]
  },
  {
   "cell_type": "markdown",
   "metadata": {},
   "source": [
    "## MAKE PREDICTIONS"
   ]
  },
  {
   "cell_type": "code",
   "execution_count": 77,
   "metadata": {},
   "outputs": [
    {
     "name": "stdout",
     "output_type": "stream",
     "text": [
      "<class 'pandas.core.frame.DataFrame'>\n",
      "Int64Index: 1841 entries, 3846 to 3897\n",
      "Data columns (total 18 columns):\n",
      "PPGENDER                                                  1841 non-null int64\n",
      "SciNews: Somewhat Interested                              1841 non-null uint8\n",
      "SciNews: Not Too Interested                               1841 non-null uint8\n",
      "SciNews: Not At All Interested                            1841 non-null uint8\n",
      "25-34                                                     1841 non-null uint8\n",
      "35-44                                                     1841 non-null uint8\n",
      "45-54                                                     1841 non-null uint8\n",
      "55-64                                                     1841 non-null uint8\n",
      "65-74                                                     1841 non-null uint8\n",
      "75+                                                       1841 non-null uint8\n",
      "Completed HS                                              1841 non-null uint8\n",
      "Some College                                              1841 non-null uint8\n",
      "Bachelors+                                                1841 non-null uint8\n",
      "Curious about what's happening in science minor reason    1841 non-null uint8\n",
      "Curious about what's happening in science not a reason    1841 non-null uint8\n",
      "BusNews: Somewhat Interested                              1841 non-null uint8\n",
      "BusNews: Not Too Interested                               1841 non-null uint8\n",
      "BusNews: Not At All Interested                            1841 non-null uint8\n",
      "dtypes: int64(1), uint8(17)\n",
      "memory usage: 59.3 KB\n"
     ]
    }
   ],
   "source": [
    "X_train5.info()"
   ]
  },
  {
   "cell_type": "code",
   "execution_count": 78,
   "metadata": {},
   "outputs": [
    {
     "data": {
      "text/html": [
       "<div>\n",
       "<style scoped>\n",
       "    .dataframe tbody tr th:only-of-type {\n",
       "        vertical-align: middle;\n",
       "    }\n",
       "\n",
       "    .dataframe tbody tr th {\n",
       "        vertical-align: top;\n",
       "    }\n",
       "\n",
       "    .dataframe thead th {\n",
       "        text-align: right;\n",
       "    }\n",
       "</style>\n",
       "<table border=\"1\" class=\"dataframe\">\n",
       "  <thead>\n",
       "    <tr style=\"text-align: right;\">\n",
       "      <th></th>\n",
       "      <th>PPGENDER</th>\n",
       "      <th>SciNews: Somewhat Interested</th>\n",
       "      <th>SciNews: Not Too Interested</th>\n",
       "      <th>SciNews: Not At All Interested</th>\n",
       "      <th>25-34</th>\n",
       "      <th>35-44</th>\n",
       "      <th>45-54</th>\n",
       "      <th>55-64</th>\n",
       "      <th>65-74</th>\n",
       "      <th>75+</th>\n",
       "      <th>Completed HS</th>\n",
       "      <th>Some College</th>\n",
       "      <th>Bachelors+</th>\n",
       "      <th>Curious about what's happening in science minor reason</th>\n",
       "      <th>Curious about what's happening in science not a reason</th>\n",
       "      <th>BusNews: Somewhat Interested</th>\n",
       "      <th>BusNews: Not Too Interested</th>\n",
       "      <th>BusNews: Not At All Interested</th>\n",
       "    </tr>\n",
       "    <tr>\n",
       "      <th>CaseID</th>\n",
       "      <th></th>\n",
       "      <th></th>\n",
       "      <th></th>\n",
       "      <th></th>\n",
       "      <th></th>\n",
       "      <th></th>\n",
       "      <th></th>\n",
       "      <th></th>\n",
       "      <th></th>\n",
       "      <th></th>\n",
       "      <th></th>\n",
       "      <th></th>\n",
       "      <th></th>\n",
       "      <th></th>\n",
       "      <th></th>\n",
       "      <th></th>\n",
       "      <th></th>\n",
       "      <th></th>\n",
       "    </tr>\n",
       "  </thead>\n",
       "  <tbody>\n",
       "    <tr>\n",
       "      <th>3846</th>\n",
       "      <td>1</td>\n",
       "      <td>0</td>\n",
       "      <td>0</td>\n",
       "      <td>0</td>\n",
       "      <td>0</td>\n",
       "      <td>0</td>\n",
       "      <td>0</td>\n",
       "      <td>1</td>\n",
       "      <td>0</td>\n",
       "      <td>0</td>\n",
       "      <td>0</td>\n",
       "      <td>0</td>\n",
       "      <td>1</td>\n",
       "      <td>0</td>\n",
       "      <td>0</td>\n",
       "      <td>1</td>\n",
       "      <td>0</td>\n",
       "      <td>0</td>\n",
       "    </tr>\n",
       "    <tr>\n",
       "      <th>3293</th>\n",
       "      <td>1</td>\n",
       "      <td>1</td>\n",
       "      <td>0</td>\n",
       "      <td>0</td>\n",
       "      <td>0</td>\n",
       "      <td>1</td>\n",
       "      <td>0</td>\n",
       "      <td>0</td>\n",
       "      <td>0</td>\n",
       "      <td>0</td>\n",
       "      <td>0</td>\n",
       "      <td>0</td>\n",
       "      <td>1</td>\n",
       "      <td>0</td>\n",
       "      <td>0</td>\n",
       "      <td>0</td>\n",
       "      <td>0</td>\n",
       "      <td>0</td>\n",
       "    </tr>\n",
       "    <tr>\n",
       "      <th>317</th>\n",
       "      <td>0</td>\n",
       "      <td>1</td>\n",
       "      <td>0</td>\n",
       "      <td>0</td>\n",
       "      <td>0</td>\n",
       "      <td>1</td>\n",
       "      <td>0</td>\n",
       "      <td>0</td>\n",
       "      <td>0</td>\n",
       "      <td>0</td>\n",
       "      <td>0</td>\n",
       "      <td>0</td>\n",
       "      <td>1</td>\n",
       "      <td>0</td>\n",
       "      <td>0</td>\n",
       "      <td>0</td>\n",
       "      <td>0</td>\n",
       "      <td>1</td>\n",
       "    </tr>\n",
       "    <tr>\n",
       "      <th>1119</th>\n",
       "      <td>0</td>\n",
       "      <td>1</td>\n",
       "      <td>0</td>\n",
       "      <td>0</td>\n",
       "      <td>0</td>\n",
       "      <td>0</td>\n",
       "      <td>0</td>\n",
       "      <td>0</td>\n",
       "      <td>0</td>\n",
       "      <td>1</td>\n",
       "      <td>0</td>\n",
       "      <td>1</td>\n",
       "      <td>0</td>\n",
       "      <td>1</td>\n",
       "      <td>0</td>\n",
       "      <td>0</td>\n",
       "      <td>0</td>\n",
       "      <td>0</td>\n",
       "    </tr>\n",
       "    <tr>\n",
       "      <th>2347</th>\n",
       "      <td>0</td>\n",
       "      <td>1</td>\n",
       "      <td>0</td>\n",
       "      <td>0</td>\n",
       "      <td>1</td>\n",
       "      <td>0</td>\n",
       "      <td>0</td>\n",
       "      <td>0</td>\n",
       "      <td>0</td>\n",
       "      <td>0</td>\n",
       "      <td>1</td>\n",
       "      <td>0</td>\n",
       "      <td>0</td>\n",
       "      <td>1</td>\n",
       "      <td>0</td>\n",
       "      <td>0</td>\n",
       "      <td>1</td>\n",
       "      <td>0</td>\n",
       "    </tr>\n",
       "  </tbody>\n",
       "</table>\n",
       "</div>"
      ],
      "text/plain": [
       "        PPGENDER  SciNews: Somewhat Interested  SciNews: Not Too Interested  \\\n",
       "CaseID                                                                        \n",
       "3846           1                             0                            0   \n",
       "3293           1                             1                            0   \n",
       "317            0                             1                            0   \n",
       "1119           0                             1                            0   \n",
       "2347           0                             1                            0   \n",
       "\n",
       "        SciNews: Not At All Interested  25-34  35-44  45-54  55-64  65-74  \\\n",
       "CaseID                                                                      \n",
       "3846                                 0      0      0      0      1      0   \n",
       "3293                                 0      0      1      0      0      0   \n",
       "317                                  0      0      1      0      0      0   \n",
       "1119                                 0      0      0      0      0      0   \n",
       "2347                                 0      1      0      0      0      0   \n",
       "\n",
       "        75+  Completed HS  Some College  Bachelors+  \\\n",
       "CaseID                                                \n",
       "3846      0             0             0           1   \n",
       "3293      0             0             0           1   \n",
       "317       0             0             0           1   \n",
       "1119      1             0             1           0   \n",
       "2347      0             1             0           0   \n",
       "\n",
       "        Curious about what's happening in science minor reason  \\\n",
       "CaseID                                                           \n",
       "3846                                                    0        \n",
       "3293                                                    0        \n",
       "317                                                     0        \n",
       "1119                                                    1        \n",
       "2347                                                    1        \n",
       "\n",
       "        Curious about what's happening in science not a reason  \\\n",
       "CaseID                                                           \n",
       "3846                                                    0        \n",
       "3293                                                    0        \n",
       "317                                                     0        \n",
       "1119                                                    0        \n",
       "2347                                                    0        \n",
       "\n",
       "        BusNews: Somewhat Interested  BusNews: Not Too Interested  \\\n",
       "CaseID                                                              \n",
       "3846                               1                            0   \n",
       "3293                               0                            0   \n",
       "317                                0                            0   \n",
       "1119                               0                            0   \n",
       "2347                               0                            1   \n",
       "\n",
       "        BusNews: Not At All Interested  \n",
       "CaseID                                  \n",
       "3846                                 0  \n",
       "3293                                 0  \n",
       "317                                  1  \n",
       "1119                                 0  \n",
       "2347                                 0  "
      ]
     },
     "execution_count": 78,
     "metadata": {},
     "output_type": "execute_result"
    }
   ],
   "source": [
    "X_train5.head()"
   ]
  },
  {
   "cell_type": "code",
   "execution_count": 94,
   "metadata": {},
   "outputs": [],
   "source": [
    "gender = 1\n",
    "age = 3\n",
    "education = 4\n",
    "busnews = 4.0\n",
    "scinews = 4.0\n",
    "sciwhy = 3.0"
   ]
  },
  {
   "cell_type": "code",
   "execution_count": 95,
   "metadata": {},
   "outputs": [],
   "source": [
    "d = {'PPGENDER': [gender], 'ppagecat': [age],\n",
    "     'PPEDUCAT': [education], 'TOPICINT_d': [busnews],\n",
    "     'TOPICINT_e': [scinews], 'SCIWHY_e': [sciwhy]}"
   ]
  },
  {
   "cell_type": "code",
   "execution_count": 96,
   "metadata": {},
   "outputs": [],
   "source": [
    "X_new = pd.DataFrame(data = d)"
   ]
  },
  {
   "cell_type": "code",
   "execution_count": 97,
   "metadata": {},
   "outputs": [],
   "source": [
    "X_new['PPGENDER'] = gender\n",
    "X_new['ppagecat'] = age\n",
    "X_new['PPEDUCAT'] = education\n",
    "X_new['TOPICINT_d'] = busnews\n",
    "X_new['TOPICINT_e'] = scinews\n",
    "X_new['SCIWHY_e'] = sciwhy"
   ]
  },
  {
   "cell_type": "code",
   "execution_count": 98,
   "metadata": {},
   "outputs": [
    {
     "name": "stdout",
     "output_type": "stream",
     "text": [
      "<class 'pandas.core.frame.DataFrame'>\n",
      "RangeIndex: 1 entries, 0 to 0\n",
      "Data columns (total 6 columns):\n",
      "PPGENDER      1 non-null int64\n",
      "ppagecat      1 non-null int64\n",
      "PPEDUCAT      1 non-null int64\n",
      "TOPICINT_d    1 non-null float64\n",
      "TOPICINT_e    1 non-null float64\n",
      "SCIWHY_e      1 non-null float64\n",
      "dtypes: float64(3), int64(3)\n",
      "memory usage: 128.0 bytes\n"
     ]
    }
   ],
   "source": [
    "X_new.info()"
   ]
  },
  {
   "cell_type": "code",
   "execution_count": 99,
   "metadata": {},
   "outputs": [],
   "source": [
    "def transform_new(X_new):\n",
    "    # Transforms gender column\n",
    "    X_new['PPGENDER'] = X_new['PPGENDER'].apply(lambda x: 1 if x==1 else 0)\n",
    "    \n",
    "    # Transforms age column\n",
    "    if X_new['ppagecat'][0] == 1:\n",
    "        d = {'18-24': [1], '25-34': [0], '35-44': [0], '45-54': [0],\n",
    "             '55-64': [0], '65-74': [0], '75+': [0]}\n",
    "        age_dummies = pd.DataFrame(data = d)\n",
    "        \n",
    "    elif X_new['ppagecat'][0] == 2:\n",
    "        d = {'18-24': [0], '25-34': [1], '35-44': [0], '45-54': [0],\n",
    "             '55-64': [0], '65-74': [0], '75+': [0]}\n",
    "        age_dummies = pd.DataFrame(data = d)\n",
    "        \n",
    "    elif X_new['ppagecat'][0] == 3:\n",
    "        d = {'18-24': [0], '25-34': [0], '35-44': [1], '45-54': [0],\n",
    "             '55-64': [0], '65-74': [0], '75+': [0]}\n",
    "        age_dummies = pd.DataFrame(data = d)\n",
    "        \n",
    "        \n",
    "    elif X_new['ppagecat'][0] == 4:\n",
    "        d = {'18-24': [0], '25-34': [0], '35-44': [0], '45-54': [1],\n",
    "             '55-64': [0], '65-74': [0], '75+': [0]}\n",
    "        age_dummies = pd.DataFrame(data = d)\n",
    "        \n",
    "        \n",
    "    elif X_new['ppagecat'][0] == 5:\n",
    "        d = {'18-24': [0], '25-34': [0], '35-44': [0], '45-54': [0],\n",
    "             '55-64': [1], '65-74': [0], '75+': [0]}\n",
    "        age_dummies = pd.DataFrame(data = d)\n",
    "        \n",
    "        \n",
    "    elif X_new['ppagecat'][0] == 6:\n",
    "        d = {'18-24': [0], '25-34': [0], '35-44': [0], '45-54': [0],\n",
    "             '55-64': [0], '65-74': [1], '75+': [0]}\n",
    "        age_dummies = pd.DataFrame(data = d)\n",
    "       \n",
    "    \n",
    "    elif X_new['ppagecat'][0] == 7:\n",
    "        d = {'18-24': [0], '25-34': [0], '35-44': [0], '45-54': [0],\n",
    "             '55-64': [0], '65-74': [0], '75+': [1]}\n",
    "        age_dummies = pd.DataFrame(data = d)\n",
    "        \n",
    "    \n",
    "    # Transforms education column\n",
    "    if X_new['PPEDUCAT'][0] == 1:\n",
    "        d = {'Less than HS': [1], 'Completed HS': [0], 'Some College': [0], \n",
    "             'Bachelors+': [0]}\n",
    "        edu_dummies = pd.DataFrame(data = d)\n",
    "        \n",
    "    elif X_new['PPEDUCAT'][0] == 2:\n",
    "        d = {'Less than HS': [0], 'Completed HS': [1], 'Some College': [0], \n",
    "             'Bachelors+': [0]}\n",
    "        edu_dummies = pd.DataFrame(data = d)\n",
    "        \n",
    "    elif X_new['PPEDUCAT'][0] == 3:\n",
    "        d = {'Less than HS': [0], 'Completed HS': [0], 'Some College': [1], \n",
    "             'Bachelors+': [0]}\n",
    "        edu_dummies = pd.DataFrame(data = d)\n",
    "        \n",
    "    elif X_new['PPEDUCAT'][0] == 4:\n",
    "        d = {'Less than HS': [0], 'Completed HS': [0], 'Some College': [0], \n",
    "             'Bachelors+': [1]}\n",
    "        edu_dummies = pd.DataFrame(data = d)\n",
    "        \n",
    "    # Transforms Topic Int d column\n",
    "    if X_new['TOPICINT_d'][0] == 1.0:\n",
    "        d = {'BusNews: Very Interested': [1], \n",
    "             'BusNews: Somewhat Interested': [0], \n",
    "             'BusNews: Not Too Interested': [0], \n",
    "             'BusNews: Not At All Interested': [0]}\n",
    "        busnews_dummies = pd.DataFrame(data = d)\n",
    "        \n",
    "    elif X_new['TOPICINT_d'][0] == 2.0:\n",
    "        d = {'BusNews: Very Interested': [0], \n",
    "             'BusNews: Somewhat Interested': [1], \n",
    "             'BusNews: Not Too Interested': [0], \n",
    "             'BusNews: Not At All Interested': [0]}\n",
    "        busnews_dummies = pd.DataFrame(data = d)\n",
    "        \n",
    "    elif X_new['TOPICINT_d'][0] == 3.0:\n",
    "        d = {'BusNews: Very Interested': [0], \n",
    "             'BusNews: Somewhat Interested': [0], \n",
    "             'BusNews: Not Too Interested': [1], \n",
    "             'BusNews: Not At All Interested': [0]}\n",
    "        busnews_dummies = pd.DataFrame(data = d)\n",
    "        \n",
    "    elif X_new['TOPICINT_d'][0] == 4.0:\n",
    "        d = {'BusNews: Very Interested': [0], \n",
    "             'BusNews: Somewhat Interested': [0], \n",
    "             'BusNews: Not Too Interested': [0], \n",
    "             'BusNews: Not At All Interested': [1]}\n",
    "        busnews_dummies = pd.DataFrame(data = d)\n",
    "        \n",
    "    # Transforms Topic Int e column\n",
    "    if X_new['TOPICINT_e'][0] == 1.0:\n",
    "        d = {'SciNews: Very Interested': [1], \n",
    "             'SciNews: Somewhat Interested': [0], \n",
    "             'SciNews: Not Too Interested': [0], \n",
    "             'SciNews: Not At All Interested': [0]}\n",
    "        scinews_dummies = pd.DataFrame(data = d)\n",
    "        \n",
    "    elif X_new['TOPICINT_e'][0] == 2.0:\n",
    "        d = {'SciNews: Very Interested': [0], \n",
    "             'SciNews: Somewhat Interested': [1], \n",
    "             'SciNews: Not Too Interested': [0], \n",
    "             'SciNews: Not At All Interested': [0]}\n",
    "        scinews_dummies = pd.DataFrame(data = d)\n",
    "        \n",
    "    elif X_new['TOPICINT_e'][0] == 3.0:\n",
    "        d = {'SciNews: Very Interested': [0], \n",
    "             'SciNews: Somewhat Interested': [0], \n",
    "             'SciNews: Not Too Interested': [1], \n",
    "             'SciNews: Not At All Interested': [0]}\n",
    "        scinews_dummies = pd.DataFrame(data = d)\n",
    "        \n",
    "    elif X_new['TOPICINT_e'][0] == 4.0:\n",
    "        d = {'SciNews: Very Interested': [0], \n",
    "             'SciNews: Somewhat Interested': [0], \n",
    "             'SciNews: Not Too Interested': [0], \n",
    "             'SciNews: Not At All Interested': [1]}\n",
    "        scinews_dummies = pd.DataFrame(data = d)\n",
    "        \n",
    "    # Transforms Sci Why column\n",
    "    if X_new['SCIWHY_e'][0] == 1.0:\n",
    "        d = {'Curious about what\\'s happening in science major reason': [1], \n",
    "             'Curious about what\\'s happening in science minor reason': [0], \n",
    "             'Curious about what\\'s happening in science not a reason': [0]}\n",
    "        sciwhy_dummies = pd.DataFrame(data = d)\n",
    "        \n",
    "    elif X_new['SCIWHY_e'][0] == 2.0:\n",
    "        d = {'Curious about what\\'s happening in science major reason': [0], \n",
    "             'Curious about what\\'s happening in science minor reason': [1], \n",
    "             'Curious about what\\'s happening in science not a reason': [0]}\n",
    "        sciwhy_dummies = pd.DataFrame(data = d)\n",
    "        \n",
    "    elif X_new['SCIWHY_e'][0] == 3.0:\n",
    "        d = {'Curious about what\\'s happening in science major reason': [0], \n",
    "             'Curious about what\\'s happening in science minor reason': [0], \n",
    "             'Curious about what\\'s happening in science not a reason': [1]}\n",
    "        sciwhy_dummies = pd.DataFrame(data = d)\n",
    "        \n",
    "        \n",
    "    age_dummies.drop(columns = '18-24', axis = 1, inplace = True)\n",
    "    edu_dummies.drop(columns = 'Less than HS', axis = 1, inplace = True)\n",
    "    busnews_dummies.drop(columns = 'BusNews: Very Interested', axis = 1, inplace = True)\n",
    "    scinews_dummies.drop(columns = 'SciNews: Very Interested', axis = 1, inplace = True)\n",
    "    sciwhy_dummies.drop(columns = 'Curious about what\\'s happening in science major reason', axis = 1, inplace = True)\n",
    "        \n",
    "    \n",
    "    X_new = pd.concat((X_new, scinews_dummies, age_dummies, edu_dummies, \n",
    "                       sciwhy_dummies, busnews_dummies), axis = 1)\n",
    "\n",
    "    X_new.drop(labels = ['TOPICINT_e', 'ppagecat', 'PPEDUCAT', 'TOPICINT_d',\n",
    "                       'SCIWHY_e'], axis = 1, inplace = True)\n",
    "    \n",
    "    return X_new\n",
    "    \n",
    "    \n",
    "    \n",
    "    "
   ]
  },
  {
   "cell_type": "code",
   "execution_count": 100,
   "metadata": {},
   "outputs": [],
   "source": [
    "X_new = transform_new(X_new)"
   ]
  },
  {
   "cell_type": "code",
   "execution_count": 103,
   "metadata": {
    "scrolled": false
   },
   "outputs": [
    {
     "data": {
      "text/html": [
       "<div>\n",
       "<style scoped>\n",
       "    .dataframe tbody tr th:only-of-type {\n",
       "        vertical-align: middle;\n",
       "    }\n",
       "\n",
       "    .dataframe tbody tr th {\n",
       "        vertical-align: top;\n",
       "    }\n",
       "\n",
       "    .dataframe thead th {\n",
       "        text-align: right;\n",
       "    }\n",
       "</style>\n",
       "<table border=\"1\" class=\"dataframe\">\n",
       "  <thead>\n",
       "    <tr style=\"text-align: right;\">\n",
       "      <th></th>\n",
       "      <th>PPGENDER</th>\n",
       "      <th>SciNews: Somewhat Interested</th>\n",
       "      <th>SciNews: Not Too Interested</th>\n",
       "      <th>SciNews: Not At All Interested</th>\n",
       "      <th>25-34</th>\n",
       "      <th>35-44</th>\n",
       "      <th>45-54</th>\n",
       "      <th>55-64</th>\n",
       "      <th>65-74</th>\n",
       "      <th>75+</th>\n",
       "      <th>Completed HS</th>\n",
       "      <th>Some College</th>\n",
       "      <th>Bachelors+</th>\n",
       "      <th>Curious about what's happening in science minor reason</th>\n",
       "      <th>Curious about what's happening in science not a reason</th>\n",
       "      <th>BusNews: Somewhat Interested</th>\n",
       "      <th>BusNews: Not Too Interested</th>\n",
       "      <th>BusNews: Not At All Interested</th>\n",
       "    </tr>\n",
       "  </thead>\n",
       "  <tbody>\n",
       "    <tr>\n",
       "      <th>0</th>\n",
       "      <td>1</td>\n",
       "      <td>0</td>\n",
       "      <td>0</td>\n",
       "      <td>1</td>\n",
       "      <td>0</td>\n",
       "      <td>1</td>\n",
       "      <td>0</td>\n",
       "      <td>0</td>\n",
       "      <td>0</td>\n",
       "      <td>0</td>\n",
       "      <td>0</td>\n",
       "      <td>0</td>\n",
       "      <td>1</td>\n",
       "      <td>0</td>\n",
       "      <td>1</td>\n",
       "      <td>0</td>\n",
       "      <td>0</td>\n",
       "      <td>1</td>\n",
       "    </tr>\n",
       "  </tbody>\n",
       "</table>\n",
       "</div>"
      ],
      "text/plain": [
       "   PPGENDER  SciNews: Somewhat Interested  SciNews: Not Too Interested  \\\n",
       "0         1                             0                            0   \n",
       "\n",
       "   SciNews: Not At All Interested  25-34  35-44  45-54  55-64  65-74  75+  \\\n",
       "0                               1      0      1      0      0      0    0   \n",
       "\n",
       "   Completed HS  Some College  Bachelors+  \\\n",
       "0             0             0           1   \n",
       "\n",
       "   Curious about what's happening in science minor reason  \\\n",
       "0                                                  0        \n",
       "\n",
       "   Curious about what's happening in science not a reason  \\\n",
       "0                                                  1        \n",
       "\n",
       "   BusNews: Somewhat Interested  BusNews: Not Too Interested  \\\n",
       "0                             0                            0   \n",
       "\n",
       "   BusNews: Not At All Interested  \n",
       "0                               1  "
      ]
     },
     "execution_count": 103,
     "metadata": {},
     "output_type": "execute_result"
    }
   ],
   "source": [
    "X_new.head()"
   ]
  },
  {
   "cell_type": "markdown",
   "metadata": {},
   "source": [
    "##### Grid Search GB5"
   ]
  },
  {
   "cell_type": "code",
   "execution_count": 106,
   "metadata": {},
   "outputs": [],
   "source": [
    "# gb5_params ={'learning_rate': [.01, .1], 'n_estimators' : [50, 100, 200],\n",
    "#            'subsample': [.25, .5, .75], 'max_depth': [1, 2, 10]}\n",
    "# gs_gb5 = GridSearchCV(gb5, gb5_params, scoring = 'accuracy', cv = 5)\n",
    "# gs_gb5.fit(X_train5, y_train)"
   ]
  },
  {
   "cell_type": "code",
   "execution_count": 107,
   "metadata": {},
   "outputs": [],
   "source": [
    "# Best Params{'learning_rate': 0.1, 'max_depth': 2, 'n_estimators': 50, 'subsample': 0.5}\n",
    "# gs_gb5.best_score_"
   ]
  },
  {
   "cell_type": "code",
   "execution_count": 108,
   "metadata": {
    "scrolled": true
   },
   "outputs": [],
   "source": [
    "# gs_gb5.best_params_"
   ]
  },
  {
   "cell_type": "markdown",
   "metadata": {},
   "source": [
    "### Model 6\n",
    "- Add TopicIntA"
   ]
  },
  {
   "cell_type": "code",
   "execution_count": 109,
   "metadata": {},
   "outputs": [],
   "source": [
    "features6 = ['PPGENDER', 'TOPICINT_e', 'ppagecat', 'PPEDUCAT', 'TOPICINT_d', 'TOPICINT_a', 'SCIWHY_e']\n",
    "X_train6 = X_train[features6]"
   ]
  },
  {
   "cell_type": "code",
   "execution_count": 110,
   "metadata": {},
   "outputs": [
    {
     "name": "stderr",
     "output_type": "stream",
     "text": [
      "/anaconda3/lib/python3.6/site-packages/ipykernel_launcher.py:2: SettingWithCopyWarning: \n",
      "A value is trying to be set on a copy of a slice from a DataFrame.\n",
      "Try using .loc[row_indexer,col_indexer] = value instead\n",
      "\n",
      "See the caveats in the documentation: http://pandas.pydata.org/pandas-docs/stable/indexing.html#indexing-view-versus-copy\n",
      "  \n"
     ]
    }
   ],
   "source": [
    "# Gender 1: Male 0: Female\n",
    "X_train6['PPGENDER'] = X_train6['PPGENDER'].apply(lambda x: 1 if x==1 else 0)\n",
    "\n",
    "topic_dummies = pd.get_dummies(X_train6['TOPICINT_e'], drop_first = True)\n",
    "topic_dummies.rename(columns = {2.0: 'SciNews: Somewhat Interested',\n",
    "                               3.0: 'SciNews: Not Too Interested',\n",
    "                               4.0: 'SciNews: Not At All Interested'}, inplace = True)\n",
    "\n",
    "age_dummies = pd.get_dummies(X_train6['ppagecat'], drop_first = True) \n",
    "age_dummies.rename(columns = {2: '25-34', 3: '35-44', 4: '45-54',\n",
    "                              5: '55-64', 6: '65-74', 7: '75+'}, inplace = True)\n",
    "\n",
    "\n",
    "edu_dummies = pd.get_dummies(X_train6['PPEDUCAT'], drop_first = True)\n",
    "edu_dummies.rename(columns = {2: 'Completed HS', 3: 'Some College', 4: 'Bachelors+'}, inplace = True)\n",
    "\n",
    "\n",
    "topicbus_dummies = pd.get_dummies(X_train6['TOPICINT_d'], drop_first = True)\n",
    "\n",
    "topicbus_dummies.rename(columns = {2.0: 'BusNews: Somewhat Interested',\n",
    "                               3.0: 'BusNews: Not Too Interested',\n",
    "                               4.0: 'BusNews: Not At All Interested'}, inplace = True)\n",
    "\n",
    "topicgov_dummies = pd.get_dummies(X_train6['TOPICINT_a'], drop_first = True)\n",
    "\n",
    "topicgov_dummies.rename(columns = {2.0: 'GovNews: Somewhat Interested',\n",
    "                               3.0: 'GovNews: Not Too Interested',\n",
    "                               4.0: 'GovNews: Not At All Interested'}, inplace = True)\n",
    "\n",
    "sci_why_dummies = pd.get_dummies(X_train6['SCIWHY_e'], drop_first = True)\n",
    "sci_why_dummies.rename(columns = {2.0: 'Curious about what\\'s happening in science minor reason',\n",
    "                                 3.0: 'Curious about what\\'s happening in science not a reason'}, inplace = True)"
   ]
  },
  {
   "cell_type": "code",
   "execution_count": 111,
   "metadata": {},
   "outputs": [],
   "source": [
    "X_train6 = pd.concat((X_train6, topic_dummies, age_dummies, edu_dummies, \n",
    "                     topicbus_dummies, sci_why_dummies, topicgov_dummies), axis = 1)\n",
    "\n",
    "X_train6.drop(labels = ['TOPICINT_e', 'ppagecat', 'PPEDUCAT', 'TOPICINT_d', 'TOPICINT_a', 'SCIWHY_e'], \n",
    "              axis = 1, inplace = True)"
   ]
  },
  {
   "cell_type": "code",
   "execution_count": 112,
   "metadata": {},
   "outputs": [
    {
     "data": {
      "text/plain": [
       "(1841, 21)"
      ]
     },
     "execution_count": 112,
     "metadata": {},
     "output_type": "execute_result"
    }
   ],
   "source": [
    "X_train6.shape"
   ]
  },
  {
   "cell_type": "code",
   "execution_count": 113,
   "metadata": {},
   "outputs": [
    {
     "data": {
      "text/html": [
       "<div>\n",
       "<style scoped>\n",
       "    .dataframe tbody tr th:only-of-type {\n",
       "        vertical-align: middle;\n",
       "    }\n",
       "\n",
       "    .dataframe tbody tr th {\n",
       "        vertical-align: top;\n",
       "    }\n",
       "\n",
       "    .dataframe thead th {\n",
       "        text-align: right;\n",
       "    }\n",
       "</style>\n",
       "<table border=\"1\" class=\"dataframe\">\n",
       "  <thead>\n",
       "    <tr style=\"text-align: right;\">\n",
       "      <th></th>\n",
       "      <th>PPGENDER</th>\n",
       "      <th>SciNews: Somewhat Interested</th>\n",
       "      <th>SciNews: Not Too Interested</th>\n",
       "      <th>SciNews: Not At All Interested</th>\n",
       "      <th>25-34</th>\n",
       "      <th>35-44</th>\n",
       "      <th>45-54</th>\n",
       "      <th>55-64</th>\n",
       "      <th>65-74</th>\n",
       "      <th>75+</th>\n",
       "      <th>...</th>\n",
       "      <th>Some College</th>\n",
       "      <th>Bachelors+</th>\n",
       "      <th>BusNews: Somewhat Interested</th>\n",
       "      <th>BusNews: Not Too Interested</th>\n",
       "      <th>BusNews: Not At All Interested</th>\n",
       "      <th>Curious about what's happening in science minor reason</th>\n",
       "      <th>Curious about what's happening in science not a reason</th>\n",
       "      <th>GovNews: Somewhat Interested</th>\n",
       "      <th>GovNews: Not Too Interested</th>\n",
       "      <th>GovNews: Not At All Interested</th>\n",
       "    </tr>\n",
       "    <tr>\n",
       "      <th>CaseID</th>\n",
       "      <th></th>\n",
       "      <th></th>\n",
       "      <th></th>\n",
       "      <th></th>\n",
       "      <th></th>\n",
       "      <th></th>\n",
       "      <th></th>\n",
       "      <th></th>\n",
       "      <th></th>\n",
       "      <th></th>\n",
       "      <th></th>\n",
       "      <th></th>\n",
       "      <th></th>\n",
       "      <th></th>\n",
       "      <th></th>\n",
       "      <th></th>\n",
       "      <th></th>\n",
       "      <th></th>\n",
       "      <th></th>\n",
       "      <th></th>\n",
       "      <th></th>\n",
       "    </tr>\n",
       "  </thead>\n",
       "  <tbody>\n",
       "    <tr>\n",
       "      <th>3846</th>\n",
       "      <td>1</td>\n",
       "      <td>0</td>\n",
       "      <td>0</td>\n",
       "      <td>0</td>\n",
       "      <td>0</td>\n",
       "      <td>0</td>\n",
       "      <td>0</td>\n",
       "      <td>1</td>\n",
       "      <td>0</td>\n",
       "      <td>0</td>\n",
       "      <td>...</td>\n",
       "      <td>0</td>\n",
       "      <td>1</td>\n",
       "      <td>1</td>\n",
       "      <td>0</td>\n",
       "      <td>0</td>\n",
       "      <td>0</td>\n",
       "      <td>0</td>\n",
       "      <td>0</td>\n",
       "      <td>0</td>\n",
       "      <td>0</td>\n",
       "    </tr>\n",
       "    <tr>\n",
       "      <th>3293</th>\n",
       "      <td>1</td>\n",
       "      <td>1</td>\n",
       "      <td>0</td>\n",
       "      <td>0</td>\n",
       "      <td>0</td>\n",
       "      <td>1</td>\n",
       "      <td>0</td>\n",
       "      <td>0</td>\n",
       "      <td>0</td>\n",
       "      <td>0</td>\n",
       "      <td>...</td>\n",
       "      <td>0</td>\n",
       "      <td>1</td>\n",
       "      <td>0</td>\n",
       "      <td>0</td>\n",
       "      <td>0</td>\n",
       "      <td>0</td>\n",
       "      <td>0</td>\n",
       "      <td>0</td>\n",
       "      <td>0</td>\n",
       "      <td>0</td>\n",
       "    </tr>\n",
       "    <tr>\n",
       "      <th>317</th>\n",
       "      <td>0</td>\n",
       "      <td>1</td>\n",
       "      <td>0</td>\n",
       "      <td>0</td>\n",
       "      <td>0</td>\n",
       "      <td>1</td>\n",
       "      <td>0</td>\n",
       "      <td>0</td>\n",
       "      <td>0</td>\n",
       "      <td>0</td>\n",
       "      <td>...</td>\n",
       "      <td>0</td>\n",
       "      <td>1</td>\n",
       "      <td>0</td>\n",
       "      <td>0</td>\n",
       "      <td>1</td>\n",
       "      <td>0</td>\n",
       "      <td>0</td>\n",
       "      <td>0</td>\n",
       "      <td>1</td>\n",
       "      <td>0</td>\n",
       "    </tr>\n",
       "    <tr>\n",
       "      <th>1119</th>\n",
       "      <td>0</td>\n",
       "      <td>1</td>\n",
       "      <td>0</td>\n",
       "      <td>0</td>\n",
       "      <td>0</td>\n",
       "      <td>0</td>\n",
       "      <td>0</td>\n",
       "      <td>0</td>\n",
       "      <td>0</td>\n",
       "      <td>1</td>\n",
       "      <td>...</td>\n",
       "      <td>1</td>\n",
       "      <td>0</td>\n",
       "      <td>0</td>\n",
       "      <td>0</td>\n",
       "      <td>0</td>\n",
       "      <td>1</td>\n",
       "      <td>0</td>\n",
       "      <td>0</td>\n",
       "      <td>0</td>\n",
       "      <td>0</td>\n",
       "    </tr>\n",
       "    <tr>\n",
       "      <th>2347</th>\n",
       "      <td>0</td>\n",
       "      <td>1</td>\n",
       "      <td>0</td>\n",
       "      <td>0</td>\n",
       "      <td>1</td>\n",
       "      <td>0</td>\n",
       "      <td>0</td>\n",
       "      <td>0</td>\n",
       "      <td>0</td>\n",
       "      <td>0</td>\n",
       "      <td>...</td>\n",
       "      <td>0</td>\n",
       "      <td>0</td>\n",
       "      <td>0</td>\n",
       "      <td>1</td>\n",
       "      <td>0</td>\n",
       "      <td>1</td>\n",
       "      <td>0</td>\n",
       "      <td>1</td>\n",
       "      <td>0</td>\n",
       "      <td>0</td>\n",
       "    </tr>\n",
       "  </tbody>\n",
       "</table>\n",
       "<p>5 rows × 21 columns</p>\n",
       "</div>"
      ],
      "text/plain": [
       "        PPGENDER  SciNews: Somewhat Interested  SciNews: Not Too Interested  \\\n",
       "CaseID                                                                        \n",
       "3846           1                             0                            0   \n",
       "3293           1                             1                            0   \n",
       "317            0                             1                            0   \n",
       "1119           0                             1                            0   \n",
       "2347           0                             1                            0   \n",
       "\n",
       "        SciNews: Not At All Interested  25-34  35-44  45-54  55-64  65-74  \\\n",
       "CaseID                                                                      \n",
       "3846                                 0      0      0      0      1      0   \n",
       "3293                                 0      0      1      0      0      0   \n",
       "317                                  0      0      1      0      0      0   \n",
       "1119                                 0      0      0      0      0      0   \n",
       "2347                                 0      1      0      0      0      0   \n",
       "\n",
       "        75+               ...                Some College  Bachelors+  \\\n",
       "CaseID                    ...                                           \n",
       "3846      0               ...                           0           1   \n",
       "3293      0               ...                           0           1   \n",
       "317       0               ...                           0           1   \n",
       "1119      1               ...                           1           0   \n",
       "2347      0               ...                           0           0   \n",
       "\n",
       "        BusNews: Somewhat Interested  BusNews: Not Too Interested  \\\n",
       "CaseID                                                              \n",
       "3846                               1                            0   \n",
       "3293                               0                            0   \n",
       "317                                0                            0   \n",
       "1119                               0                            0   \n",
       "2347                               0                            1   \n",
       "\n",
       "        BusNews: Not At All Interested  \\\n",
       "CaseID                                   \n",
       "3846                                 0   \n",
       "3293                                 0   \n",
       "317                                  1   \n",
       "1119                                 0   \n",
       "2347                                 0   \n",
       "\n",
       "        Curious about what's happening in science minor reason  \\\n",
       "CaseID                                                           \n",
       "3846                                                    0        \n",
       "3293                                                    0        \n",
       "317                                                     0        \n",
       "1119                                                    1        \n",
       "2347                                                    1        \n",
       "\n",
       "        Curious about what's happening in science not a reason  \\\n",
       "CaseID                                                           \n",
       "3846                                                    0        \n",
       "3293                                                    0        \n",
       "317                                                     0        \n",
       "1119                                                    0        \n",
       "2347                                                    0        \n",
       "\n",
       "        GovNews: Somewhat Interested  GovNews: Not Too Interested  \\\n",
       "CaseID                                                              \n",
       "3846                               0                            0   \n",
       "3293                               0                            0   \n",
       "317                                0                            1   \n",
       "1119                               0                            0   \n",
       "2347                               1                            0   \n",
       "\n",
       "        GovNews: Not At All Interested  \n",
       "CaseID                                  \n",
       "3846                                 0  \n",
       "3293                                 0  \n",
       "317                                  0  \n",
       "1119                                 0  \n",
       "2347                                 0  \n",
       "\n",
       "[5 rows x 21 columns]"
      ]
     },
     "execution_count": 113,
     "metadata": {},
     "output_type": "execute_result"
    }
   ],
   "source": [
    "X_train6.head()"
   ]
  },
  {
   "cell_type": "markdown",
   "metadata": {},
   "source": [
    "#### Logistic Regression 6"
   ]
  },
  {
   "cell_type": "code",
   "execution_count": 114,
   "metadata": {},
   "outputs": [
    {
     "data": {
      "text/plain": [
       "0.6730244591232626"
      ]
     },
     "execution_count": 114,
     "metadata": {},
     "output_type": "execute_result"
    }
   ],
   "source": [
    "log_reg6 = LogisticRegression().fit(X_train6, y_train)\n",
    "cv_lr6 = cross_val_score(log_reg6, X_train6, y_train, scoring = 'accuracy', cv = 5).mean()\n",
    "cv_lr6"
   ]
  },
  {
   "cell_type": "markdown",
   "metadata": {},
   "source": [
    "#### Random Forest 6"
   ]
  },
  {
   "cell_type": "code",
   "execution_count": 115,
   "metadata": {},
   "outputs": [
    {
     "data": {
      "text/plain": [
       "0.6659871620821153"
      ]
     },
     "execution_count": 115,
     "metadata": {},
     "output_type": "execute_result"
    }
   ],
   "source": [
    "rf6 = RandomForestClassifier(n_estimators = 100, max_depth=10).fit(X_train6, y_train)\n",
    "cv_rf6 = cross_val_score(rf6, X_train6, y_train, scoring = 'accuracy', cv = 5).mean()\n",
    "cv_rf6"
   ]
  },
  {
   "cell_type": "markdown",
   "metadata": {},
   "source": [
    "#### Gradient Boost 6"
   ]
  },
  {
   "cell_type": "code",
   "execution_count": 116,
   "metadata": {},
   "outputs": [
    {
     "data": {
      "text/plain": [
       "0.66761024055687"
      ]
     },
     "execution_count": 116,
     "metadata": {},
     "output_type": "execute_result"
    }
   ],
   "source": [
    "gb6 = GradientBoostingClassifier(learning_rate=.1, max_depth = 1, n_estimators = 100, subsample=.25).fit(X_train6, y_train)\n",
    "cv_gb6 = cross_val_score(gb6, X_train6, y_train, scoring = 'accuracy', cv = 5).mean()\n",
    "cv_gb6"
   ]
  },
  {
   "cell_type": "code",
   "execution_count": null,
   "metadata": {},
   "outputs": [],
   "source": []
  }
 ],
 "metadata": {
  "kernelspec": {
   "display_name": "Python 3",
   "language": "python",
   "name": "python3"
  },
  "language_info": {
   "codemirror_mode": {
    "name": "ipython",
    "version": 3
   },
   "file_extension": ".py",
   "mimetype": "text/x-python",
   "name": "python",
   "nbconvert_exporter": "python",
   "pygments_lexer": "ipython3",
   "version": "3.6.5"
  }
 },
 "nbformat": 4,
 "nbformat_minor": 2
}
