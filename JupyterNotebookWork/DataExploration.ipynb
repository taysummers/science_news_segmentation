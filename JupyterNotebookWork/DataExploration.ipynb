{
 "cells": [
  {
   "cell_type": "markdown",
   "metadata": {},
   "source": [
    "# Exploring the Dataset\n",
    "\n",
    "## The following code was used to understand the data downloaded from PEW Research Center\n",
    "\n",
    "### The Process\n",
    "- Data was read into a pandas dataframe from a csv file\n",
    "- Dropped variables that would not be used in analysis\n",
    "- Filtered Respondents based on criteria:\n",
    "    - Took less than 5 minutes to respond to survey\n",
    "    - Refused to answer a question\n",
    "\n",
    "### The Results\n",
    "- A clean dataset to work with for the remainder of the project\n",
    "        \n",
    "## Work Shown Below"
   ]
  },
  {
   "cell_type": "code",
   "execution_count": 1,
   "metadata": {
    "scrolled": true
   },
   "outputs": [],
   "source": [
    "import pandas as pd\n",
    "import numpy as np\n",
    "import matplotlib.pyplot as plt\n",
    "% matplotlib inline"
   ]
  },
  {
   "cell_type": "markdown",
   "metadata": {},
   "source": [
    "### Reading the Data"
   ]
  },
  {
   "cell_type": "code",
   "execution_count": 3,
   "metadata": {},
   "outputs": [],
   "source": [
    "total_data = pd.read_csv('../data/2017 Pew Research Center Science and News Survey/Segmentation_data.csv', index_col= 'CaseID')"
   ]
  },
  {
   "cell_type": "markdown",
   "metadata": {},
   "source": [
    "### Dropping Data\n",
    "- Dropping all open ended data for now, it won't go in to the segmentation. \n",
    "    - Have the text data \n",
    "- Dropping tm_start, tm_finish\n",
    "- Dropping XSpanish (did they or did take survey in spanish or english\n",
    "- Dropping PPMSACAT, PPTO1_Col.... presence of children in the HH\n",
    "- Dropping DOV Form (which openended were they shown) (WILL NEED IF WE USE OPEN ENDED)"
   ]
  },
  {
   "cell_type": "code",
   "execution_count": 4,
   "metadata": {},
   "outputs": [],
   "source": [
    "dropped_data = total_data.drop(labels = ['weight', 'HOBBY2_1', 'HOBBY2_2', 'HOBBY2_3',\n",
    "                            'GREATPAST_OE1', 'GREATPAST_OE2', 'GREATPAST_OE3', \n",
    "                            'GREATFUTURE_OE1', 'GREATFUTURE_OE2', 'GREATFUTURE_OE3',\n",
    "                           'FAKE_OE1','FAKE_OE2', 'FAKE_OE3',\n",
    "                           'DISAG_OE1', 'DISAG_OE2', 'DISAG_OE3',\n",
    "                           'DECIS_OE1', 'DECIS_OE2', 'DECIS_OE3',\n",
    "                           'tm_start', 'tm_finish',\n",
    "                           'XSPANISH', 'PPT01_COL', 'PPT25_COL', 'PPT612_COL', 'PPT1317_COL', 'PPT18OV_COL', \n",
    "                           'DOV_FORM'], axis = 1)"
   ]
  },
  {
   "cell_type": "code",
   "execution_count": 5,
   "metadata": {
    "scrolled": true
   },
   "outputs": [
    {
     "name": "stdout",
     "output_type": "stream",
     "text": [
      "<class 'pandas.core.frame.DataFrame'>\n",
      "Int64Index: 4024 entries, 6 to 4313\n",
      "Data columns (total 100 columns):\n",
      "duration           4024 non-null int64\n",
      "LIFE               4024 non-null int64\n",
      "MUSEUM_a           4024 non-null int64\n",
      "MUSEUM_b           4024 non-null int64\n",
      "MUSEUM_c           4024 non-null int64\n",
      "MUSEUM_d           4024 non-null int64\n",
      "MUSEUM_e           4024 non-null int64\n",
      "MUSEUM_f           4024 non-null int64\n",
      "MUSEUM_g           4024 non-null int64\n",
      "MUSEUM_h           4024 non-null int64\n",
      "MUSEUM_i           4024 non-null int64\n",
      "MUSEUM_j           4024 non-null int64\n",
      "MUSEUM_Refused     4024 non-null int64\n",
      "TOPICINT_a         4024 non-null int64\n",
      "TOPICINT_b         4024 non-null int64\n",
      "TOPICINT_c         4024 non-null int64\n",
      "TOPICINT_d         4024 non-null int64\n",
      "TOPICINT_e         4024 non-null int64\n",
      "TOPICINT_f         4024 non-null int64\n",
      "SCIOFTEN           4024 non-null int64\n",
      "TOPICS1            4024 non-null int64\n",
      "TOPICS2_a          4024 non-null int64\n",
      "TOPICS2_b          4024 non-null int64\n",
      "TOPICS2_c          4024 non-null int64\n",
      "TOPICS2_d          4024 non-null int64\n",
      "TOPICS2_e          4024 non-null int64\n",
      "TOPICS2_f          4024 non-null int64\n",
      "TOPICS2_g          4024 non-null int64\n",
      "TOPICS2_h          4024 non-null int64\n",
      "TOPICS2_i          4024 non-null int64\n",
      "TOPICS2_Refused    4024 non-null int64\n",
      "TOPICMOST          4024 non-null object\n",
      "SOURCE1            4024 non-null int64\n",
      "SOURCE2            4024 non-null int64\n",
      "ENJOY              4024 non-null int64\n",
      "KNOWLEDGE          4024 non-null int64\n",
      "SEEK               4024 non-null int64\n",
      "SOURCE3_a          4024 non-null int64\n",
      "SOURCE3_b          4024 non-null int64\n",
      "SOURCE3_c          4024 non-null int64\n",
      "SOURCE3_d          4024 non-null int64\n",
      "SOURCE3_e          4024 non-null int64\n",
      "SOURCE3_f          4024 non-null int64\n",
      "SOURCE3_g          4024 non-null int64\n",
      "SOURCE3_h          4024 non-null int64\n",
      "SOURCE3_i          4024 non-null int64\n",
      "SOURCE3_j          4024 non-null int64\n",
      "SOURCE3_k          4024 non-null int64\n",
      "SOURCE3_Refused    4024 non-null int64\n",
      "SOURCEALT          4024 non-null int64\n",
      "SCIWHY_a           4024 non-null int64\n",
      "SCIWHY_b           4024 non-null int64\n",
      "SCIWHY_c           4024 non-null int64\n",
      "SCIWHY_d           4024 non-null int64\n",
      "SCIWHY_e           4024 non-null int64\n",
      "SCIWHY_f           4024 non-null object\n",
      "SCIWHY_g           4024 non-null int64\n",
      "WHYNOT_a           4024 non-null int64\n",
      "WHYNOT_b           4024 non-null int64\n",
      "WHYNOT_c           4024 non-null int64\n",
      "WHYNOT_d           4024 non-null int64\n",
      "WHYNOT_e           4024 non-null int64\n",
      "WHYNOT_f           4024 non-null int64\n",
      "WHYNOT_g           4024 non-null int64\n",
      "WHYNOT_h           4024 non-null int64\n",
      "NEWSJOB            4024 non-null int64\n",
      "NEWSFACTS_a        4024 non-null int64\n",
      "NEWSFACTS_b        4024 non-null int64\n",
      "NEWSFACTS_c        4024 non-null int64\n",
      "NEWSFACTS_d        4024 non-null int64\n",
      "NEWSFACTS_e        4024 non-null int64\n",
      "NEWSFACTS_f        4024 non-null int64\n",
      "NEWSFACTS_g        4024 non-null int64\n",
      "NEWSFACTS_h        4024 non-null int64\n",
      "NEWSFACTS_i        4024 non-null int64\n",
      "STORIES_a          4024 non-null int64\n",
      "STORIES_b          4024 non-null int64\n",
      "STORIES_c          4024 non-null int64\n",
      "STORIES_d          4024 non-null int64\n",
      "STORIES_e          4024 non-null int64\n",
      "STORIES_f          4024 non-null int64\n",
      "STORIES_g          4024 non-null int64\n",
      "STORIES_h          4024 non-null int64\n",
      "STORIES_Refused    4024 non-null int64\n",
      "SNSUSE             4024 non-null int64\n",
      "SNSFREQ            4024 non-null object\n",
      "FOLLOW             4024 non-null object\n",
      "FOLLOWANTI         4024 non-null object\n",
      "SNSSCI             4024 non-null object\n",
      "SNSCLICK           4024 non-null object\n",
      "SNSSCIIMP          4024 non-null object\n",
      "SNSPOST_a          4024 non-null object\n",
      "SNSPOST_b          4024 non-null object\n",
      "SNSPOST_c          4024 non-null object\n",
      "SNSPOST_d          4024 non-null object\n",
      "SNSPOST_e          4024 non-null object\n",
      "SNSPOST_f          4024 non-null object\n",
      "SNSPOST_g          4024 non-null object\n",
      "SNSPOST_h          4024 non-null object\n",
      "SNSPOST_i          4024 non-null object\n",
      "dtypes: int64(83), object(17)\n",
      "memory usage: 3.1+ MB\n"
     ]
    }
   ],
   "source": [
    "dropped_data.iloc[:,0:100].info()"
   ]
  },
  {
   "cell_type": "code",
   "execution_count": 6,
   "metadata": {
    "scrolled": true
   },
   "outputs": [
    {
     "name": "stdout",
     "output_type": "stream",
     "text": [
      "<class 'pandas.core.frame.DataFrame'>\n",
      "Int64Index: 4024 entries, 6 to 4313\n",
      "Data columns (total 95 columns):\n",
      "SNSPOST_j             4024 non-null object\n",
      "SNSPOST_Refused       4024 non-null object\n",
      "SNSCHECK1_a           4024 non-null object\n",
      "SNSCHECK1_b           4024 non-null object\n",
      "SNSCHECK1_c           4024 non-null object\n",
      "SNSCHECK1_d           4024 non-null object\n",
      "SNSCHECK1_e           4024 non-null object\n",
      "SNSCHECK1_f           4024 non-null object\n",
      "SNSCHECK1_Refused     4024 non-null object\n",
      "SNSCHECK2_a           4024 non-null object\n",
      "SNSCHECK2_b           4024 non-null object\n",
      "SNSCHECK2_c           4024 non-null object\n",
      "SNSCHECK2_d           4024 non-null object\n",
      "SNSCHECK2_e           4024 non-null object\n",
      "SNSCHECK2_f           4024 non-null object\n",
      "SNSCHECK2_Refused     4024 non-null object\n",
      "SNSNEW                4024 non-null object\n",
      "SNSTRUST              4024 non-null object\n",
      "PROBSET_a             4024 non-null int64\n",
      "PROBSET_b             4024 non-null int64\n",
      "PROBSET_c             4024 non-null int64\n",
      "PROBSET_d             4024 non-null int64\n",
      "PROBSET_e             4024 non-null int64\n",
      "PROBSET_f             4024 non-null int64\n",
      "PROBSET_g             4024 non-null int64\n",
      "PROBSET_h             4024 non-null int64\n",
      "BLAME                 4024 non-null int64\n",
      "DISCUSS               4024 non-null int64\n",
      "LEAD                  4024 non-null object\n",
      "TURN                  4024 non-null object\n",
      "ENTCRIM1              4024 non-null int64\n",
      "ENTCRIM2              4024 non-null int64\n",
      "ENTCRIM3              4024 non-null int64\n",
      "ENTCRIM4              4024 non-null int64\n",
      "ENTHOSP1              4024 non-null int64\n",
      "ENTHOSP2              4024 non-null int64\n",
      "ENTHOSP3              4024 non-null int64\n",
      "ENTHOSP4              4024 non-null int64\n",
      "ENTSCIFI1             4024 non-null int64\n",
      "ENTSCIFI2             4024 non-null int64\n",
      "ENTSCIFI3             4024 non-null int64\n",
      "ENTSCIFI4             4024 non-null int64\n",
      "HOBBY                 4024 non-null int64\n",
      "LIST1_a               4024 non-null int64\n",
      "LIST1_b               4024 non-null int64\n",
      "LIST1_c               4024 non-null int64\n",
      "LIST1_d               4024 non-null int64\n",
      "LIST1_e               4024 non-null int64\n",
      "LIST1_f               4024 non-null int64\n",
      "LIST1_g               4024 non-null int64\n",
      "LIST1_h               4024 non-null int64\n",
      "LIST1_Refused         4024 non-null int64\n",
      "POLSOURCE1_1          4024 non-null int64\n",
      "POLSOURCE1_2          4024 non-null int64\n",
      "POLSOURCE1_3          4024 non-null int64\n",
      "POLSOURCE1_4          4024 non-null int64\n",
      "POLSOURCE1_5          4024 non-null int64\n",
      "POLSOURCE1_6          4024 non-null int64\n",
      "POLSOURCE1_99         4024 non-null int64\n",
      "POLSOURCE1_Refused    4024 non-null int64\n",
      "POLSOURCE2_1          4024 non-null int64\n",
      "POLSOURCE2_2          4024 non-null int64\n",
      "POLSOURCE2_3          4024 non-null int64\n",
      "POLSOURCE2_4          4024 non-null int64\n",
      "POLSOURCE2_5          4024 non-null int64\n",
      "POLSOURCE2_99         4024 non-null int64\n",
      "POLSOURCE2_Refused    4024 non-null int64\n",
      "PARTY                 4024 non-null int64\n",
      "PARTYLN               4024 non-null object\n",
      "IDEO                  4024 non-null int64\n",
      "xparent               4024 non-null int64\n",
      "ppcm0160              4024 non-null int64\n",
      "IND1                  4024 non-null int64\n",
      "DOV_ACSLANG           4024 non-null int64\n",
      "DOV_PPP20072          4024 non-null int64\n",
      "DOV_PPC10017          4024 non-null int64\n",
      "DOV_PPC20217          4024 non-null int64\n",
      "DOV_PPC21501          4024 non-null int64\n",
      "DOV_PPC11518          4024 non-null int64\n",
      "ppagecat              4024 non-null int64\n",
      "ppagect4              4024 non-null int64\n",
      "PPEDUCAT              4024 non-null int64\n",
      "PPETHM                4024 non-null int64\n",
      "PPGENDER              4024 non-null int64\n",
      "PPHHHEAD              4024 non-null int64\n",
      "PPHHSIZE              4024 non-null int64\n",
      "PPHOUSE               4024 non-null int64\n",
      "PPINCIMP              4024 non-null int64\n",
      "PPMARIT               4024 non-null int64\n",
      "PPMSACAT              4024 non-null int64\n",
      "PPREG4                4024 non-null int64\n",
      "ppreg9                4024 non-null int64\n",
      "PPRENT                4024 non-null int64\n",
      "PPWORK                4024 non-null int64\n",
      "AGE                   4024 non-null int64\n",
      "dtypes: int64(74), object(21)\n",
      "memory usage: 2.9+ MB\n"
     ]
    }
   ],
   "source": [
    "dropped_data.iloc[:,100:200].info()"
   ]
  },
  {
   "cell_type": "markdown",
   "metadata": {},
   "source": [
    "WE NOW HAVE 200 VARIABLES"
   ]
  },
  {
   "cell_type": "markdown",
   "metadata": {},
   "source": [
    "### Data Quality & Filtering respondents\n",
    "- Filter out respondents who are outliers in how long it took them to take the survey (realistically could people take the survey in < 5 minutes?). Not capping the higher end since it is possible someone left their computer open, walked away and came back\n",
    "> Out of the whole sample it took 85 people <5 minutes. I am removing them from the data\n",
    "\n",
    "- Data is weighted based on the methodology doc"
   ]
  },
  {
   "cell_type": "code",
   "execution_count": 7,
   "metadata": {
    "scrolled": true
   },
   "outputs": [
    {
     "data": {
      "text/plain": [
       "count     4024.000000\n",
       "mean       344.999751\n",
       "std       1597.232848\n",
       "min          2.000000\n",
       "25%         11.000000\n",
       "50%         17.000000\n",
       "75%         27.000000\n",
       "max      16268.000000\n",
       "Name: duration, dtype: float64"
      ]
     },
     "execution_count": 7,
     "metadata": {},
     "output_type": "execute_result"
    }
   ],
   "source": [
    "dropped_data['duration'].describe()"
   ]
  },
  {
   "cell_type": "code",
   "execution_count": 8,
   "metadata": {
    "scrolled": false
   },
   "outputs": [
    {
     "data": {
      "image/png": "[encoded data removed]",
      "text/plain": [
       "<Figure size 432x288 with 1 Axes>"
      ]
     },
     "metadata": {},
     "output_type": "display_data"
    }
   ],
   "source": [
    "dropped_data['duration'].hist(bins = 100)\n",
    "plt.show()"
   ]
  },
  {
   "cell_type": "code",
   "execution_count": 9,
   "metadata": {},
   "outputs": [
    {
     "data": {
      "image/png": "[encoded data removed]",
      "text/plain": [
       "<Figure size 432x288 with 1 Axes>"
      ]
     },
     "metadata": {},
     "output_type": "display_data"
    }
   ],
   "source": [
    "dropped_data.boxplot(column = 'duration')\n",
    "plt.show()"
   ]
  },
  {
   "cell_type": "code",
   "execution_count": 10,
   "metadata": {
    "scrolled": true
   },
   "outputs": [],
   "source": [
    "filtered_data = dropped_data[dropped_data['duration'] >= 5]"
   ]
  },
  {
   "cell_type": "code",
   "execution_count": 11,
   "metadata": {},
   "outputs": [
    {
     "data": {
      "image/png": "[encoded data removed]",
      "text/plain": [
       "<Figure size 432x288 with 1 Axes>"
      ]
     },
     "metadata": {},
     "output_type": "display_data"
    }
   ],
   "source": [
    "filtered_data['duration'].hist(bins = 1000)\n",
    "plt.xlim(xmin = 0, xmax = 75)\n",
    "plt.show()"
   ]
  },
  {
   "cell_type": "code",
   "execution_count": 12,
   "metadata": {},
   "outputs": [],
   "source": [
    "filtered_data_drop = filtered_data.drop(labels= 'duration', axis = 1)"
   ]
  },
  {
   "cell_type": "markdown",
   "metadata": {},
   "source": [
    "#### After exploring the data, there are a few (max 119) '-1' values, which I take as respondents who didn't answer the quesiton. I will remove these respondents when building the segmentation"
   ]
  },
  {
   "cell_type": "code",
   "execution_count": 17,
   "metadata": {},
   "outputs": [
    {
     "data": {
      "text/html": [
       "<div>\n",
       "<style scoped>\n",
       "    .dataframe tbody tr th:only-of-type {\n",
       "        vertical-align: middle;\n",
       "    }\n",
       "\n",
       "    .dataframe tbody tr th {\n",
       "        vertical-align: top;\n",
       "    }\n",
       "\n",
       "    .dataframe thead th {\n",
       "        text-align: right;\n",
       "    }\n",
       "</style>\n",
       "<table border=\"1\" class=\"dataframe\">\n",
       "  <thead>\n",
       "    <tr style=\"text-align: right;\">\n",
       "      <th></th>\n",
       "      <th>LIFE</th>\n",
       "      <th>MUSEUM_a</th>\n",
       "      <th>MUSEUM_b</th>\n",
       "      <th>MUSEUM_c</th>\n",
       "      <th>MUSEUM_d</th>\n",
       "      <th>MUSEUM_e</th>\n",
       "      <th>MUSEUM_f</th>\n",
       "      <th>MUSEUM_g</th>\n",
       "      <th>MUSEUM_h</th>\n",
       "      <th>MUSEUM_i</th>\n",
       "      <th>...</th>\n",
       "      <th>PPHHSIZE</th>\n",
       "      <th>PPHOUSE</th>\n",
       "      <th>PPINCIMP</th>\n",
       "      <th>PPMARIT</th>\n",
       "      <th>PPMSACAT</th>\n",
       "      <th>PPREG4</th>\n",
       "      <th>ppreg9</th>\n",
       "      <th>PPRENT</th>\n",
       "      <th>PPWORK</th>\n",
       "      <th>AGE</th>\n",
       "    </tr>\n",
       "    <tr>\n",
       "      <th>CaseID</th>\n",
       "      <th></th>\n",
       "      <th></th>\n",
       "      <th></th>\n",
       "      <th></th>\n",
       "      <th></th>\n",
       "      <th></th>\n",
       "      <th></th>\n",
       "      <th></th>\n",
       "      <th></th>\n",
       "      <th></th>\n",
       "      <th></th>\n",
       "      <th></th>\n",
       "      <th></th>\n",
       "      <th></th>\n",
       "      <th></th>\n",
       "      <th></th>\n",
       "      <th></th>\n",
       "      <th></th>\n",
       "      <th></th>\n",
       "      <th></th>\n",
       "      <th></th>\n",
       "    </tr>\n",
       "  </thead>\n",
       "  <tbody>\n",
       "    <tr>\n",
       "      <th>102</th>\n",
       "      <td>1</td>\n",
       "      <td>0</td>\n",
       "      <td>0</td>\n",
       "      <td>0</td>\n",
       "      <td>0</td>\n",
       "      <td>0</td>\n",
       "      <td>0</td>\n",
       "      <td>0</td>\n",
       "      <td>0</td>\n",
       "      <td>0</td>\n",
       "      <td>...</td>\n",
       "      <td>6</td>\n",
       "      <td>1</td>\n",
       "      <td>7</td>\n",
       "      <td>1</td>\n",
       "      <td>1</td>\n",
       "      <td>3</td>\n",
       "      <td>5</td>\n",
       "      <td>2</td>\n",
       "      <td>4</td>\n",
       "      <td>33</td>\n",
       "    </tr>\n",
       "    <tr>\n",
       "      <th>207</th>\n",
       "      <td>1</td>\n",
       "      <td>0</td>\n",
       "      <td>0</td>\n",
       "      <td>0</td>\n",
       "      <td>0</td>\n",
       "      <td>0</td>\n",
       "      <td>0</td>\n",
       "      <td>0</td>\n",
       "      <td>0</td>\n",
       "      <td>0</td>\n",
       "      <td>...</td>\n",
       "      <td>3</td>\n",
       "      <td>1</td>\n",
       "      <td>18</td>\n",
       "      <td>5</td>\n",
       "      <td>1</td>\n",
       "      <td>2</td>\n",
       "      <td>3</td>\n",
       "      <td>1</td>\n",
       "      <td>1</td>\n",
       "      <td>29</td>\n",
       "    </tr>\n",
       "    <tr>\n",
       "      <th>209</th>\n",
       "      <td>1</td>\n",
       "      <td>0</td>\n",
       "      <td>0</td>\n",
       "      <td>0</td>\n",
       "      <td>0</td>\n",
       "      <td>0</td>\n",
       "      <td>0</td>\n",
       "      <td>0</td>\n",
       "      <td>0</td>\n",
       "      <td>0</td>\n",
       "      <td>...</td>\n",
       "      <td>6</td>\n",
       "      <td>1</td>\n",
       "      <td>13</td>\n",
       "      <td>5</td>\n",
       "      <td>1</td>\n",
       "      <td>1</td>\n",
       "      <td>2</td>\n",
       "      <td>1</td>\n",
       "      <td>1</td>\n",
       "      <td>18</td>\n",
       "    </tr>\n",
       "    <tr>\n",
       "      <th>267</th>\n",
       "      <td>2</td>\n",
       "      <td>0</td>\n",
       "      <td>0</td>\n",
       "      <td>0</td>\n",
       "      <td>1</td>\n",
       "      <td>1</td>\n",
       "      <td>1</td>\n",
       "      <td>1</td>\n",
       "      <td>1</td>\n",
       "      <td>0</td>\n",
       "      <td>...</td>\n",
       "      <td>1</td>\n",
       "      <td>1</td>\n",
       "      <td>17</td>\n",
       "      <td>2</td>\n",
       "      <td>1</td>\n",
       "      <td>3</td>\n",
       "      <td>7</td>\n",
       "      <td>1</td>\n",
       "      <td>5</td>\n",
       "      <td>68</td>\n",
       "    </tr>\n",
       "    <tr>\n",
       "      <th>299</th>\n",
       "      <td>1</td>\n",
       "      <td>1</td>\n",
       "      <td>0</td>\n",
       "      <td>0</td>\n",
       "      <td>0</td>\n",
       "      <td>0</td>\n",
       "      <td>0</td>\n",
       "      <td>0</td>\n",
       "      <td>0</td>\n",
       "      <td>0</td>\n",
       "      <td>...</td>\n",
       "      <td>8</td>\n",
       "      <td>3</td>\n",
       "      <td>6</td>\n",
       "      <td>4</td>\n",
       "      <td>1</td>\n",
       "      <td>4</td>\n",
       "      <td>9</td>\n",
       "      <td>2</td>\n",
       "      <td>2</td>\n",
       "      <td>53</td>\n",
       "    </tr>\n",
       "  </tbody>\n",
       "</table>\n",
       "<p>5 rows × 194 columns</p>\n",
       "</div>"
      ],
      "text/plain": [
       "        LIFE  MUSEUM_a  MUSEUM_b  MUSEUM_c  MUSEUM_d  MUSEUM_e  MUSEUM_f  \\\n",
       "CaseID                                                                     \n",
       "102        1         0         0         0         0         0         0   \n",
       "207        1         0         0         0         0         0         0   \n",
       "209        1         0         0         0         0         0         0   \n",
       "267        2         0         0         0         1         1         1   \n",
       "299        1         1         0         0         0         0         0   \n",
       "\n",
       "        MUSEUM_g  MUSEUM_h  MUSEUM_i ...   PPHHSIZE  PPHOUSE  PPINCIMP  \\\n",
       "CaseID                               ...                                 \n",
       "102            0         0         0 ...          6        1         7   \n",
       "207            0         0         0 ...          3        1        18   \n",
       "209            0         0         0 ...          6        1        13   \n",
       "267            1         1         0 ...          1        1        17   \n",
       "299            0         0         0 ...          8        3         6   \n",
       "\n",
       "        PPMARIT  PPMSACAT  PPREG4  ppreg9  PPRENT  PPWORK  AGE  \n",
       "CaseID                                                          \n",
       "102           1         1       3       5       2       4   33  \n",
       "207           5         1       2       3       1       1   29  \n",
       "209           5         1       1       2       1       1   18  \n",
       "267           2         1       3       7       1       5   68  \n",
       "299           4         1       4       9       2       2   53  \n",
       "\n",
       "[5 rows x 194 columns]"
      ]
     },
     "execution_count": 17,
     "metadata": {},
     "output_type": "execute_result"
    }
   ],
   "source": [
    "filtered_data_drop[filtered_data_drop['TOPICS1'] == -1].head()"
   ]
  },
  {
   "cell_type": "code",
   "execution_count": 18,
   "metadata": {},
   "outputs": [],
   "source": [
    "filtered_data_drop.replace(-1, np.NaN, inplace = True)"
   ]
  },
  {
   "cell_type": "code",
   "execution_count": 19,
   "metadata": {},
   "outputs": [],
   "source": [
    "filtered_data_drop.dropna(inplace = True)"
   ]
  }
 ],
 "metadata": {
  "kernelspec": {
   "display_name": "Python 3",
   "language": "python",
   "name": "python3"
  },
  "language_info": {
   "codemirror_mode": {
    "name": "ipython",
    "version": 3
   },
   "file_extension": ".py",
   "mimetype": "text/x-python",
   "name": "python",
   "nbconvert_exporter": "python",
   "pygments_lexer": "ipython3",
   "version": "3.6.5"
  }
 },
 "nbformat": 4,
 "nbformat_minor": 2
}
