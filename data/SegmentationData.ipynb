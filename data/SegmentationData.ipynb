{
 "cells": [
  {
   "cell_type": "markdown",
   "metadata": {},
   "source": [
    "# Segmentation Capstone Project\n",
    "## Question: \n",
    "- **Using a consumer segmentation about education/motivation to learning, can I predict income level**\n",
    "- **Using a consumer segmentation about education/motivation to continue learning, can I predict employed or student**\n",
    "    - Why this question is relevant: I am hypothesizing that the population is segmented in how engaged they are in their education and technology knowledge. While this data is not specifically tied to a product, you can imagine a situation where an online education provider would want to target a specific consumer group, or where a company would like to assess how engaged/willing their employees would be in expanding their knowledge by engaging in an online training course. By creating a segmentation of the market, it allows for the building of different marketing/targeting strategies and who will be most likely to engage with the product. \n",
    "    - Having this segmentation then allows us to identify these groups of people in order to provide a targeted add. If I can build a model that accurately predicts which segment a consumer falls into, I can then show an ad for my different products to the segments I have identified as the most valuable. \n",
    "\n",
    "## Steps: \n",
    "1. Segment the data into consumers using attitudinal and behavioral questions (using the segmentation variables)\n",
    "    - Will probably go through some iterations of how best to segment\n",
    "2. Profile the segments (using the profiling variables)\n",
    "3. Given a new respondent, build a model that predicts which segment the new consumer falls into\n",
    "    \n",
    "\n",
    "## Data: \n",
    "- Data comes from Pew Research Center: http://www.pewinternet.org/datasets/2018/\n",
    "- Specifically using the Oct. 13-Nov. 15, 2015 – Educational Ecosystem: http://www.pewinternet.org/dataset/october-2015-educational-ecosystem/\n",
    "    - 'This dataset contains questions about technology use, lifelong learning, and career and personal development.'\n",
    "- 2752 respondents\n",
    "    - 2327 Internet users (potentially only filter to internet users depending on the question I am trying to answer (i.e. if I am an online education platform I wouldn't target to non-internet users)\n",
    "    \n",
    "## Variables\n",
    "### Segmentation Variables\n",
    "- Q2\tNow I’d like to know how important, if at all, you think it is for people to make an effort to learn new things in some different areas of life. [FOR FIRST TWO RANDOMIZED ITEMS: (First,/Next,) do you think it is very important, somewhat important, not too important, or not at all important for people to make an effort to learn NEW things related to [INSERT ITEMS; RANDOMIZE]?] {new}\n",
    "[FOR REMAINING ITEMS: How about learning NEW things related to [INSERT NEXT ITEM]? [READ AS NECESSARY: Do you think it is very important, somewhat important, not too important, or not at all important for people to make an effort to learn NEW things related to (ITEM)?]]\n",
    "        a.\tTheir jobs\n",
    "        b.\tTheir hobbies or interests\n",
    "        c.\tThings happening in society, such as developments in science, technology, entertainment, or culture\n",
    "        NO ITEM D\n",
    "        e.\tTheir local community\n",
    "        CATEGORIES\n",
    "        1\tVery important\n",
    "        2\tSomewhat important\n",
    "        3\tNot too important\n",
    "        4\tNot at all important\n",
    "        8\t(VOL.) Don't know\n",
    "        9\t(VOL.) Refused\n",
    "\n",
    "\n",
    "- Q3\tHow well do each of the following statements describe you? How about this statement: [INSERT ITEMS; RANDOMIZE]. [READ FOR FIRST ITEM, THEN AS NECESSARY: Does this describe you very well, somewhat well, not too well, or not well at all?] Next: [INSERT NEXT ITEM]. {new; based on Education Dept 2005 survey}\n",
    "        a.\tI often find myself looking for new opportunities to grow as a person {Education Dept 2005 survey}\n",
    "        b.\tI am not the type of person who feels the need to probe deeply into new situations or things {Education Dept 2005 survey}\n",
    "        c.\tI like to gather as much information as I can when I come across something that I am not familiar with {Education Dept 2005 survey}\n",
    "        d.\tI am easily distracted when I try to concentrate {new} \n",
    "        e.\tI am really glad I am no longer in school and don’t have to go to classes anymore {new} \n",
    "        f.\tI think of myself as a lifelong learner {new}\n",
    "        CATEGORIES\n",
    "        1\tVery well\n",
    "        2\tSomewhat well\n",
    "        3\tNot too well\n",
    "        4\tNot well at all\n",
    "        5\t(VOL.) Still in school [PROGRAM FOR ITEM e ONLY]\n",
    "        8\t(VOL.) Don't know\n",
    "        9\t(VOL.) Refused\n",
    "\n",
    "- Q19\tPlease tell me how well each of the following statements describes you. First: [INSERT ITEMS; RANDOMIZE]. [READ FOR FIRST ITEM, THEN AS NECESSARY: Does this describe you very well, somewhat well, not too well, or not well at all?] Next: [INSERT NEXT ITEM]. {new}\n",
    "        a.\tWhen I get a new electronic device, I usually need someone else to set it up or show me how to use it\n",
    "        b.\tI am more productive because of all of my electronic information devices\n",
    "        c.\tI find it difficult to know whether the information I find online is trustworthy\n",
    "        d.\tBetween phone calls, texts, emails, social media, or other messages, I deal with too much information in my daily life\n",
    "        CATEGORIES\n",
    "        1\tVery well\n",
    "        2\tSomewhat well\n",
    "        3\tNot too well\n",
    "        4\tNot well at all \n",
    "        8\t(VOL.) Don't know\n",
    "        9\t(VOL.) Refused\n",
    "\n",
    "\n",
    "### Model Variables to predict segment\n",
    "(NOT USING THE VARIABLES INCLUDED IN THE SEGMENTATION)\n",
    "- Gender, Education, Income, Employment Status, How they feel about their career, political party etc.\n",
    "\n",
    "\n",
    "## Next Steps (Out of Scope)\n",
    "- Ideally this segmentation would be linked to some product app where the segmentation would allow the app/marketers build a plan to target the most attractive segments\n",
    "- Would love to incorporate spend data"
   ]
  },
  {
   "cell_type": "code",
   "execution_count": null,
   "metadata": {},
   "outputs": [],
   "source": []
  },
  {
   "cell_type": "code",
   "execution_count": null,
   "metadata": {},
   "outputs": [],
   "source": []
  },
  {
   "cell_type": "markdown",
   "metadata": {},
   "source": [
    "# Intial Exploratory Data Analysis"
   ]
  },
  {
   "cell_type": "code",
   "execution_count": 9,
   "metadata": {},
   "outputs": [],
   "source": [
    "import pandas as pd"
   ]
  },
  {
   "cell_type": "code",
   "execution_count": 10,
   "metadata": {},
   "outputs": [],
   "source": [
    "#Read in Data\n",
    "data = pd.read_csv('SEGMENTATION/October 13 - November 15, 2015 - Educational Ecosystem/October 13-November 15, 2015 - Educational Ecosystem - CSV.csv')"
   ]
  },
  {
   "cell_type": "code",
   "execution_count": 11,
   "metadata": {},
   "outputs": [
    {
     "data": {
      "text/html": [
       "<div>\n",
       "<style scoped>\n",
       "    .dataframe tbody tr th:only-of-type {\n",
       "        vertical-align: middle;\n",
       "    }\n",
       "\n",
       "    .dataframe tbody tr th {\n",
       "        vertical-align: top;\n",
       "    }\n",
       "\n",
       "    .dataframe thead th {\n",
       "        text-align: right;\n",
       "    }\n",
       "</style>\n",
       "<table border=\"1\" class=\"dataframe\">\n",
       "  <thead>\n",
       "    <tr style=\"text-align: right;\">\n",
       "      <th></th>\n",
       "      <th>psraid</th>\n",
       "      <th>sample</th>\n",
       "      <th>int_date</th>\n",
       "      <th>lang</th>\n",
       "      <th>version</th>\n",
       "      <th>scregion</th>\n",
       "      <th>form</th>\n",
       "      <th>q1</th>\n",
       "      <th>eminuse</th>\n",
       "      <th>intmob</th>\n",
       "      <th>...</th>\n",
       "      <th>edinstos</th>\n",
       "      <th>q10jos</th>\n",
       "      <th>q15fos</th>\n",
       "      <th>raceos</th>\n",
       "      <th>wrkplos</th>\n",
       "      <th>usr</th>\n",
       "      <th>cregion</th>\n",
       "      <th>state</th>\n",
       "      <th>weight</th>\n",
       "      <th>standwt</th>\n",
       "    </tr>\n",
       "  </thead>\n",
       "  <tbody>\n",
       "    <tr>\n",
       "      <th>0</th>\n",
       "      <td>100007</td>\n",
       "      <td>1</td>\n",
       "      <td>101315</td>\n",
       "      <td>1</td>\n",
       "      <td>1</td>\n",
       "      <td>3</td>\n",
       "      <td>2</td>\n",
       "      <td>1</td>\n",
       "      <td>1</td>\n",
       "      <td>1</td>\n",
       "      <td>...</td>\n",
       "      <td></td>\n",
       "      <td></td>\n",
       "      <td></td>\n",
       "      <td></td>\n",
       "      <td></td>\n",
       "      <td>S</td>\n",
       "      <td>3</td>\n",
       "      <td>12</td>\n",
       "      <td>1.34375</td>\n",
       "      <td>0.442580</td>\n",
       "    </tr>\n",
       "    <tr>\n",
       "      <th>1</th>\n",
       "      <td>100008</td>\n",
       "      <td>1</td>\n",
       "      <td>101315</td>\n",
       "      <td>1</td>\n",
       "      <td>1</td>\n",
       "      <td>3</td>\n",
       "      <td>2</td>\n",
       "      <td>1</td>\n",
       "      <td>1</td>\n",
       "      <td>1</td>\n",
       "      <td>...</td>\n",
       "      <td></td>\n",
       "      <td></td>\n",
       "      <td>FARM</td>\n",
       "      <td></td>\n",
       "      <td></td>\n",
       "      <td>U</td>\n",
       "      <td>3</td>\n",
       "      <td>37</td>\n",
       "      <td>1.65625</td>\n",
       "      <td>0.545505</td>\n",
       "    </tr>\n",
       "    <tr>\n",
       "      <th>2</th>\n",
       "      <td>100010</td>\n",
       "      <td>1</td>\n",
       "      <td>101315</td>\n",
       "      <td>1</td>\n",
       "      <td>1</td>\n",
       "      <td>1</td>\n",
       "      <td>2</td>\n",
       "      <td>2</td>\n",
       "      <td>1</td>\n",
       "      <td>1</td>\n",
       "      <td>...</td>\n",
       "      <td></td>\n",
       "      <td></td>\n",
       "      <td></td>\n",
       "      <td></td>\n",
       "      <td></td>\n",
       "      <td>R</td>\n",
       "      <td>1</td>\n",
       "      <td>42</td>\n",
       "      <td>3.53125</td>\n",
       "      <td>1.163058</td>\n",
       "    </tr>\n",
       "    <tr>\n",
       "      <th>3</th>\n",
       "      <td>100011</td>\n",
       "      <td>1</td>\n",
       "      <td>101615</td>\n",
       "      <td>1</td>\n",
       "      <td>4</td>\n",
       "      <td>1</td>\n",
       "      <td>2</td>\n",
       "      <td>2</td>\n",
       "      <td>1</td>\n",
       "      <td>1</td>\n",
       "      <td>...</td>\n",
       "      <td></td>\n",
       "      <td></td>\n",
       "      <td></td>\n",
       "      <td></td>\n",
       "      <td></td>\n",
       "      <td>R</td>\n",
       "      <td>1</td>\n",
       "      <td>23</td>\n",
       "      <td>3.28125</td>\n",
       "      <td>1.080718</td>\n",
       "    </tr>\n",
       "    <tr>\n",
       "      <th>4</th>\n",
       "      <td>100014</td>\n",
       "      <td>1</td>\n",
       "      <td>101315</td>\n",
       "      <td>1</td>\n",
       "      <td>1</td>\n",
       "      <td>3</td>\n",
       "      <td>1</td>\n",
       "      <td>2</td>\n",
       "      <td>1</td>\n",
       "      <td>1</td>\n",
       "      <td>...</td>\n",
       "      <td></td>\n",
       "      <td></td>\n",
       "      <td></td>\n",
       "      <td></td>\n",
       "      <td></td>\n",
       "      <td>R</td>\n",
       "      <td>3</td>\n",
       "      <td>51</td>\n",
       "      <td>5.78125</td>\n",
       "      <td>1.904121</td>\n",
       "    </tr>\n",
       "  </tbody>\n",
       "</table>\n",
       "<p>5 rows × 127 columns</p>\n",
       "</div>"
      ],
      "text/plain": [
       "   psraid  sample  int_date  lang  version  scregion  form  q1  eminuse  \\\n",
       "0  100007       1    101315     1        1         3     2   1        1   \n",
       "1  100008       1    101315     1        1         3     2   1        1   \n",
       "2  100010       1    101315     1        1         1     2   2        1   \n",
       "3  100011       1    101615     1        4         1     2   2        1   \n",
       "4  100014       1    101315     1        1         3     1   2        1   \n",
       "\n",
       "   intmob    ...    edinstos q10jos q15fos raceos wrkplos usr  cregion  state  \\\n",
       "0       1    ...                                            S        3     12   \n",
       "1       1    ...                      FARM                  U        3     37   \n",
       "2       1    ...                                            R        1     42   \n",
       "3       1    ...                                            R        1     23   \n",
       "4       1    ...                                            R        3     51   \n",
       "\n",
       "    weight   standwt  \n",
       "0  1.34375  0.442580  \n",
       "1  1.65625  0.545505  \n",
       "2  3.53125  1.163058  \n",
       "3  3.28125  1.080718  \n",
       "4  5.78125  1.904121  \n",
       "\n",
       "[5 rows x 127 columns]"
      ]
     },
     "execution_count": 11,
     "metadata": {},
     "output_type": "execute_result"
    }
   ],
   "source": [
    "data.head()"
   ]
  },
  {
   "cell_type": "code",
   "execution_count": 12,
   "metadata": {
    "scrolled": false
   },
   "outputs": [
    {
     "name": "stdout",
     "output_type": "stream",
     "text": [
      "<class 'pandas.core.frame.DataFrame'>\n",
      "RangeIndex: 2752 entries, 0 to 2751\n",
      "Data columns (total 50 columns):\n",
      "psraid      2752 non-null int64\n",
      "sample      2752 non-null int64\n",
      "int_date    2752 non-null int64\n",
      "lang        2752 non-null int64\n",
      "version     2752 non-null int64\n",
      "scregion    2752 non-null int64\n",
      "form        2752 non-null int64\n",
      "q1          2752 non-null int64\n",
      "eminuse     2752 non-null int64\n",
      "intmob      2752 non-null int64\n",
      "home3nw     2752 non-null object\n",
      "bbhome1     2752 non-null object\n",
      "bbhome2     2752 non-null object\n",
      "device1a    2752 non-null object\n",
      "smart1      2752 non-null object\n",
      "snsint2     2752 non-null object\n",
      "q2a         2752 non-null int64\n",
      "q2b         2752 non-null int64\n",
      "q2c         2752 non-null int64\n",
      "q2e         2752 non-null int64\n",
      "q3a         2752 non-null int64\n",
      "q3b         2752 non-null int64\n",
      "q3c         2752 non-null int64\n",
      "q3d         2752 non-null int64\n",
      "q3e         2752 non-null int64\n",
      "q3f         2752 non-null int64\n",
      "emplnw3     2752 non-null int64\n",
      "stud        2752 non-null int64\n",
      "edinst      2752 non-null object\n",
      "q4          2752 non-null object\n",
      "q5          2752 non-null int64\n",
      "q6          2752 non-null object\n",
      "q8          2752 non-null object\n",
      "q9a         2752 non-null object\n",
      "q9b         2752 non-null object\n",
      "q9c         2752 non-null object\n",
      "q9d         2752 non-null object\n",
      "q9e         2752 non-null object\n",
      "q10a        2752 non-null object\n",
      "q10b        2752 non-null object\n",
      "q10c        2752 non-null object\n",
      "q10d        2752 non-null object\n",
      "q10e        2752 non-null object\n",
      "q10g        2752 non-null object\n",
      "q10i        2752 non-null object\n",
      "q10j        2752 non-null object\n",
      "q11         2752 non-null object\n",
      "q12a        2752 non-null object\n",
      "q12b        2752 non-null object\n",
      "q12c        2752 non-null object\n",
      "dtypes: int64(23), object(27)\n",
      "memory usage: 1.0+ MB\n"
     ]
    }
   ],
   "source": [
    "#Show first 50 variables\n",
    "data.iloc[:, :50].info()"
   ]
  },
  {
   "cell_type": "code",
   "execution_count": 13,
   "metadata": {},
   "outputs": [
    {
     "name": "stdout",
     "output_type": "stream",
     "text": [
      "<class 'pandas.core.frame.DataFrame'>\n",
      "RangeIndex: 2752 entries, 0 to 2751\n",
      "Data columns (total 77 columns):\n",
      "q12d          2752 non-null object\n",
      "q13a          2752 non-null int64\n",
      "q13b          2752 non-null int64\n",
      "q13c          2752 non-null int64\n",
      "q13e          2752 non-null int64\n",
      "q13f          2752 non-null int64\n",
      "q15a          2752 non-null object\n",
      "q15b          2752 non-null object\n",
      "q15c          2752 non-null object\n",
      "q15d          2752 non-null object\n",
      "q15e          2752 non-null object\n",
      "q15f          2752 non-null object\n",
      "q16           2752 non-null object\n",
      "q17a          2752 non-null object\n",
      "q17b          2752 non-null object\n",
      "q17c          2752 non-null object\n",
      "q17d          2752 non-null object\n",
      "q17f          2752 non-null object\n",
      "q18a          2752 non-null object\n",
      "q18b          2752 non-null object\n",
      "q18c          2752 non-null object\n",
      "q18d          2752 non-null object\n",
      "q18e          2752 non-null object\n",
      "q19a          2752 non-null int64\n",
      "q19b          2752 non-null int64\n",
      "q19c          2752 non-null int64\n",
      "q19d          2752 non-null int64\n",
      "q20           2752 non-null object\n",
      "q21a          2752 non-null int64\n",
      "q21b          2752 non-null int64\n",
      "q21c          2752 non-null int64\n",
      "q21d          2752 non-null int64\n",
      "q21e          2752 non-null int64\n",
      "q23           2752 non-null object\n",
      "q24           2752 non-null object\n",
      "libusea       2752 non-null int64\n",
      "libuseb       2752 non-null int64\n",
      "libusec       2752 non-null int64\n",
      "q25a          2752 non-null int64\n",
      "q25b          2752 non-null int64\n",
      "q25c          2752 non-null int64\n",
      "q25e          2752 non-null int64\n",
      "q25f          2752 non-null int64\n",
      "q26           2752 non-null int64\n",
      "q27           2752 non-null int64\n",
      "sex           2752 non-null int64\n",
      "age           2752 non-null int64\n",
      "educ2         2752 non-null int64\n",
      "hisp          2752 non-null int64\n",
      "race3m1       2752 non-null int64\n",
      "race3m2       2752 non-null object\n",
      "race3m3       2752 non-null object\n",
      "race3m4       2752 non-null object\n",
      "birth_hisp    2752 non-null object\n",
      "marital       2752 non-null int64\n",
      "par           2752 non-null int64\n",
      "disa          2752 non-null int64\n",
      "wrkpl         2752 non-null object\n",
      "inc           2752 non-null int64\n",
      "reg           2752 non-null int64\n",
      "oftvote       2752 non-null object\n",
      "party         2752 non-null int64\n",
      "partyln       2752 non-null object\n",
      "ideo          2752 non-null int64\n",
      "hh1           2752 non-null int64\n",
      "hh3           2752 non-null object\n",
      "zipcode       2752 non-null int64\n",
      "edinstos      2752 non-null object\n",
      "q10jos        2752 non-null object\n",
      "q15fos        2752 non-null object\n",
      "raceos        2752 non-null object\n",
      "wrkplos       2752 non-null object\n",
      "usr           2752 non-null object\n",
      "cregion       2752 non-null int64\n",
      "state         2752 non-null int64\n",
      "weight        2752 non-null float64\n",
      "standwt       2752 non-null float64\n",
      "dtypes: float64(2), int64(40), object(35)\n",
      "memory usage: 1.6+ MB\n"
     ]
    }
   ],
   "source": [
    "#Show the rest of the variables\n",
    "data.iloc[:, 50:].info()"
   ]
  },
  {
   "cell_type": "markdown",
   "metadata": {},
   "source": [
    "##### EMINUSE\tDo you use the internet or email, at least occasionally? {PIAL Trend}\n",
    "        1\tYes\n",
    "        2\tNo\n",
    "        8\t(VOL.) Don't know\n",
    "        9\t(VOL.) Refused\n"
   ]
  },
  {
   "cell_type": "code",
   "execution_count": 14,
   "metadata": {},
   "outputs": [
    {
     "data": {
      "text/plain": [
       "1    2327\n",
       "2     421\n",
       "8       3\n",
       "9       1\n",
       "Name: eminuse, dtype: int64"
      ]
     },
     "execution_count": 14,
     "metadata": {},
     "output_type": "execute_result"
    }
   ],
   "source": [
    "## Internet Users (1 is yes, 2 is no, 8 is don't know)\n",
    "data['eminuse'].value_counts()"
   ]
  },
  {
   "cell_type": "markdown",
   "metadata": {},
   "source": [
    "###### INC\tLast year -- that is in 2014 -- what was your total family income from all sources, before taxes? Just stop me when I get to the right category... [READ] {Master INC2}\n",
    "        1\tLess than 10,000 \n",
    "        2\t10 to under 20,000 \n",
    "        3\t20 to under 30,000\n",
    "        4\t30 to under 40,000\n",
    "        5\t40 to under 50,000 \n",
    "        6\t50 to under 75,000\n",
    "        7\t75 to under 100,000\n",
    "        8\t100 to under 150,000, OR\n",
    "        9\t150,000 or more? \n",
    "        98\t(VOL.) Don't know\n",
    "        99\t(VOL.) Refused \n"
   ]
  },
  {
   "cell_type": "code",
   "execution_count": 15,
   "metadata": {},
   "outputs": [
    {
     "data": {
      "text/plain": [
       "6     368\n",
       "7     299\n",
       "8     292\n",
       "3     278\n",
       "2     261\n",
       "4     258\n",
       "9     254\n",
       "99    225\n",
       "1     218\n",
       "5     197\n",
       "98    102\n",
       "Name: inc, dtype: int64"
      ]
     },
     "execution_count": 15,
     "metadata": {},
     "output_type": "execute_result"
    }
   ],
   "source": [
    "data['inc'].value_counts()"
   ]
  },
  {
   "cell_type": "markdown",
   "metadata": {},
   "source": [
    "##### Q1\tThinking now about job opportunities where you live, would you say there are plenty of jobs available in your community or are jobs difficult to find? {5-15} {QID:x010617-20} {new to PIAL surveys}\n",
    "    1\tPlenty of jobs available\n",
    "    2\tJobs are difficult to find\n",
    "    3\t(VOL.) Lots of some jobs, few of others\n",
    "    8\t(VOL.) Don't know\n",
    "    9\t(VOL.) Refused\n"
   ]
  },
  {
   "cell_type": "code",
   "execution_count": 16,
   "metadata": {
    "scrolled": true
   },
   "outputs": [
    {
     "data": {
      "text/plain": [
       "2    1251\n",
       "1    1045\n",
       "8     254\n",
       "3     161\n",
       "9      41\n",
       "Name: q1, dtype: int64"
      ]
     },
     "execution_count": 16,
     "metadata": {},
     "output_type": "execute_result"
    }
   ],
   "source": [
    "data['q1'].value_counts()"
   ]
  },
  {
   "cell_type": "markdown",
   "metadata": {},
   "source": [
    "##### EMPLNW3\tAre you now employed full-time, part-time, or are you not employed for pay? {new}\n",
    "        1\tEmployed full-time\n",
    "        2\tEmployed part-time\n",
    "        3\tNot employed for pay\n",
    "        8\t(VOL.) Don't know\n",
    "        9\t(VOL.) Refused\n"
   ]
  },
  {
   "cell_type": "code",
   "execution_count": 17,
   "metadata": {},
   "outputs": [
    {
     "data": {
      "text/plain": [
       "1    1246\n",
       "3    1163\n",
       "2     331\n",
       "9       7\n",
       "8       5\n",
       "Name: emplnw3, dtype: int64"
      ]
     },
     "execution_count": 17,
     "metadata": {},
     "output_type": "execute_result"
    }
   ],
   "source": [
    "data['emplnw3'].value_counts()"
   ]
  },
  {
   "cell_type": "code",
   "execution_count": 18,
   "metadata": {},
   "outputs": [
    {
     "data": {
      "text/plain": [
       "2    2065\n",
       "1     683\n",
       "8       3\n",
       "9       1\n",
       "Name: q13a, dtype: int64"
      ]
     },
     "execution_count": 18,
     "metadata": {},
     "output_type": "execute_result"
    }
   ],
   "source": [
    "data['q13a'].value_counts()"
   ]
  },
  {
   "cell_type": "markdown",
   "metadata": {},
   "source": [
    "##### Q20\tOverall, how confident do you feel using computers, smartphones, or other electronic devices to do the things you need to do online? Do you feel very confident, somewhat confident, only a little confident, or not at all confident? {new}\n",
    "        1\tVery confident\n",
    "        2\tSomewhat confident\n",
    "        3\tOnly a little confident\n",
    "        4\tNot at all confident\n",
    "        8\t(VOL.) Don't know\n",
    "        9\t(VOL.) Refused\n"
   ]
  },
  {
   "cell_type": "code",
   "execution_count": 19,
   "metadata": {
    "scrolled": false
   },
   "outputs": [
    {
     "data": {
      "text/plain": [
       "1    1290\n",
       "2     815\n",
       "      294\n",
       "3     244\n",
       "4     102\n",
       "9       4\n",
       "8       3\n",
       "Name: q20, dtype: int64"
      ]
     },
     "execution_count": 19,
     "metadata": {},
     "output_type": "execute_result"
    }
   ],
   "source": [
    "data['q20'].value_counts()"
   ]
  },
  {
   "cell_type": "markdown",
   "metadata": {},
   "source": [
    "##### Q21\tPlease tell me how familiar, if at all, you are with the following educational resources or concepts. (First, how familiar are you with / Next,) [INSERT ITEMS; RANDOMIZE]? [READ FOR FIRST ITEM, THEN AS NECESSARY: Are you very familiar, somewhat familiar, not too familiar, or not at all familiar?] {new}\n",
    "        a.\tDistance learning\n",
    "        b.\tDigital badges\n",
    "        c.\tKhan Academy\n",
    "        d.\tCommon core standards\n",
    "        e.\tMassively open online courses, or MOOCs [PRONOUNCED: MOOKs] – such as Coursera, edX, or Udacity\n",
    "        CATEGORIES\n",
    "        1\tVery familiar\n",
    "        2\tSomewhat familiar\n",
    "        3\tNot too familiar\n",
    "        4\tNot at all familiar\n",
    "        8\t(VOL.) Don't know\n",
    "        9\t(VOL.) Refused\n"
   ]
  },
  {
   "cell_type": "code",
   "execution_count": 21,
   "metadata": {},
   "outputs": [
    {
     "data": {
      "text/plain": [
       "4    1270\n",
       "2     705\n",
       "1     422\n",
       "3     328\n",
       "8      23\n",
       "9       4\n",
       "Name: q21a, dtype: int64"
      ]
     },
     "execution_count": 21,
     "metadata": {},
     "output_type": "execute_result"
    }
   ],
   "source": [
    "data['q21a'].value_counts()"
   ]
  },
  {
   "cell_type": "code",
   "execution_count": 22,
   "metadata": {},
   "outputs": [
    {
     "data": {
      "text/plain": [
       "4    1914\n",
       "2     299\n",
       "3     257\n",
       "1     251\n",
       "8      30\n",
       "9       1\n",
       "Name: q21c, dtype: int64"
      ]
     },
     "execution_count": 22,
     "metadata": {},
     "output_type": "execute_result"
    }
   ],
   "source": [
    "data['q21c'].value_counts()"
   ]
  },
  {
   "cell_type": "code",
   "execution_count": 23,
   "metadata": {},
   "outputs": [
    {
     "data": {
      "text/plain": [
       "4    1841\n",
       "2     367\n",
       "3     364\n",
       "1     152\n",
       "8      22\n",
       "9       6\n",
       "Name: q21e, dtype: int64"
      ]
     },
     "execution_count": 23,
     "metadata": {},
     "output_type": "execute_result"
    }
   ],
   "source": [
    "data['q21e'].value_counts()"
   ]
  },
  {
   "cell_type": "markdown",
   "metadata": {},
   "source": [
    "##### REG\tWhich of these statements best describes you? [READ IN ORDER] [INSTRUCTION: BE SURE TO CLARIFY WHETHER RESPONDENT IS ABSOLUTELY CERTAIN THEY ARE REGISTERED OR ONLY PROBABLY REGISTERED; IF RESPONDENT VOLUNTEERS THAT THEY ARE IN NORTH DAKOTA AND DON’T HAVE TO REGISTER, PUNCH 1] {QID:reg} {new to PIAL surveys}\n",
    "        1\tAre you ABSOLUTELY CERTAIN that you are registered to vote at your current address, OR\n",
    "        2\tAre you PROBABLY registered, but there is a chance your registration has lapsed, OR\n",
    "        3\tAre you NOT registered to vote at your current address?\n",
    "        8\t(VOL.) Don't know\n",
    "        9\t(VOL.) Refused\n"
   ]
  },
  {
   "cell_type": "code",
   "execution_count": 25,
   "metadata": {},
   "outputs": [
    {
     "data": {
      "text/plain": [
       "1    2000\n",
       "3     581\n",
       "2     139\n",
       "9      16\n",
       "8      16\n",
       "Name: reg, dtype: int64"
      ]
     },
     "execution_count": 25,
     "metadata": {},
     "output_type": "execute_result"
    }
   ],
   "source": [
    "data['reg'].value_counts()"
   ]
  },
  {
   "cell_type": "markdown",
   "metadata": {},
   "source": [
    "##### PARTY In politics TODAY, do you consider yourself a Republican, Democrat, or independent?\n",
    "        1\tRepublican\n",
    "        2\tDemocrat\n",
    "        3\tIndependent\n",
    "        4\t(VOL.) No preference\n",
    "        5\t(VOL.) Other party\n",
    "        8\t(VOL.) Don't know\n",
    "        9\t(VOL.) Refused\n"
   ]
  },
  {
   "cell_type": "code",
   "execution_count": 26,
   "metadata": {},
   "outputs": [
    {
     "data": {
      "text/plain": [
       "3    902\n",
       "2    881\n",
       "1    669\n",
       "4    160\n",
       "9     71\n",
       "8     54\n",
       "5     15\n",
       "Name: party, dtype: int64"
      ]
     },
     "execution_count": 26,
     "metadata": {},
     "output_type": "execute_result"
    }
   ],
   "source": [
    "data['party'].value_counts()"
   ]
  },
  {
   "cell_type": "markdown",
   "metadata": {},
   "source": [
    "# USE THIS DATA\n"
   ]
  },
  {
   "cell_type": "code",
   "execution_count": 3,
   "metadata": {},
   "outputs": [],
   "source": [
    "import pandas as pd"
   ]
  },
  {
   "cell_type": "code",
   "execution_count": 1,
   "metadata": {},
   "outputs": [
    {
     "name": "stdout",
     "output_type": "stream",
     "text": [
      "\u001b[1m\u001b[36mNEIGHBORHOODS\u001b[m\u001b[m          \u001b[1m\u001b[36mSEGMENTATION\u001b[m\u001b[m           SegmentationData.ipynb\r\n"
     ]
    }
   ],
   "source": [
    "!ls"
   ]
  },
  {
   "cell_type": "code",
   "execution_count": 4,
   "metadata": {
    "scrolled": true
   },
   "outputs": [],
   "source": [
    "data = pd.read_csv('SEGMENTATION/2017 Pew Research Center Science and News Survey/Segmentation_data.csv')"
   ]
  },
  {
   "cell_type": "code",
   "execution_count": 12,
   "metadata": {},
   "outputs": [
    {
     "name": "stdout",
     "output_type": "stream",
     "text": [
      "<class 'pandas.core.frame.DataFrame'>\n",
      "RangeIndex: 4024 entries, 0 to 4023\n",
      "Data columns (total 100 columns):\n",
      "CaseID             4024 non-null int64\n",
      "HOBBY2_1           4024 non-null object\n",
      "HOBBY2_2           4024 non-null object\n",
      "HOBBY2_3           4024 non-null object\n",
      "GREATPAST_OE1      4024 non-null object\n",
      "GREATPAST_OE2      4024 non-null object\n",
      "GREATPAST_OE3      4024 non-null object\n",
      "GREATFUTURE_OE1    4024 non-null object\n",
      "GREATFUTURE_OE2    4024 non-null object\n",
      "GREATFUTURE_OE3    4024 non-null object\n",
      "FAKE_OE1           4024 non-null object\n",
      "FAKE_OE2           4024 non-null object\n",
      "FAKE_OE3           4024 non-null object\n",
      "DISAG_OE1          4024 non-null object\n",
      "DISAG_OE2          4024 non-null object\n",
      "DISAG_OE3          4024 non-null object\n",
      "DECIS_OE1          4024 non-null object\n",
      "DECIS_OE2          4024 non-null object\n",
      "DECIS_OE3          4024 non-null object\n",
      "weight             4024 non-null float64\n",
      "tm_start           4024 non-null object\n",
      "tm_finish          4024 non-null object\n",
      "duration           4024 non-null int64\n",
      "LIFE               4024 non-null int64\n",
      "DOV_FORM           4024 non-null int64\n",
      "MUSEUM_a           4024 non-null int64\n",
      "MUSEUM_b           4024 non-null int64\n",
      "MUSEUM_c           4024 non-null int64\n",
      "MUSEUM_d           4024 non-null int64\n",
      "MUSEUM_e           4024 non-null int64\n",
      "MUSEUM_f           4024 non-null int64\n",
      "MUSEUM_g           4024 non-null int64\n",
      "MUSEUM_h           4024 non-null int64\n",
      "MUSEUM_i           4024 non-null int64\n",
      "MUSEUM_j           4024 non-null int64\n",
      "MUSEUM_Refused     4024 non-null int64\n",
      "TOPICINT_a         4024 non-null int64\n",
      "TOPICINT_b         4024 non-null int64\n",
      "TOPICINT_c         4024 non-null int64\n",
      "TOPICINT_d         4024 non-null int64\n",
      "TOPICINT_e         4024 non-null int64\n",
      "TOPICINT_f         4024 non-null int64\n",
      "SCIOFTEN           4024 non-null int64\n",
      "TOPICS1            4024 non-null int64\n",
      "TOPICS2_a          4024 non-null int64\n",
      "TOPICS2_b          4024 non-null int64\n",
      "TOPICS2_c          4024 non-null int64\n",
      "TOPICS2_d          4024 non-null int64\n",
      "TOPICS2_e          4024 non-null int64\n",
      "TOPICS2_f          4024 non-null int64\n",
      "TOPICS2_g          4024 non-null int64\n",
      "TOPICS2_h          4024 non-null int64\n",
      "TOPICS2_i          4024 non-null int64\n",
      "TOPICS2_Refused    4024 non-null int64\n",
      "TOPICMOST          4024 non-null object\n",
      "SOURCE1            4024 non-null int64\n",
      "SOURCE2            4024 non-null int64\n",
      "ENJOY              4024 non-null int64\n",
      "KNOWLEDGE          4024 non-null int64\n",
      "SEEK               4024 non-null int64\n",
      "SOURCE3_a          4024 non-null int64\n",
      "SOURCE3_b          4024 non-null int64\n",
      "SOURCE3_c          4024 non-null int64\n",
      "SOURCE3_d          4024 non-null int64\n",
      "SOURCE3_e          4024 non-null int64\n",
      "SOURCE3_f          4024 non-null int64\n",
      "SOURCE3_g          4024 non-null int64\n",
      "SOURCE3_h          4024 non-null int64\n",
      "SOURCE3_i          4024 non-null int64\n",
      "SOURCE3_j          4024 non-null int64\n",
      "SOURCE3_k          4024 non-null int64\n",
      "SOURCE3_Refused    4024 non-null int64\n",
      "SOURCEALT          4024 non-null int64\n",
      "SCIWHY_a           4024 non-null int64\n",
      "SCIWHY_b           4024 non-null int64\n",
      "SCIWHY_c           4024 non-null int64\n",
      "SCIWHY_d           4024 non-null int64\n",
      "SCIWHY_e           4024 non-null int64\n",
      "SCIWHY_f           4024 non-null object\n",
      "SCIWHY_g           4024 non-null int64\n",
      "WHYNOT_a           4024 non-null int64\n",
      "WHYNOT_b           4024 non-null int64\n",
      "WHYNOT_c           4024 non-null int64\n",
      "WHYNOT_d           4024 non-null int64\n",
      "WHYNOT_e           4024 non-null int64\n",
      "WHYNOT_f           4024 non-null int64\n",
      "WHYNOT_g           4024 non-null int64\n",
      "WHYNOT_h           4024 non-null int64\n",
      "NEWSJOB            4024 non-null int64\n",
      "NEWSFACTS_a        4024 non-null int64\n",
      "NEWSFACTS_b        4024 non-null int64\n",
      "NEWSFACTS_c        4024 non-null int64\n",
      "NEWSFACTS_d        4024 non-null int64\n",
      "NEWSFACTS_e        4024 non-null int64\n",
      "NEWSFACTS_f        4024 non-null int64\n",
      "NEWSFACTS_g        4024 non-null int64\n",
      "NEWSFACTS_h        4024 non-null int64\n",
      "NEWSFACTS_i        4024 non-null int64\n",
      "STORIES_a          4024 non-null int64\n",
      "STORIES_b          4024 non-null int64\n",
      "dtypes: float64(1), int64(77), object(22)\n",
      "memory usage: 3.1+ MB\n"
     ]
    }
   ],
   "source": [
    "data.iloc[:, :100].info()"
   ]
  },
  {
   "cell_type": "code",
   "execution_count": 13,
   "metadata": {},
   "outputs": [
    {
     "name": "stdout",
     "output_type": "stream",
     "text": [
      "<class 'pandas.core.frame.DataFrame'>\n",
      "RangeIndex: 4024 entries, 0 to 4023\n",
      "Data columns (total 100 columns):\n",
      "STORIES_c             4024 non-null int64\n",
      "STORIES_d             4024 non-null int64\n",
      "STORIES_e             4024 non-null int64\n",
      "STORIES_f             4024 non-null int64\n",
      "STORIES_g             4024 non-null int64\n",
      "STORIES_h             4024 non-null int64\n",
      "STORIES_Refused       4024 non-null int64\n",
      "SNSUSE                4024 non-null int64\n",
      "SNSFREQ               4024 non-null object\n",
      "FOLLOW                4024 non-null object\n",
      "FOLLOWANTI            4024 non-null object\n",
      "SNSSCI                4024 non-null object\n",
      "SNSCLICK              4024 non-null object\n",
      "SNSSCIIMP             4024 non-null object\n",
      "SNSPOST_a             4024 non-null object\n",
      "SNSPOST_b             4024 non-null object\n",
      "SNSPOST_c             4024 non-null object\n",
      "SNSPOST_d             4024 non-null object\n",
      "SNSPOST_e             4024 non-null object\n",
      "SNSPOST_f             4024 non-null object\n",
      "SNSPOST_g             4024 non-null object\n",
      "SNSPOST_h             4024 non-null object\n",
      "SNSPOST_i             4024 non-null object\n",
      "SNSPOST_j             4024 non-null object\n",
      "SNSPOST_Refused       4024 non-null object\n",
      "SNSCHECK1_a           4024 non-null object\n",
      "SNSCHECK1_b           4024 non-null object\n",
      "SNSCHECK1_c           4024 non-null object\n",
      "SNSCHECK1_d           4024 non-null object\n",
      "SNSCHECK1_e           4024 non-null object\n",
      "SNSCHECK1_f           4024 non-null object\n",
      "SNSCHECK1_Refused     4024 non-null object\n",
      "SNSCHECK2_a           4024 non-null object\n",
      "SNSCHECK2_b           4024 non-null object\n",
      "SNSCHECK2_c           4024 non-null object\n",
      "SNSCHECK2_d           4024 non-null object\n",
      "SNSCHECK2_e           4024 non-null object\n",
      "SNSCHECK2_f           4024 non-null object\n",
      "SNSCHECK2_Refused     4024 non-null object\n",
      "SNSNEW                4024 non-null object\n",
      "SNSTRUST              4024 non-null object\n",
      "PROBSET_a             4024 non-null int64\n",
      "PROBSET_b             4024 non-null int64\n",
      "PROBSET_c             4024 non-null int64\n",
      "PROBSET_d             4024 non-null int64\n",
      "PROBSET_e             4024 non-null int64\n",
      "PROBSET_f             4024 non-null int64\n",
      "PROBSET_g             4024 non-null int64\n",
      "PROBSET_h             4024 non-null int64\n",
      "BLAME                 4024 non-null int64\n",
      "DISCUSS               4024 non-null int64\n",
      "LEAD                  4024 non-null object\n",
      "TURN                  4024 non-null object\n",
      "ENTCRIM1              4024 non-null int64\n",
      "ENTCRIM2              4024 non-null int64\n",
      "ENTCRIM3              4024 non-null int64\n",
      "ENTCRIM4              4024 non-null int64\n",
      "ENTHOSP1              4024 non-null int64\n",
      "ENTHOSP2              4024 non-null int64\n",
      "ENTHOSP3              4024 non-null int64\n",
      "ENTHOSP4              4024 non-null int64\n",
      "ENTSCIFI1             4024 non-null int64\n",
      "ENTSCIFI2             4024 non-null int64\n",
      "ENTSCIFI3             4024 non-null int64\n",
      "ENTSCIFI4             4024 non-null int64\n",
      "HOBBY                 4024 non-null int64\n",
      "LIST1_a               4024 non-null int64\n",
      "LIST1_b               4024 non-null int64\n",
      "LIST1_c               4024 non-null int64\n",
      "LIST1_d               4024 non-null int64\n",
      "LIST1_e               4024 non-null int64\n",
      "LIST1_f               4024 non-null int64\n",
      "LIST1_g               4024 non-null int64\n",
      "LIST1_h               4024 non-null int64\n",
      "LIST1_Refused         4024 non-null int64\n",
      "POLSOURCE1_1          4024 non-null int64\n",
      "POLSOURCE1_2          4024 non-null int64\n",
      "POLSOURCE1_3          4024 non-null int64\n",
      "POLSOURCE1_4          4024 non-null int64\n",
      "POLSOURCE1_5          4024 non-null int64\n",
      "POLSOURCE1_6          4024 non-null int64\n",
      "POLSOURCE1_99         4024 non-null int64\n",
      "POLSOURCE1_Refused    4024 non-null int64\n",
      "POLSOURCE2_1          4024 non-null int64\n",
      "POLSOURCE2_2          4024 non-null int64\n",
      "POLSOURCE2_3          4024 non-null int64\n",
      "POLSOURCE2_4          4024 non-null int64\n",
      "POLSOURCE2_5          4024 non-null int64\n",
      "POLSOURCE2_99         4024 non-null int64\n",
      "POLSOURCE2_Refused    4024 non-null int64\n",
      "PARTY                 4024 non-null int64\n",
      "PARTYLN               4024 non-null object\n",
      "IDEO                  4024 non-null int64\n",
      "XSPANISH              4024 non-null int64\n",
      "xparent               4024 non-null int64\n",
      "ppcm0160              4024 non-null int64\n",
      "IND1                  4024 non-null int64\n",
      "DOV_ACSLANG           4024 non-null int64\n",
      "DOV_PPP20072          4024 non-null int64\n",
      "DOV_PPC10017          4024 non-null int64\n",
      "dtypes: int64(64), object(36)\n",
      "memory usage: 3.1+ MB\n"
     ]
    }
   ],
   "source": [
    "data.iloc[:, 100:200].info()"
   ]
  },
  {
   "cell_type": "code",
   "execution_count": 15,
   "metadata": {},
   "outputs": [
    {
     "name": "stdout",
     "output_type": "stream",
     "text": [
      "<class 'pandas.core.frame.DataFrame'>\n",
      "RangeIndex: 4024 entries, 0 to 4023\n",
      "Data columns (total 24 columns):\n",
      "DOV_PPC20217    4024 non-null int64\n",
      "DOV_PPC21501    4024 non-null int64\n",
      "DOV_PPC11518    4024 non-null int64\n",
      "ppagecat        4024 non-null int64\n",
      "ppagect4        4024 non-null int64\n",
      "PPEDUCAT        4024 non-null int64\n",
      "PPETHM          4024 non-null int64\n",
      "PPGENDER        4024 non-null int64\n",
      "PPHHHEAD        4024 non-null int64\n",
      "PPHHSIZE        4024 non-null int64\n",
      "PPHOUSE         4024 non-null int64\n",
      "PPINCIMP        4024 non-null int64\n",
      "PPMARIT         4024 non-null int64\n",
      "PPMSACAT        4024 non-null int64\n",
      "PPREG4          4024 non-null int64\n",
      "ppreg9          4024 non-null int64\n",
      "PPRENT          4024 non-null int64\n",
      "PPWORK          4024 non-null int64\n",
      "AGE             4024 non-null int64\n",
      "PPT01_COL       4024 non-null int64\n",
      "PPT25_COL       4024 non-null int64\n",
      "PPT612_COL      4024 non-null int64\n",
      "PPT1317_COL     4024 non-null int64\n",
      "PPT18OV_COL     4024 non-null int64\n",
      "dtypes: int64(24)\n",
      "memory usage: 754.6 KB\n"
     ]
    }
   ],
   "source": [
    "data.iloc[:, 200:500].info()"
   ]
  },
  {
   "cell_type": "code",
   "execution_count": null,
   "metadata": {},
   "outputs": [],
   "source": []
  }
 ],
 "metadata": {
  "kernelspec": {
   "display_name": "Python 3",
   "language": "python",
   "name": "python3"
  },
  "language_info": {
   "codemirror_mode": {
    "name": "ipython",
    "version": 3
   },
   "file_extension": ".py",
   "mimetype": "text/x-python",
   "name": "python",
   "nbconvert_exporter": "python",
   "pygments_lexer": "ipython3",
   "version": "3.6.5"
  }
 },
 "nbformat": 4,
 "nbformat_minor": 2
}
